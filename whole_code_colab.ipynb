{
  "cells": [
    {
      "cell_type": "markdown",
      "metadata": {
        "id": "2Nf-Q_EBF7Yz"
      },
      "source": [
        "# **Computational Creativity Project**\n",
        "\n",
        "---\n",
        "\n",
        "### **Recipe generation and image generation based on the generated recipe using LSTM and Big Sleep**\n",
        "\n",
        "Samil Enes Basbug, Student ID: 210617146\n"
      ]
    },
    {
      "cell_type": "markdown",
      "metadata": {
        "id": "9yk5dllrF7T3"
      },
      "source": [
        "## Important information about this notebook:\n",
        "\n",
        "In this project, I built a text generation to generate chicken, meat, and fish recipes. Then, I utilized the Big Sleep model to generate images related to the recipes my model created. Please do not skip any line of code(run each piece of code respectively), I have already commented the training part out. The notebook is ready to be tested.\n",
        "\n",
        "1.   I built and deployed an web app, using Streamlit (is an open-source app framework), generating food recipes. I recommend you to visit this web app as well :)  https://share.streamlit.io/enesbasbug/food_recipe_generator/main/app.py\n",
        "\n",
        " (The only model embedded in the web app was Recipe(text) generation model. I could not work with Big Sleep locally since CUDA only works with Nvidia graphic card I did not have. Therefore, even though I integrated Big Sleep to my Text Generation model on my computer, Big Sleep did not work.) \n",
        "2.   You may also visit my GitHub https://github.com/enesbasbug/Food_Recipe_Generator repository to see many texts/images/gifs examples of my project.\n",
        "\n",
        "\n",
        "\n",
        "What you will see in this notebook respectively:\n",
        "*   Installing the OpenAI's CLIP and a BigGAN model, also known as Big Sleep.\n",
        "*   Importing the libraries necessary.\n",
        "*   Loading the pre-trained model for text/recipe generator.\n",
        "*   Loading the data, data cleaning and creating the files contain new data, which will be used by the text generator model\n",
        "*   Reading the data\n",
        "*   The common functions and variables that we will use\n",
        "*   Generating the Text/Recipe (You will see there are 3 similar, in order, blocks of codes to generate the recipes since there are 3 specific pre-trained models for fish, meat and chicken dishes.) You may execute and try them by yourself\n",
        "*   Determining the ingredients in the recipes\n",
        "*   Image generation from the recipe/text using Big Sleep. You may execute and try it by yourself.\n",
        "\n",
        "\n",
        "\n"
      ]
    },
    {
      "cell_type": "markdown",
      "metadata": {
        "id": "7wXVox2lKWkG"
      },
      "source": [
        "# Installing the Big Sleep Model for image generation and importing the libraries necessary\n",
        "- We will generate images using the generated text/recipes as inputs in last step"
      ]
    },
    {
      "cell_type": "code",
      "execution_count": null,
      "metadata": {
        "colab": {
          "base_uri": "https://localhost:8080/"
        },
        "id": "OUx_L9-o0ZWD",
        "outputId": "d1a09d36-925e-43c8-df07-7d05132c535a"
      },
      "outputs": [
        {
          "output_type": "stream",
          "name": "stdout",
          "text": [
            "Collecting big-sleep\n",
            "  Downloading big_sleep-0.9.1-py3-none-any.whl (1.4 MB)\n",
            "\u001b[K     |████████████████████████████████| 1.4 MB 6.6 MB/s \n",
            "\u001b[?25hCollecting ftfy\n",
            "  Downloading ftfy-6.1.1-py3-none-any.whl (53 kB)\n",
            "\u001b[K     |████████████████████████████████| 53 kB 2.0 MB/s \n",
            "\u001b[?25hRequirement already satisfied: torchvision>=0.8.2 in /usr/local/lib/python3.7/dist-packages (from big-sleep) (0.11.1+cu111)\n",
            "Collecting fire\n",
            "  Downloading fire-0.4.0.tar.gz (87 kB)\n",
            "\u001b[K     |████████████████████████████████| 87 kB 7.8 MB/s \n",
            "\u001b[?25hCollecting pytorch-pretrained-biggan\n",
            "  Downloading pytorch_pretrained_biggan-0.1.1-py3-none-any.whl (27 kB)\n",
            "Collecting einops>=0.3\n",
            "  Downloading einops-0.4.1-py3-none-any.whl (28 kB)\n",
            "Requirement already satisfied: torch>=1.7.1 in /usr/local/lib/python3.7/dist-packages (from big-sleep) (1.10.0+cu111)\n",
            "Requirement already satisfied: regex in /usr/local/lib/python3.7/dist-packages (from big-sleep) (2019.12.20)\n",
            "Requirement already satisfied: tqdm in /usr/local/lib/python3.7/dist-packages (from big-sleep) (4.64.0)\n",
            "Requirement already satisfied: typing-extensions in /usr/local/lib/python3.7/dist-packages (from torch>=1.7.1->big-sleep) (4.1.1)\n",
            "Requirement already satisfied: pillow!=8.3.0,>=5.3.0 in /usr/local/lib/python3.7/dist-packages (from torchvision>=0.8.2->big-sleep) (7.1.2)\n",
            "Requirement already satisfied: numpy in /usr/local/lib/python3.7/dist-packages (from torchvision>=0.8.2->big-sleep) (1.21.6)\n",
            "Requirement already satisfied: six in /usr/local/lib/python3.7/dist-packages (from fire->big-sleep) (1.15.0)\n",
            "Requirement already satisfied: termcolor in /usr/local/lib/python3.7/dist-packages (from fire->big-sleep) (1.1.0)\n",
            "Requirement already satisfied: wcwidth>=0.2.5 in /usr/local/lib/python3.7/dist-packages (from ftfy->big-sleep) (0.2.5)\n",
            "Collecting boto3\n",
            "  Downloading boto3-1.21.43-py3-none-any.whl (132 kB)\n",
            "\u001b[K     |████████████████████████████████| 132 kB 89.2 MB/s \n",
            "\u001b[?25hRequirement already satisfied: requests in /usr/local/lib/python3.7/dist-packages (from pytorch-pretrained-biggan->big-sleep) (2.23.0)\n",
            "Collecting s3transfer<0.6.0,>=0.5.0\n",
            "  Downloading s3transfer-0.5.2-py3-none-any.whl (79 kB)\n",
            "\u001b[K     |████████████████████████████████| 79 kB 10.8 MB/s \n",
            "\u001b[?25hCollecting botocore<1.25.0,>=1.24.43\n",
            "  Downloading botocore-1.24.43-py3-none-any.whl (8.7 MB)\n",
            "\u001b[K     |████████████████████████████████| 8.7 MB 50.9 MB/s \n",
            "\u001b[?25hCollecting jmespath<2.0.0,>=0.7.1\n",
            "  Downloading jmespath-1.0.0-py3-none-any.whl (23 kB)\n",
            "Requirement already satisfied: python-dateutil<3.0.0,>=2.1 in /usr/local/lib/python3.7/dist-packages (from botocore<1.25.0,>=1.24.43->boto3->pytorch-pretrained-biggan->big-sleep) (2.8.2)\n",
            "Collecting urllib3<1.27,>=1.25.4\n",
            "  Downloading urllib3-1.26.9-py2.py3-none-any.whl (138 kB)\n",
            "\u001b[K     |████████████████████████████████| 138 kB 59.7 MB/s \n",
            "\u001b[?25h  Downloading urllib3-1.25.11-py2.py3-none-any.whl (127 kB)\n",
            "\u001b[K     |████████████████████████████████| 127 kB 61.9 MB/s \n",
            "\u001b[?25hRequirement already satisfied: certifi>=2017.4.17 in /usr/local/lib/python3.7/dist-packages (from requests->pytorch-pretrained-biggan->big-sleep) (2021.10.8)\n",
            "Requirement already satisfied: chardet<4,>=3.0.2 in /usr/local/lib/python3.7/dist-packages (from requests->pytorch-pretrained-biggan->big-sleep) (3.0.4)\n",
            "Requirement already satisfied: idna<3,>=2.5 in /usr/local/lib/python3.7/dist-packages (from requests->pytorch-pretrained-biggan->big-sleep) (2.10)\n",
            "Building wheels for collected packages: fire\n",
            "  Building wheel for fire (setup.py) ... \u001b[?25l\u001b[?25hdone\n",
            "  Created wheel for fire: filename=fire-0.4.0-py2.py3-none-any.whl size=115942 sha256=97660fda6a858c2e3a50341f73b338408435970a072f29d9e065e500668180ce\n",
            "  Stored in directory: /root/.cache/pip/wheels/8a/67/fb/2e8a12fa16661b9d5af1f654bd199366799740a85c64981226\n",
            "Successfully built fire\n",
            "Installing collected packages: urllib3, jmespath, botocore, s3transfer, boto3, pytorch-pretrained-biggan, ftfy, fire, einops, big-sleep\n",
            "  Attempting uninstall: urllib3\n",
            "    Found existing installation: urllib3 1.24.3\n",
            "    Uninstalling urllib3-1.24.3:\n",
            "      Successfully uninstalled urllib3-1.24.3\n",
            "\u001b[31mERROR: pip's dependency resolver does not currently take into account all the packages that are installed. This behaviour is the source of the following dependency conflicts.\n",
            "datascience 0.10.6 requires folium==0.2.1, but you have folium 0.8.3 which is incompatible.\u001b[0m\n",
            "Successfully installed big-sleep-0.9.1 boto3-1.21.43 botocore-1.24.43 einops-0.4.1 fire-0.4.0 ftfy-6.1.1 jmespath-1.0.0 pytorch-pretrained-biggan-0.1.1 s3transfer-0.5.2 urllib3-1.25.11\n"
          ]
        }
      ],
      "source": [
        "!pip install big-sleep"
      ]
    },
    {
      "cell_type": "code",
      "execution_count": null,
      "metadata": {
        "id": "U-9-_M_H133l"
      },
      "outputs": [],
      "source": [
        "import pandas as pd \n",
        "import numpy as np\n",
        "import tensorflow as tf\n",
        "import matplotlib.pyplot as plt\n",
        "import seaborn as sns\n",
        "import os\n",
        "import re\n",
        "from tensorflow.keras.models import Sequential\n",
        "from tensorflow.keras.layers import LSTM,Dense,Embedding,Dropout, Bidirectional\n",
        "from tensorflow.keras import regularizers\n",
        "from tensorflow.keras.losses import sparse_categorical_crossentropy\n",
        "\n",
        "from tqdm.notebook import trange\n",
        "from IPython.display import Image, display\n",
        "\n",
        "from big_sleep import Imagine"
      ]
    },
    {
      "cell_type": "markdown",
      "metadata": {
        "id": "lCBUDchCj3Xh"
      },
      "source": [
        "# Load pre-trained data from Google Drive \n",
        "- Pre-trained (70 Epochs) Models for Chicken, Meat and Fish recipes.\n",
        "- Please, when you run this line of code check the left side where these downloaded models need to be. Sometimes the last model would not be there, which means it has not been downloaded. In this case, rerun this line of code, please. There supposed to be 3 different models named chicken_model.h5, meat_model.h5 and fish_model.h5. Then, you can see all of them there.\n",
        "\n"
      ]
    },
    {
      "cell_type": "code",
      "execution_count": null,
      "metadata": {
        "colab": {
          "base_uri": "https://localhost:8080/"
        },
        "id": "4xMAh8b6_FAP",
        "outputId": "cdade2ec-9736-48c4-ff03-72e0ca5f1b52"
      },
      "outputs": [
        {
          "output_type": "stream",
          "name": "stdout",
          "text": [
            "Downloading...\n",
            "From: https://drive.google.com/uc?id=1TtC9S4b5KSGcDeVaLzaciAr7rCwO4Bgv\n",
            "To: /content/chicken_model.h5\n",
            "100% 164M/164M [00:03<00:00, 48.9MB/s]\n",
            "Downloading...\n",
            "From: https://drive.google.com/uc?id=1s9Tw0gOfaNnfZTS3stDp6lpk4UeqfuAo\n",
            "To: /content/meat_model.h5\n",
            "100% 164M/164M [00:03<00:00, 43.3MB/s]\n",
            "Downloading...\n",
            "From: https://drive.google.com/uc?id=1h6xCW_gpfunhAmXZ9TonC6Xr-Q_Nz7Tz\n",
            "To: /content/fish_model.h5\n",
            "100% 164M/164M [00:03<00:00, 42.2MB/s]\n"
          ]
        }
      ],
      "source": [
        "! gdown -- 1TtC9S4b5KSGcDeVaLzaciAr7rCwO4Bgv # https://drive.google.com/file/d/1TtC9S4b5KSGcDeVaLzaciAr7rCwO4Bgv/view?usp=sharing # model for chicken dish \n",
        "\n",
        "! gdown -- 1s9Tw0gOfaNnfZTS3stDp6lpk4UeqfuAo # https://drive.google.com/file/d/1s9Tw0gOfaNnfZTS3stDp6lpk4UeqfuAo/view?usp=sharing # model for meat dish\n",
        "\n",
        "! gdown -- 1h6xCW_gpfunhAmXZ9TonC6Xr-Q_Nz7Tz # https://drive.google.com/file/d/1h6xCW_gpfunhAmXZ9TonC6Xr-Q_Nz7Tz/view?usp=sharing # model for fish dish"
      ]
    },
    {
      "cell_type": "markdown",
      "metadata": {
        "id": "h3ry7vDytkaw"
      },
      "source": [
        "#Data Cleaning"
      ]
    },
    {
      "cell_type": "code",
      "execution_count": null,
      "metadata": {
        "colab": {
          "base_uri": "https://localhost:8080/"
        },
        "id": "N51dGhKXcSsd",
        "outputId": "85490958-c9a4-42ae-ff02-dcef6f290c3c"
      },
      "outputs": [
        {
          "output_type": "execute_result",
          "data": {
            "text/plain": [
              "   category                                     cooking_method       cuisine  \\\n",
              "0       NaN  ['Set the racks in the middle and upper thirds...  ['American']   \n",
              "1       NaN  ['Place the eggs in the air fryer basket and c...  ['American']   \n",
              "\n",
              "                                               image  \\\n",
              "0  https://www.skinnytaste.com/wp-content/uploads...   \n",
              "1  https://www.skinnytaste.com/wp-content/uploads...   \n",
              "\n",
              "                                         ingredients   prep_time  \\\n",
              "0  ['1 tablespoons extra virgin olive oil', '1 cu...  20 minutes   \n",
              "1  ['4 large eggs', 'Salt (black pepper, everythi...  15 minutes   \n",
              "\n",
              "                  recipe_name      serves  \\\n",
              "0      Mediterranean Sea Bass  4 servings   \n",
              "1  Air Fryer Hard Boiled Eggs      4 eggs   \n",
              "\n",
              "                                                tags  \n",
              "0  Dairy Free, Gluten Free, Keto Recipes, Kid Fri...  \n",
              "1  Air Fryer Recipes, Dairy Free, Gluten Free, Ke...  "
            ],
            "text/html": [
              "\n",
              "  <div id=\"df-dea01325-d89c-43a1-99e2-98eb5c4d5f11\">\n",
              "    <div class=\"colab-df-container\">\n",
              "      <div>\n",
              "<style scoped>\n",
              "    .dataframe tbody tr th:only-of-type {\n",
              "        vertical-align: middle;\n",
              "    }\n",
              "\n",
              "    .dataframe tbody tr th {\n",
              "        vertical-align: top;\n",
              "    }\n",
              "\n",
              "    .dataframe thead th {\n",
              "        text-align: right;\n",
              "    }\n",
              "</style>\n",
              "<table border=\"1\" class=\"dataframe\">\n",
              "  <thead>\n",
              "    <tr style=\"text-align: right;\">\n",
              "      <th></th>\n",
              "      <th>category</th>\n",
              "      <th>cooking_method</th>\n",
              "      <th>cuisine</th>\n",
              "      <th>image</th>\n",
              "      <th>ingredients</th>\n",
              "      <th>prep_time</th>\n",
              "      <th>recipe_name</th>\n",
              "      <th>serves</th>\n",
              "      <th>tags</th>\n",
              "    </tr>\n",
              "  </thead>\n",
              "  <tbody>\n",
              "    <tr>\n",
              "      <th>0</th>\n",
              "      <td>NaN</td>\n",
              "      <td>['Set the racks in the middle and upper thirds...</td>\n",
              "      <td>['American']</td>\n",
              "      <td>https://www.skinnytaste.com/wp-content/uploads...</td>\n",
              "      <td>['1 tablespoons extra virgin olive oil', '1 cu...</td>\n",
              "      <td>20 minutes</td>\n",
              "      <td>Mediterranean Sea Bass</td>\n",
              "      <td>4 servings</td>\n",
              "      <td>Dairy Free, Gluten Free, Keto Recipes, Kid Fri...</td>\n",
              "    </tr>\n",
              "    <tr>\n",
              "      <th>1</th>\n",
              "      <td>NaN</td>\n",
              "      <td>['Place the eggs in the air fryer basket and c...</td>\n",
              "      <td>['American']</td>\n",
              "      <td>https://www.skinnytaste.com/wp-content/uploads...</td>\n",
              "      <td>['4 large eggs', 'Salt (black pepper, everythi...</td>\n",
              "      <td>15 minutes</td>\n",
              "      <td>Air Fryer Hard Boiled Eggs</td>\n",
              "      <td>4 eggs</td>\n",
              "      <td>Air Fryer Recipes, Dairy Free, Gluten Free, Ke...</td>\n",
              "    </tr>\n",
              "  </tbody>\n",
              "</table>\n",
              "</div>\n",
              "      <button class=\"colab-df-convert\" onclick=\"convertToInteractive('df-dea01325-d89c-43a1-99e2-98eb5c4d5f11')\"\n",
              "              title=\"Convert this dataframe to an interactive table.\"\n",
              "              style=\"display:none;\">\n",
              "        \n",
              "  <svg xmlns=\"http://www.w3.org/2000/svg\" height=\"24px\"viewBox=\"0 0 24 24\"\n",
              "       width=\"24px\">\n",
              "    <path d=\"M0 0h24v24H0V0z\" fill=\"none\"/>\n",
              "    <path d=\"M18.56 5.44l.94 2.06.94-2.06 2.06-.94-2.06-.94-.94-2.06-.94 2.06-2.06.94zm-11 1L8.5 8.5l.94-2.06 2.06-.94-2.06-.94L8.5 2.5l-.94 2.06-2.06.94zm10 10l.94 2.06.94-2.06 2.06-.94-2.06-.94-.94-2.06-.94 2.06-2.06.94z\"/><path d=\"M17.41 7.96l-1.37-1.37c-.4-.4-.92-.59-1.43-.59-.52 0-1.04.2-1.43.59L10.3 9.45l-7.72 7.72c-.78.78-.78 2.05 0 2.83L4 21.41c.39.39.9.59 1.41.59.51 0 1.02-.2 1.41-.59l7.78-7.78 2.81-2.81c.8-.78.8-2.07 0-2.86zM5.41 20L4 18.59l7.72-7.72 1.47 1.35L5.41 20z\"/>\n",
              "  </svg>\n",
              "      </button>\n",
              "      \n",
              "  <style>\n",
              "    .colab-df-container {\n",
              "      display:flex;\n",
              "      flex-wrap:wrap;\n",
              "      gap: 12px;\n",
              "    }\n",
              "\n",
              "    .colab-df-convert {\n",
              "      background-color: #E8F0FE;\n",
              "      border: none;\n",
              "      border-radius: 50%;\n",
              "      cursor: pointer;\n",
              "      display: none;\n",
              "      fill: #1967D2;\n",
              "      height: 32px;\n",
              "      padding: 0 0 0 0;\n",
              "      width: 32px;\n",
              "    }\n",
              "\n",
              "    .colab-df-convert:hover {\n",
              "      background-color: #E2EBFA;\n",
              "      box-shadow: 0px 1px 2px rgba(60, 64, 67, 0.3), 0px 1px 3px 1px rgba(60, 64, 67, 0.15);\n",
              "      fill: #174EA6;\n",
              "    }\n",
              "\n",
              "    [theme=dark] .colab-df-convert {\n",
              "      background-color: #3B4455;\n",
              "      fill: #D2E3FC;\n",
              "    }\n",
              "\n",
              "    [theme=dark] .colab-df-convert:hover {\n",
              "      background-color: #434B5C;\n",
              "      box-shadow: 0px 1px 3px 1px rgba(0, 0, 0, 0.15);\n",
              "      filter: drop-shadow(0px 1px 2px rgba(0, 0, 0, 0.3));\n",
              "      fill: #FFFFFF;\n",
              "    }\n",
              "  </style>\n",
              "\n",
              "      <script>\n",
              "        const buttonEl =\n",
              "          document.querySelector('#df-dea01325-d89c-43a1-99e2-98eb5c4d5f11 button.colab-df-convert');\n",
              "        buttonEl.style.display =\n",
              "          google.colab.kernel.accessAllowed ? 'block' : 'none';\n",
              "\n",
              "        async function convertToInteractive(key) {\n",
              "          const element = document.querySelector('#df-dea01325-d89c-43a1-99e2-98eb5c4d5f11');\n",
              "          const dataTable =\n",
              "            await google.colab.kernel.invokeFunction('convertToInteractive',\n",
              "                                                     [key], {});\n",
              "          if (!dataTable) return;\n",
              "\n",
              "          const docLinkHtml = 'Like what you see? Visit the ' +\n",
              "            '<a target=\"_blank\" href=https://colab.research.google.com/notebooks/data_table.ipynb>data table notebook</a>'\n",
              "            + ' to learn more about interactive tables.';\n",
              "          element.innerHTML = '';\n",
              "          dataTable['output_type'] = 'display_data';\n",
              "          await google.colab.output.renderOutput(dataTable, element);\n",
              "          const docLink = document.createElement('div');\n",
              "          docLink.innerHTML = docLinkHtml;\n",
              "          element.appendChild(docLink);\n",
              "        }\n",
              "      </script>\n",
              "    </div>\n",
              "  </div>\n",
              "  "
            ]
          },
          "metadata": {},
          "execution_count": 4
        }
      ],
      "source": [
        "import pandas as pd\n",
        "#@title Reading data stored in CSV files  \n",
        "# I did not get the data from Kaggle directly since it required API token, which would be a problem for the reader/user. \n",
        "# Therefore, I upload the raw data to my GitHub repository and call it from here.\n",
        "\n",
        "url = 'https://raw.githubusercontent.com/enesbasbug/Generate_image_from_generated_text/main/data_recipe.csv'\n",
        "# just in case, you can comment out above and use the url below \n",
        "# url = 'https://raw.githubusercontent.com/enesbasbug/Food_Recipe_Generator/main/data_recipe.csv' ## https://github.com/enesbasbug/Food_Recipe_Generator/blob/main/data_recipe.csv\n",
        "\n",
        "df = pd.read_csv(url, index_col=0)\n",
        "df.head(2)"
      ]
    },
    {
      "cell_type": "code",
      "execution_count": null,
      "metadata": {
        "id": "0ZZ5ebLegpp8"
      },
      "outputs": [],
      "source": [
        "#@title Removing unnecessary features of the data\n",
        "df.drop(columns=['category', 'cuisine', 'image', 'prep_time', 'serves', 'tags', 'recipe_name'], inplace=True)"
      ]
    },
    {
      "cell_type": "code",
      "execution_count": null,
      "metadata": {
        "colab": {
          "base_uri": "https://localhost:8080/"
        },
        "id": "AaK8t8v_guDa",
        "outputId": "5482b431-46e9-493f-9a77-959191c54f0f"
      },
      "outputs": [
        {
          "output_type": "execute_result",
          "data": {
            "text/plain": [
              "                                      cooking_method  \\\n",
              "0  ['Set the racks in the middle and upper thirds...   \n",
              "1  ['Place the eggs in the air fryer basket and c...   \n",
              "\n",
              "                                         ingredients  \n",
              "0  ['1 tablespoons extra virgin olive oil', '1 cu...  \n",
              "1  ['4 large eggs', 'Salt (black pepper, everythi...  "
            ],
            "text/html": [
              "\n",
              "  <div id=\"df-d258f7e5-cf06-4d81-a868-2a7744c207af\">\n",
              "    <div class=\"colab-df-container\">\n",
              "      <div>\n",
              "<style scoped>\n",
              "    .dataframe tbody tr th:only-of-type {\n",
              "        vertical-align: middle;\n",
              "    }\n",
              "\n",
              "    .dataframe tbody tr th {\n",
              "        vertical-align: top;\n",
              "    }\n",
              "\n",
              "    .dataframe thead th {\n",
              "        text-align: right;\n",
              "    }\n",
              "</style>\n",
              "<table border=\"1\" class=\"dataframe\">\n",
              "  <thead>\n",
              "    <tr style=\"text-align: right;\">\n",
              "      <th></th>\n",
              "      <th>cooking_method</th>\n",
              "      <th>ingredients</th>\n",
              "    </tr>\n",
              "  </thead>\n",
              "  <tbody>\n",
              "    <tr>\n",
              "      <th>0</th>\n",
              "      <td>['Set the racks in the middle and upper thirds...</td>\n",
              "      <td>['1 tablespoons extra virgin olive oil', '1 cu...</td>\n",
              "    </tr>\n",
              "    <tr>\n",
              "      <th>1</th>\n",
              "      <td>['Place the eggs in the air fryer basket and c...</td>\n",
              "      <td>['4 large eggs', 'Salt (black pepper, everythi...</td>\n",
              "    </tr>\n",
              "  </tbody>\n",
              "</table>\n",
              "</div>\n",
              "      <button class=\"colab-df-convert\" onclick=\"convertToInteractive('df-d258f7e5-cf06-4d81-a868-2a7744c207af')\"\n",
              "              title=\"Convert this dataframe to an interactive table.\"\n",
              "              style=\"display:none;\">\n",
              "        \n",
              "  <svg xmlns=\"http://www.w3.org/2000/svg\" height=\"24px\"viewBox=\"0 0 24 24\"\n",
              "       width=\"24px\">\n",
              "    <path d=\"M0 0h24v24H0V0z\" fill=\"none\"/>\n",
              "    <path d=\"M18.56 5.44l.94 2.06.94-2.06 2.06-.94-2.06-.94-.94-2.06-.94 2.06-2.06.94zm-11 1L8.5 8.5l.94-2.06 2.06-.94-2.06-.94L8.5 2.5l-.94 2.06-2.06.94zm10 10l.94 2.06.94-2.06 2.06-.94-2.06-.94-.94-2.06-.94 2.06-2.06.94z\"/><path d=\"M17.41 7.96l-1.37-1.37c-.4-.4-.92-.59-1.43-.59-.52 0-1.04.2-1.43.59L10.3 9.45l-7.72 7.72c-.78.78-.78 2.05 0 2.83L4 21.41c.39.39.9.59 1.41.59.51 0 1.02-.2 1.41-.59l7.78-7.78 2.81-2.81c.8-.78.8-2.07 0-2.86zM5.41 20L4 18.59l7.72-7.72 1.47 1.35L5.41 20z\"/>\n",
              "  </svg>\n",
              "      </button>\n",
              "      \n",
              "  <style>\n",
              "    .colab-df-container {\n",
              "      display:flex;\n",
              "      flex-wrap:wrap;\n",
              "      gap: 12px;\n",
              "    }\n",
              "\n",
              "    .colab-df-convert {\n",
              "      background-color: #E8F0FE;\n",
              "      border: none;\n",
              "      border-radius: 50%;\n",
              "      cursor: pointer;\n",
              "      display: none;\n",
              "      fill: #1967D2;\n",
              "      height: 32px;\n",
              "      padding: 0 0 0 0;\n",
              "      width: 32px;\n",
              "    }\n",
              "\n",
              "    .colab-df-convert:hover {\n",
              "      background-color: #E2EBFA;\n",
              "      box-shadow: 0px 1px 2px rgba(60, 64, 67, 0.3), 0px 1px 3px 1px rgba(60, 64, 67, 0.15);\n",
              "      fill: #174EA6;\n",
              "    }\n",
              "\n",
              "    [theme=dark] .colab-df-convert {\n",
              "      background-color: #3B4455;\n",
              "      fill: #D2E3FC;\n",
              "    }\n",
              "\n",
              "    [theme=dark] .colab-df-convert:hover {\n",
              "      background-color: #434B5C;\n",
              "      box-shadow: 0px 1px 3px 1px rgba(0, 0, 0, 0.15);\n",
              "      filter: drop-shadow(0px 1px 2px rgba(0, 0, 0, 0.3));\n",
              "      fill: #FFFFFF;\n",
              "    }\n",
              "  </style>\n",
              "\n",
              "      <script>\n",
              "        const buttonEl =\n",
              "          document.querySelector('#df-d258f7e5-cf06-4d81-a868-2a7744c207af button.colab-df-convert');\n",
              "        buttonEl.style.display =\n",
              "          google.colab.kernel.accessAllowed ? 'block' : 'none';\n",
              "\n",
              "        async function convertToInteractive(key) {\n",
              "          const element = document.querySelector('#df-d258f7e5-cf06-4d81-a868-2a7744c207af');\n",
              "          const dataTable =\n",
              "            await google.colab.kernel.invokeFunction('convertToInteractive',\n",
              "                                                     [key], {});\n",
              "          if (!dataTable) return;\n",
              "\n",
              "          const docLinkHtml = 'Like what you see? Visit the ' +\n",
              "            '<a target=\"_blank\" href=https://colab.research.google.com/notebooks/data_table.ipynb>data table notebook</a>'\n",
              "            + ' to learn more about interactive tables.';\n",
              "          element.innerHTML = '';\n",
              "          dataTable['output_type'] = 'display_data';\n",
              "          await google.colab.output.renderOutput(dataTable, element);\n",
              "          const docLink = document.createElement('div');\n",
              "          docLink.innerHTML = docLinkHtml;\n",
              "          element.appendChild(docLink);\n",
              "        }\n",
              "      </script>\n",
              "    </div>\n",
              "  </div>\n",
              "  "
            ]
          },
          "metadata": {},
          "execution_count": 6
        }
      ],
      "source": [
        "df.head(2)"
      ]
    },
    {
      "cell_type": "code",
      "execution_count": null,
      "metadata": {
        "id": "dqpdtI7Jg47p"
      },
      "outputs": [],
      "source": [
        "#@title Cleaning the data\n",
        "for i in df.columns:\n",
        "    df[i].replace('[]', np.nan, inplace=True)\n",
        "\n",
        "for i in df.columns:\n",
        "    df.dropna(subset=[i], inplace=True)\n",
        "\n",
        "df = df.reset_index(drop=True)"
      ]
    },
    {
      "cell_type": "code",
      "execution_count": null,
      "metadata": {
        "id": "hyrLA4p-g4tS"
      },
      "outputs": [],
      "source": [
        "#@title Categorizing the recipes in the date base on its type of meat such as chicken, meat and fish\n",
        "df['chicken'] = [1 if 'chicken' in s.lower() else 0 for s in df['ingredients']]\n",
        "\n",
        "df['meat'] = [1 if ('beef' or 'meat' or 'pork' or 'bacon') in s.lower() else 0 for s in df['ingredients']]\n",
        "                            \n",
        "df['fish'] = [1 if ('fish' or 'salmon' or 'sea bass') in s.lower() else 0 for s in df['ingredients']]"
      ]
    },
    {
      "cell_type": "code",
      "execution_count": null,
      "metadata": {
        "colab": {
          "base_uri": "https://localhost:8080/"
        },
        "id": "ikWSRTRAhC_e",
        "outputId": "9d6b630b-01cb-4454-9b18-f238f38daa95"
      },
      "outputs": [
        {
          "output_type": "stream",
          "name": "stdout",
          "text": [
            "56312\n",
            "56312\n",
            "56312\n"
          ]
        }
      ],
      "source": [
        "print(len(df.chicken))\n",
        "print(len(df.meat))\n",
        "print(len(df.fish))"
      ]
    },
    {
      "cell_type": "code",
      "execution_count": null,
      "metadata": {
        "id": "bwkfvXUrhC7W"
      },
      "outputs": [],
      "source": [
        "#@title Text adjustments\n",
        "\n",
        "import re\n",
        "from string import punctuation\n",
        "# I wanted to keep ',' and '.' in the text so that the generated text/recipe seems real, accurate and easy to read.\n",
        "# The only punctuations the text have dot and comma.\n",
        "my_punctuation = punctuation.replace(\".\",\"\")\n",
        "my_punctuation = my_punctuation.replace(\",\",\"\")\n",
        "\n",
        "\n",
        "c = [df['cooking_method'][i].lower() for i in range(len(df)) if (df['chicken'][i] == 1)]\n",
        "c = ''.join(c)\n",
        "chicken = c.translate(str.maketrans(\"\", \"\", my_punctuation))\n",
        "\n",
        "m = [df['cooking_method'][i].lower() for i in range(len(df)) if (df['meat'][i] == 1)]\n",
        "m = ''.join(m)\n",
        "meat = m.translate(str.maketrans(\"\", \"\", my_punctuation))\n",
        "\n",
        "f = [df['cooking_method'][i].lower() for i in range(len(df)) if (df['fish'][i] == 1)]\n",
        "f = ''.join(f)\n",
        "fish = f.translate(str.maketrans(\"\", \"\", my_punctuation))\n",
        "\n",
        "ingredients = [df['ingredients'][i].lower() for i in range(len(df))]\n",
        "ingredients = ''.join(f)\n",
        "ingredients = f.translate(str.maketrans(\"\", \"\", punctuation))\n",
        "\n"
      ]
    },
    {
      "cell_type": "code",
      "execution_count": null,
      "metadata": {
        "id": "l986zTFshC4n"
      },
      "outputs": [],
      "source": [
        "#@title I limited the number of characters in the text files\n",
        "fish = fish[:500000]\n",
        "chicken = chicken[:500000]\n",
        "meat = meat[:500000]\n",
        "ingredients = ingredients[:10000]"
      ]
    },
    {
      "cell_type": "code",
      "execution_count": null,
      "metadata": {
        "colab": {
          "base_uri": "https://localhost:8080/"
        },
        "id": "5_VKeOWphf9V",
        "outputId": "7134472c-9ef2-43c6-b8f6-11fa0bdaf472"
      },
      "outputs": [
        {
          "output_type": "stream",
          "name": "stdout",
          "text": [
            "500000\n",
            "500000\n",
            "500000\n",
            "10000\n"
          ]
        }
      ],
      "source": [
        "print(len(fish))\n",
        "print(len(meat))\n",
        "print(len(fish))\n",
        "print(len(ingredients))"
      ]
    },
    {
      "cell_type": "code",
      "execution_count": null,
      "metadata": {
        "id": "8t0Nmw6mhmfr"
      },
      "outputs": [],
      "source": [
        "#@title Exporting the data for fish, meat and chicken\n",
        "file_f = open(\"fish.txt\",\"w\")#write mode\n",
        "file_f.write(fish)\n",
        "file_f.close()\n",
        "\n",
        "file_m = open(\"meat.txt\",\"w\")#write mode\n",
        "file_m.write(meat)\n",
        "file_m.close()\n",
        "\n",
        "file_c = open(\"chicken.txt\",\"w\")#write mode\n",
        "file_c.write(chicken)\n",
        "file_c.close()\n",
        "\n",
        "file_i = open(\"ingredients.txt\",\"w\")#write mode\n",
        "file_i.write(ingredients)\n",
        "file_i.close()"
      ]
    },
    {
      "cell_type": "markdown",
      "metadata": {
        "id": "7ziS5I1Ltmbl"
      },
      "source": [
        "# Reading the data"
      ]
    },
    {
      "cell_type": "code",
      "execution_count": null,
      "metadata": {
        "colab": {
          "base_uri": "https://localhost:8080/"
        },
        "id": "i0FZptBS17Zw",
        "outputId": "d49ecd74-dd6a-4c01-bdb1-a58ed585f9c2"
      },
      "outputs": [
        {
          "output_type": "stream",
          "name": "stdout",
          "text": [
            "500000\n",
            "500000\n",
            "500000\n",
            "10000\n"
          ]
        }
      ],
      "source": [
        "TEXT_chicken = open('chicken.txt', 'rb').read().decode(encoding='utf-8')\n",
        "TEXT_meat = open('meat.txt', 'rb').read().decode(encoding='utf-8')\n",
        "TEXT_fish = open('fish.txt', 'rb').read().decode(encoding='utf-8')\n",
        "TEXT_ingredients = open('ingredients.txt', 'rb').read().decode(encoding='utf-8')\n",
        "# checking the number of characters in it\n",
        "print(len(TEXT_chicken))\n",
        "print(len(TEXT_meat))\n",
        "print(len(TEXT_fish))\n",
        "print(len(TEXT_ingredients))"
      ]
    },
    {
      "cell_type": "markdown",
      "metadata": {
        "id": "iVipFU7A218o"
      },
      "source": [
        "# Common functions that recipe generation model uses"
      ]
    },
    {
      "cell_type": "code",
      "execution_count": null,
      "metadata": {
        "id": "vU8rKayN22b8"
      },
      "outputs": [],
      "source": [
        "#@title Common functions we will use for recipe generation\n",
        "# Reference: Some of functions are similar to the week-3 Lab notebook provided for the Computational Creativity Lab.\n",
        "\n",
        "def split_input_target(chunk):\n",
        "    input_TEXT = chunk[:-1]\n",
        "    target_TEXT = chunk[1:]\n",
        "    return input_TEXT, target_TEXT\n",
        "\n",
        "def loss(y_true,y_pred):\n",
        "  return sparse_categorical_crossentropy(y_true, y_pred, from_logits=True)\n",
        "\n",
        "def build_model(vocab_size, embedding_dim, rnn_units, batch_size):\n",
        "    model = Sequential()\n",
        "    model.add(Embedding(vocab_size, embedding_dim,batch_input_shape=[batch_size, None]))\n",
        "    model.add(LSTM(rnn_units,return_sequences=True,stateful=True,recurrent_initializer='glorot_uniform'))\n",
        "    model.add(Dropout(0.2))\n",
        "    model.add(LSTM(rnn_units,return_sequences=True,stateful=True,recurrent_initializer='glorot_uniform'))\n",
        "    model.add(Dropout(0.2))\n",
        "    \n",
        "    # Final Dense Layer to Predict\n",
        "    model.add(Dense(vocab_size))\n",
        "    model.compile(optimizer='adam', loss=loss) \n",
        "    # print(model.summary())\n",
        "    return model\n",
        "\n",
        "def generate_text(model, start_string,t):\n",
        "    \n",
        "    # Number of characters to generate\n",
        "    num_generate = 1000\n",
        "    # vectorizing - Converting our start string to numbers \n",
        "    input_eval = [char2idx[s] for s in start_string]\n",
        "    input_eval = tf.expand_dims(input_eval, 0)\n",
        "    # Empty string to store our results\n",
        "    text_generated = []\n",
        "    # Low temperature results in more predictable text.\n",
        "    # Higher temperature results in more surprising text.\n",
        "    # Experiment to find the best setting.\n",
        "    temperature = t\n",
        "    # Here batch size == 1\n",
        "    model.reset_states()\n",
        "    for i in range(num_generate):\n",
        "        predictions = model(input_eval)\n",
        "        # remove the batch dimension\n",
        "        predictions = tf.squeeze(predictions, 0)\n",
        "        # using a categorical distribution to predict the character returned by the model\n",
        "        predictions = predictions / temperature\n",
        "        predicted_id = tf.random.categorical(predictions, num_samples=1)[-1,0].numpy()\n",
        "        # Pass the predicted character as the next input to the model\n",
        "        # along with the previous hidden state\n",
        "        input_eval = tf.expand_dims([predicted_id], 0)\n",
        "        text_generated.append(idx2char[predicted_id])\n",
        "    return (start_string + ''.join(text_generated))\n",
        "\n",
        "\n",
        "# Tring to find items in the recipes; however, it was not that successfull due to the\n",
        "# the ingredients in the data was long terms instead of one words. Therefore, I could not\n",
        "# compare the items in the generated recipe with the items in the ingrediens text file.\n",
        "# for instance, in the ingredients data there was '1 spoon of olive oil' instead of just 'olive oil'\n",
        "# so that i could not extract the items in generated recipe properly.\n",
        "def word_extraction(text):\n",
        "  ignore = [\"a\", \"the\", \"is\", \"to\", \"until\",\"about\",\"with\",\"and\",\"as\",\"add\",\"on\",\"in\",\"at\",\"of\",\"over\",\"around\",\"knife\",\"sharp\",\"pairing\",\"once\",\"comes\",\"for\",\"minutes\",\"hours\"]\n",
        "  words = re.sub(\"[^\\w]\", \" \",  text).split()\n",
        "  cleaned_text = [w.lower() for w in words if w not in ignore]\n",
        "  output_ingredients = [\"\".join(a) for a in cleaned_text if a in ingredients]\n",
        "  return output_ingredients\n",
        "\n",
        "\n",
        "# Directory where the checkpoints will be saved\n",
        "checkpoint_dir = './training_checkpoints'\n",
        "# Name of the checkpoint files\n",
        "checkpoint_prefix = os.path.join(checkpoint_dir, \"ckpt_{epoch}\")\n",
        "checkpoint_callback = tf.keras.callbacks.ModelCheckpoint(\n",
        "    filepath=checkpoint_prefix,\n",
        "    save_weights_only=True)\n",
        "\n"
      ]
    },
    {
      "cell_type": "markdown",
      "source": [
        "# Parameters for the training model"
      ],
      "metadata": {
        "id": "RJWpaCy8emAK"
      }
    },
    {
      "cell_type": "code",
      "source": [
        "# pre-trained models utilized these parameters below\n",
        "\n",
        "BATCH_SIZE = 64  # @param {type: \"integer\"}\n",
        "\n",
        "# Buffer size to shuffle the dataset\n",
        "# (TF data is designed to work with possibly infinite sequences,\n",
        "# so it doesn't attempt to shuffle the entire sequence in memory. Instead,\n",
        "# it maintains a buffer in which it shuffles elements).\n",
        "\n",
        "BUFFER_SIZE = 10000 # @param {type: \"integer\"}\n",
        "# The embedding dimension\n",
        "embedding_dim = 256 # @param {type: \"integer\"}\n",
        "# Number of RNN units\n",
        "rnn_units = 1024 # @param {type: \"integer\"}\n",
        "EPOCHS = 70 # @param {type: \"integer\"} "
      ],
      "metadata": {
        "id": "PNaTxOW7ekAt"
      },
      "execution_count": null,
      "outputs": []
    },
    {
      "cell_type": "markdown",
      "metadata": {
        "id": "dYfkXqKn2rvd"
      },
      "source": [
        "# Generating Fish Food Recipe"
      ]
    },
    {
      "cell_type": "code",
      "execution_count": null,
      "metadata": {
        "id": "LIUV-FOM2y8E"
      },
      "outputs": [],
      "source": [
        "# The unique characters in the file\n",
        "vocab = sorted(set(TEXT_fish))\n",
        "\n",
        "# Creating a mapping from unique characters to indices\n",
        "char2idx = {u:i for i, u in enumerate(vocab)}\n",
        "idx2char = np.array(vocab)\n",
        "TEXT_as_int = np.array([char2idx[c] for c in TEXT_fish])\n",
        "seq_length = 100\n",
        "\n",
        "# Create training examples / targets\n",
        "char_dataset = tf.data.Dataset.from_tensor_slices(TEXT_as_int)\n",
        "sequences = char_dataset.batch(seq_length+1, drop_remainder=True)\n",
        "dataset = sequences.map(split_input_target)\n",
        "dataset = dataset.shuffle(BUFFER_SIZE).batch(BATCH_SIZE, drop_remainder=True)\n",
        "\n",
        "# Length of the vocabulary in chars\n",
        "vocab_size = len(vocab)\n",
        "model = build_model(vocab_size=len(vocab), embedding_dim=embedding_dim, rnn_units=rnn_units, batch_size=BATCH_SIZE)\n",
        "\n",
        "\n",
        "\n",
        "# history = model.fit(dataset, epochs=EPOCHS, callbacks=[checkpoint_callback])\n",
        "# model.save(\"fish_model.h5\")\n",
        "\n",
        "model = build_model(vocab_size, embedding_dim, rnn_units, batch_size=1)\n",
        "model.load_weights(\"fish_model.h5\")\n",
        "# model.load_weights(tf.train.latest_checkpoint(checkpoint_dir))\n",
        "model.build(tf.TensorShape([1, None]))\n",
        "fish_recipe = generate_text(model, start_string=u\"fish \",t=0.1)\n",
        "# fish_recipe"
      ]
    },
    {
      "cell_type": "code",
      "execution_count": null,
      "metadata": {
        "colab": {
          "base_uri": "https://localhost:8080/",
          "height": 122
        },
        "id": "xcM0heOYPvQ5",
        "outputId": "9c846265-8914-41be-970a-fa80b9f6ae65"
      },
      "outputs": [
        {
          "output_type": "execute_result",
          "data": {
            "text/plain": [
              "'fish and bake it in a preheated 375 degree f oven, covered with foil, until the fish just flakes about 15 minutes., with a slotted spoon, transfer meat to a platter. reduce heat to medium low and cook shallots until well browned, about 15 minutes. add garlic and ginger stir fry 30 seconds on a baking sheet and bake until warm, 3 to 4 minutes., top the bottom half of each baguette with a pork cutlet halve the cutlets for fit, if necessary and some of the cucumber, onion, carawaypickled cauliflower, watercress and cilantro. top each with a drizzle of garlic fish sauce and a squirt of sriracha and serve.put the potatoes in a pot and cover with the clam juice. bring to a boil over high heat then reduce to mediumlow and simmer for 15 minutes, skimming and discarding any fillets in the oil and fry until golden, 4 to 6 minutes., place each fillet in the reserved melted butter so that both sides are well coated. then, mix thoroughly all the spices for blackening mixture and sprinkle the blackening '"
            ],
            "application/vnd.google.colaboratory.intrinsic+json": {
              "type": "string"
            }
          },
          "metadata": {},
          "execution_count": 18
        }
      ],
      "source": [
        "fish_recipe"
      ]
    },
    {
      "cell_type": "code",
      "execution_count": null,
      "metadata": {
        "id": "Kd6lEzPXgrwb"
      },
      "outputs": [],
      "source": [
        "file_ff = open(\"generated_fish_recipe.txt\",\"w\")#write mode\n",
        "file_ff.write(fish_recipe)\n",
        "file_ff.close()"
      ]
    },
    {
      "cell_type": "code",
      "execution_count": null,
      "metadata": {
        "colab": {
          "base_uri": "https://localhost:8080/",
          "height": 122
        },
        "id": "G9xiqtFhQ7Fx",
        "outputId": "f5f4aaef-93e2-41b5-8b82-eddea3a9781c"
      },
      "outputs": [
        {
          "output_type": "execute_result",
          "data": {
            "text/plain": [
              "'fish and remove half of the satay for serving. add about 1 cup of the broth to the remaining satay in the skillet and bring to a simmer. cook 5 to 8 minutes, or until the fish is cooked through.in a bowl, mix the marinade ingredients except the chicken. slice the chicken into long, thin strips, about 3 inches long by 1 inch wide, and add to marinade. turn chicken to coat, cover and refrigerate at least 4 hours or longer., meanwhile, make the dressing whisk the lime juice, oil, salt and pepper in a food processor fitted with a steel blade and pulse to finely chop. add the vegetables to the stock pot and saute them along with the fish bones for 15 minutes to sweat and caramelize the vegetables. add the tomato, saffron and other herbs and seasonings and continue to saute for 10 minutes. stir to ensure that nothing burns or sticks to the bottom of the pan. add the chicken stock, fish sauce, star anise and cinnamon. bring to boil over medium heat and cook 5 minutes., 3. turn off the heat and rem'"
            ],
            "application/vnd.google.colaboratory.intrinsic+json": {
              "type": "string"
            }
          },
          "metadata": {},
          "execution_count": 20
        }
      ],
      "source": [
        "# To generate something new please remove the #s below\n",
        "# the beginning of the recipe may look like each other sometimes\n",
        "# however the rest of it would definitely change.\n",
        "# ___________________________\n",
        "\n",
        "new_fish_recipe = generate_text(model, start_string=u\"fish \",t=0.1)\n",
        "new_fish_recipe"
      ]
    },
    {
      "cell_type": "markdown",
      "metadata": {
        "id": "EFOwO9LY4jmv"
      },
      "source": [
        "# Generating Meat Food Recipe"
      ]
    },
    {
      "cell_type": "code",
      "execution_count": null,
      "metadata": {
        "id": "Hzu2Y9sD4iDB"
      },
      "outputs": [],
      "source": [
        "# The unique characters in the file\n",
        "vocab = sorted(set(TEXT_meat))\n",
        "\n",
        "# Creating a mapping from unique characters to indices\n",
        "char2idx = {u:i for i, u in enumerate(vocab)}\n",
        "idx2char = np.array(vocab)\n",
        "TEXT_as_int = np.array([char2idx[c] for c in TEXT_meat])\n",
        "seq_length = 100\n",
        "\n",
        "# Create training examples / targets\n",
        "char_dataset = tf.data.Dataset.from_tensor_slices(TEXT_as_int)\n",
        "sequences = char_dataset.batch(seq_length+1, drop_remainder=True)\n",
        "dataset = sequences.map(split_input_target)\n",
        "dataset = dataset.shuffle(BUFFER_SIZE).batch(BATCH_SIZE, drop_remainder=True)\n",
        "\n",
        "# Length of the vocabulary in chars\n",
        "vocab_size = len(vocab)\n",
        "\n",
        "model = build_model(vocab_size=len(vocab), embedding_dim=embedding_dim, rnn_units=rnn_units, batch_size=BATCH_SIZE)\n",
        "    \n",
        "\n",
        "# history = model.fit(dataset, epochs=EPOCHS, callbacks=[checkpoint_callback])\n",
        "# model.save(\"meat_model.h5\")\n",
        "model = build_model(vocab_size, embedding_dim, rnn_units, batch_size=1)\n",
        "model.load_weights(\"meat_model.h5\")\n",
        "# model.load_weights(tf.train.latest_checkpoint(checkpoint_dir))\n",
        "model.build(tf.TensorShape([1, None]))\n",
        "meat_recipe = generate_text(model, start_string=u\"meat \",t=0.1)\n",
        "# meat_recipe"
      ]
    },
    {
      "cell_type": "code",
      "execution_count": null,
      "metadata": {
        "colab": {
          "base_uri": "https://localhost:8080/"
        },
        "id": "vgIiR8JxT71w",
        "outputId": "5fb2ef57-5a7a-4370-c37c-4e333c46323f"
      },
      "outputs": [
        {
          "output_type": "execute_result",
          "data": {
            "text/plain": [
              "'meat is fork tender. check the seasoning. serve on buttered bowtie noodles.in a 6quart slow cooker combine the cheddar and bake until melted, 2 to 3 more minutes. serve with the vegetables.1. preheat oven to 375 degrees f., in a large skillet over mediumhigh heat, turning once, 4 minutes or until desired doneness. remove steaks from marinade and discard marinade. with a sharp knife cut a counter pan and fold it into a semicircle in the short ribs on a cutting board. sprinkle with salt and pepper. spread 12cup of black rice on the beef. place 1 cup of the beef mixture over the short ends of the triangles closest to the ramekin. cover the bread, place the meat on the pan and sear the edges, or until the pastry is golden brown and crisp. transfer the mixture to a bowl and stir in the remaining 2 tablespoons cilantro set aside., remove the cooked fries from the oven but leave on the baking sheet. alternatively you may pan, if needed, and add the meatballs in a single layer, spreading them apart'"
            ],
            "application/vnd.google.colaboratory.intrinsic+json": {
              "type": "string"
            }
          },
          "metadata": {},
          "execution_count": 22
        }
      ],
      "source": [
        "meat_recipe"
      ]
    },
    {
      "cell_type": "code",
      "execution_count": null,
      "metadata": {
        "id": "iugN2ge7g45d"
      },
      "outputs": [],
      "source": [
        "file_mm = open(\"generated_meat_recipe.txt\",\"w\")#write mode\n",
        "file_mm.write(meat_recipe)\n",
        "file_mm.close()"
      ]
    },
    {
      "cell_type": "code",
      "execution_count": null,
      "metadata": {
        "colab": {
          "base_uri": "https://localhost:8080/"
        },
        "id": "EH0fmtsUQ03t",
        "outputId": "09cb91ff-3cc2-433d-b5e5-eb5893764b79"
      },
      "outputs": [
        {
          "output_type": "execute_result",
          "data": {
            "text/plain": [
              "'meat is fork tender. check the seasoning. serve on buttered bowtie noodles.in a 6quart slow cooker combine the cheddar and bake until melted, 2 to 3 more minutes. serve with the vegetables.1. preheat oven to 375 degrees f., in a large skillet over mediumhigh heat, turning once, 4 minutes or until desired doneness. remove steaks from marinade and discard marinade. with a sharp knife cut a couple of times do not mix completely., drain the pasta and rinse under cool water until they no longer feel sticky. cut them into quarters with the ground turkey, bread crumbs, egg, 2 tbsp of the parsley, milk, 34 tsp salt and black pepper to taste and cook for another 3 minutes., season with salt to taste and sprinkle flour over the meat, cook 1 minute turning often. 4.sprinkle the tops with the cilantro and parsley. serve with cornbread., remove the stems from the dried chilies and shake out and discard seeds. in small saucepan place chiles with enough water to cover the mixture, about 4 cups. bring to a'"
            ],
            "application/vnd.google.colaboratory.intrinsic+json": {
              "type": "string"
            }
          },
          "metadata": {},
          "execution_count": 24
        }
      ],
      "source": [
        "# To generate something new please remove the #s below\n",
        "# the beginning of the recipe look like each other sometimes\n",
        "# however the rest of it would definitely change.\n",
        "# ___________________________\n",
        "\n",
        "new_meat_recipe = generate_text(model, start_string=u\"meat \",t=0.1)\n",
        "new_meat_recipe"
      ]
    },
    {
      "cell_type": "markdown",
      "metadata": {
        "id": "m_U5GhEph3Y1"
      },
      "source": [
        "#Generatin Chicken Food Recipe"
      ]
    },
    {
      "cell_type": "code",
      "execution_count": null,
      "metadata": {
        "id": "dXxU_6aA3q4m"
      },
      "outputs": [],
      "source": [
        "# The unique characters in the file\n",
        "vocab = sorted(set(TEXT_chicken))\n",
        "\n",
        "# Creating a mapping from unique characters to indices\n",
        "char2idx = {u:i for i, u in enumerate(vocab)}\n",
        "idx2char = np.array(vocab)\n",
        "TEXT_as_int = np.array([char2idx[c] for c in TEXT_chicken])\n",
        "seq_length = 100\n",
        "\n",
        "# Create training examples / targets\n",
        "char_dataset = tf.data.Dataset.from_tensor_slices(TEXT_as_int)\n",
        "sequences = char_dataset.batch(seq_length+1, drop_remainder=True)\n",
        "dataset = sequences.map(split_input_target)\n",
        "dataset = dataset.shuffle(BUFFER_SIZE).batch(BATCH_SIZE, drop_remainder=True)\n",
        "\n",
        "# Length of the vocabulary in chars\n",
        "vocab_size = len(vocab)\n",
        "\n",
        "model = build_model(vocab_size=len(vocab), embedding_dim=embedding_dim, rnn_units=rnn_units, batch_size=BATCH_SIZE)\n",
        "\n",
        "# history = model.fit(dataset, epochs=EPOCHS, callbacks=[checkpoint_callback])\n",
        "# model.save(\"chicken_model.h5\")\n",
        "model = build_model(vocab_size, embedding_dim, rnn_units, batch_size=1)\n",
        "model.load_weights(\"chicken_model.h5\")\n",
        "# model.load_weights(tf.train.latest_checkpoint(checkpoint_dir))\n",
        "model.build(tf.TensorShape([1, None]))\n",
        "chicken_recipe = generate_text(model, start_string=u\"chicken \",t=0.1)\n",
        "\n",
        "# chicken_recipe"
      ]
    },
    {
      "cell_type": "code",
      "execution_count": null,
      "metadata": {
        "colab": {
          "base_uri": "https://localhost:8080/"
        },
        "id": "b1BElSB7AV2_",
        "outputId": "8ad7a3f7-20bc-4ef7-a842-97f2a00ef11d"
      },
      "outputs": [
        {
          "output_type": "execute_result",
          "data": {
            "text/plain": [
              "'chicken on the grill., cook the chicken until well browned on both sides and firm, but not hard to the sauce with ones hands. pull off a piece the size of a meatball, use your thumb to make an immersion blender., add the cheese to the soup and whisk over medium heat until the onion is tender, about 34 minutes, then add mushrooms and cook another 23 minutes, until soup thickens, adjust salt and pepper to taste and serve.in a large deep nonstick skillet, brown the sausage over high heat until cooked and soft., drain and mash with chicken broth, sour cream, salt and pepper., preheat oven to 400f., in a large saute pan brown meat over mediumhigh heat, add the bacon fat and bacon. simmer over low heat to thicken 20 to 30 minutes. cool and store for makeahead meal., preheat the oven to 425 degrees f. remove the paper towels on the pan and replace with parchment for easy cleanup. lightly spray with olive oil spray and bake for 30 minutes turning halfway.season the pork with salt, garlic powder and fr'"
            ],
            "application/vnd.google.colaboratory.intrinsic+json": {
              "type": "string"
            }
          },
          "metadata": {},
          "execution_count": 26
        }
      ],
      "source": [
        "chicken_recipe"
      ]
    },
    {
      "cell_type": "code",
      "execution_count": null,
      "metadata": {
        "id": "XnZyBbt3hLLM"
      },
      "outputs": [],
      "source": [
        "file_cc = open(\"generated_chicken_recipe.txt\",\"w\")#write mode\n",
        "file_cc.write(chicken_recipe)\n",
        "file_cc.close()"
      ]
    },
    {
      "cell_type": "code",
      "execution_count": null,
      "metadata": {
        "colab": {
          "base_uri": "https://localhost:8080/"
        },
        "id": "Wf4vXH7nATye",
        "outputId": "ae68d79a-2e26-4f3b-fc16-87edcb4cd579"
      },
      "outputs": [
        {
          "output_type": "execute_result",
          "data": {
            "text/plain": [
              "'chicken on top, about 10 minutes., cook the bacon in a large pot over low heat until all of the chicken is well coated., cook the chicken in a large pot, melt the butter over mediumlow heat. add the celery, onion, carrot and garlic, cover and cook 20 minutes, then add the sweet potato and kale and cook until the sweet potatoes are tender., drain and return to pot., put heat on a medium heat and add 1 tablespoon of the oil. fold each piece of chicken into each pepper half hours. shape the bread cubes into the slow cooker, stirring occasionally, until the liquid is absorbed, stirring often, about 2 minutes. remove from water and set aside., to the skillet, add 1 tbsp oil and cook onions and peppers, season with salt and pepper. cook on a mediumlow heat for about 23 minutes, until onions are translucent., add chopped zucchini and season with a pinch of salt and stir well, cooking an additional 23 minutes on mediumlow heat. slowly whisk in the chicken broth until well combined. or you can let them'"
            ],
            "application/vnd.google.colaboratory.intrinsic+json": {
              "type": "string"
            }
          },
          "metadata": {},
          "execution_count": 28
        }
      ],
      "source": [
        "# To generate something new please remove the #s below\n",
        "# the beginning of the recipe look like each other sometimes\n",
        "# however the rest of it would definitely change.\n",
        "# ___________________________\n",
        "\n",
        "new_chicken_recipe = generate_text(model, start_string=u\"chicken \",t=0.1)\n",
        "new_chicken_recipe"
      ]
    },
    {
      "cell_type": "markdown",
      "source": [
        "# All generated recipes "
      ],
      "metadata": {
        "id": "vbDCwpELiV_-"
      }
    },
    {
      "cell_type": "markdown",
      "source": [
        "I know last 3 pieces of code where we generated recipes were nearly similar;however, I could not run them all in a loop since it threw an error saying 'ValueError: Cannot assign value to variable ' embedding/embeddings:0': Shape mismatch.The variable shape (8, 256), and the assigned value shape (40, 256) are incompatible.' I could not fix it, unfortunately."
      ],
      "metadata": {
        "id": "u3lp_qTlYvi9"
      }
    },
    {
      "cell_type": "code",
      "source": [
        "# You may see all generated recipes here in one place\n",
        "recipe_param = new_chicken_recipe #@param ['new_fish_recipe', 'new_meat_recipe', 'new_chicken_recipe'] {type:\"raw\"}\n",
        "print(\"Recipe: \\n \", recipe_param)\n",
        "\n"
      ],
      "metadata": {
        "colab": {
          "base_uri": "https://localhost:8080/"
        },
        "id": "mOn4_fOSiZ1a",
        "outputId": "ea9baf06-b8af-4241-a637-7695e476d0ba"
      },
      "execution_count": null,
      "outputs": [
        {
          "output_type": "stream",
          "name": "stdout",
          "text": [
            "Recipe: \n",
            "  chicken on top, about 10 minutes., cook the bacon in a large pot over low heat until all of the chicken is well coated., cook the chicken in a large pot, melt the butter over mediumlow heat. add the celery, onion, carrot and garlic, cover and cook 20 minutes, then add the sweet potato and kale and cook until the sweet potatoes are tender., drain and return to pot., put heat on a medium heat and add 1 tablespoon of the oil. fold each piece of chicken into each pepper half hours. shape the bread cubes into the slow cooker, stirring occasionally, until the liquid is absorbed, stirring often, about 2 minutes. remove from water and set aside., to the skillet, add 1 tbsp oil and cook onions and peppers, season with salt and pepper. cook on a mediumlow heat for about 23 minutes, until onions are translucent., add chopped zucchini and season with a pinch of salt and stir well, cooking an additional 23 minutes on mediumlow heat. slowly whisk in the chicken broth until well combined. or you can let them\n"
          ]
        }
      ]
    },
    {
      "cell_type": "code",
      "source": [
        ""
      ],
      "metadata": {
        "id": "PAFf-SeUiTyM"
      },
      "execution_count": null,
      "outputs": []
    },
    {
      "cell_type": "markdown",
      "metadata": {
        "id": "VCqrHc25553i"
      },
      "source": [
        "# Code for finding Inredients in the generated recipe"
      ]
    },
    {
      "cell_type": "code",
      "execution_count": null,
      "metadata": {
        "colab": {
          "base_uri": "https://localhost:8080/",
          "height": 122
        },
        "id": "ebpo7youT8LV",
        "outputId": "a7a618e3-6f8f-43d7-ccf5-9fe3efb3a707"
      },
      "outputs": [
        {
          "output_type": "execute_result",
          "data": {
            "text/plain": [
              "'meat is fork tender. check the seasoning. serve on buttered bowtie noodles.in a 6quart slow cooker combine the cheddar and bake until melted, 2 to 3 more minutes. serve with the vegetables.1. preheat oven to 375 degrees f., in a large skillet over mediumhigh heat, turning once, 4 minutes or until desired doneness. remove steaks from marinade and discard marinade. with a sharp knife cut a couple of times do not mix completely., drain the pasta and rinse under cool water until they no longer feel sticky. cut them into quarters with the ground turkey, bread crumbs, egg, 2 tbsp of the parsley, milk, 34 tsp salt and black pepper to taste and cook for another 3 minutes., season with salt to taste and sprinkle flour over the meat, cook 1 minute turning often. 4.sprinkle the tops with the cilantro and parsley. serve with cornbread., remove the stems from the dried chilies and shake out and discard seeds. in small saucepan place chiles with enough water to cover the mixture, about 4 cups. bring to a'"
            ],
            "application/vnd.google.colaboratory.intrinsic+json": {
              "type": "string"
            }
          },
          "metadata": {},
          "execution_count": 30
        }
      ],
      "source": [
        "#@title # This part was for, especially, the web app https://share.streamlit.io/enesbasbug/food_recipe_generator/main/app.py\n",
        "new_meat_recipe\n",
        "\n"
      ]
    },
    {
      "cell_type": "code",
      "source": [
        ""
      ],
      "metadata": {
        "id": "X9gOi6s0rtVb"
      },
      "execution_count": null,
      "outputs": []
    },
    {
      "cell_type": "code",
      "execution_count": null,
      "metadata": {
        "colab": {
          "base_uri": "https://localhost:8080/"
        },
        "id": "TuGs_eTl5LgZ",
        "outputId": "54e3bd7b-77dd-4be5-927c-ca9c6fd2f767"
      },
      "outputs": [
        {
          "output_type": "stream",
          "name": "stdout",
          "text": [
            "You selected  ['meat', 'tender', 'seasoning', 'serve', 'noodles', 'combine', 'bake', 'melted', '2', '3', 'more', 'serve', 'vegetables', '1', 'preheat', 'oven', 'f', 'large', 'skillet', 'mediumhigh', 'heat', 'turning', '4', 'or', 'desired', 'remove', 'from', 'marinade', 'marinade', 'cut', 'do', 'not', 'mix', 'rinse', 'under', 'cool', 'water', 'no', 'longer', 'cut', 'them', 'into', 'ground', 'egg', '2', 'tbsp', 'milk', 'salt', 'black', 'pepper', 'taste', 'cook', 'another', '3', 'season', 'salt', 'taste', 'sprinkle', 'flour', 'meat', 'cook', '1', 'minute', 'turning', 'often', '4', 'sprinkle', 'tops', 'cilantro', 'serve', 'remove', 'from', 'out', 'small', 'saucepan', 'place', 'water', 'cover', 'mixture', '4', 'cups', 'bring']\n"
          ]
        }
      ],
      "source": [
        "# This part was for, especially, the web app # https://share.streamlit.io/enesbasbug/food_recipe_generator/main/app.py\n",
        "\n",
        "# Tring to find items in the recipes; however, it was not that successfull due to the\n",
        "# the ingredients in the raw data was long terms instead of one words. Therefore, I could not\n",
        "# compare the items in the generated recipe with the items in the ingrediens text file(raw data)\n",
        "# for instance, in the ingredients data there was '1 spoon of olive oil' instead of just 'olive oil'\n",
        "# so that i could not extract the items in generated recipe properly. This can be developped for future work.\n",
        "\n",
        "# word_extraction function is defined in the Common functions above\n",
        "ingredients_meat = word_extraction(new_meat_recipe) \n",
        "ingredients_chicken = word_extraction(new_chicken_recipe)\n",
        "ingredients_fish = word_extraction(new_fish_recipe)\n",
        "# ## ingredients of new meat recipe\n",
        "option = ingredients_meat #@param [\"ingredients_meat\", \"ingredients_chicken\", \"ingredients_fish\"] {type:\"raw\"}\n",
        "print(\"You selected \", option) \n",
        "\n"
      ]
    },
    {
      "cell_type": "markdown",
      "metadata": {
        "id": "0qAzpV6h6sT1"
      },
      "source": [
        "# Text to Image Generator using Big Sleep\n",
        "- **generated images will appear in the folder where it will be saved on the left side, in order to see them please check there**\n",
        "\n",
        "- I set iteration 100 to generate a quick image. But, I recommend you to increase the number of iteration at the bottom of the loop, which is in a loop. It increase the quality of images; however, it take longer to generate."
      ]
    },
    {
      "cell_type": "code",
      "execution_count": null,
      "metadata": {
        "colab": {
          "base_uri": "https://localhost:8080/",
          "height": 437,
          "referenced_widgets": [
            "3e42d1db148742bb8ebb81b292b5afcc",
            "0e3c231f95b344398661045ceb473d95",
            "2c9df9bcdfb34197bd51828e408d044b",
            "bcd35fcfa7224ac9a345111b83041821",
            "fb08f391e59d49fc9eaa605eb0428470",
            "4e924758b3364febb49b1de9fc02be2c",
            "a3bc3223bcb3403f9f1c471b23fe2821",
            "0cfb11dd648c41f99784990ae9fbf722",
            "468ddcfc6efc48a7b79130d5a7f22f8c",
            "d420c7908a994267a2438c3c7989d4c2",
            "2766ecf06b1c424f9b2e9dbe1fa0edf6",
            "9d47aeee8af14260821701cde4bc3dd1",
            "8d9b9736a9674aeaa6d8e2998d21cd18",
            "1653234daf9c4b43927b12460b1afbf7",
            "95f4dfe0a8774bc5a3d3015fd9b17921",
            "35137b8d350a4d158e4c9e74c166d58d",
            "64cfee40d1904485976c6ae283ce6882",
            "0f07b3ef70c146ddbdc33050c1d06891",
            "79aac916ae5e4beab42eb59a5433eada",
            "ab806d3876094e7f973ad0de23b790f8",
            "9f358d8879a345d28d0d8c12752053fb",
            "169a8df737ef43bebdee83b636b8e73c",
            "cb94d9d48125432fa446e2dff7ab4c7d",
            "a7e9da4c703c47159ad0a14f53719e64",
            "301769ac21ab4973bb77061b469cbf3d",
            "ec35acb2c2cd4a24ac0bfa5747765aad",
            "be698dceba214b35929b240b24808f01",
            "f6c0211e57f6485cb3e4257f1a56c5a8",
            "dd300c5699544a8aab3b4ac43390b9ed",
            "b152035d95894574a15ea435a5c95851",
            "e8a299b22d244635ac9590cf472f3b86",
            "cd9e8aa3f1db494cb0a421f599cfe4fd",
            "7363d849e3834129b6972dc1fb361d45",
            "387cf3c24c304246b425b5d906bdc674",
            "0914adee8a6e4c0a8c780910bfa65bd2",
            "b24b2369bff240f3b80d79cf79899bfb",
            "ca619d928c474addab8422bf7b41d2e2",
            "e3480420356348e5a519a43b55c13762",
            "7c9c778fd32646bd9183a0a16368d3f3",
            "42a0e7473efc45db990a7dd99beaef27",
            "f5e5fa9016074976a11f01b1871c2f9e",
            "4c7e7bd8046d40f7a4d1bafa8adc2e3a",
            "ff153ccc0fd94917a8734be07ee4cdb1",
            "77b10c7524e44b8d9c453bdc903bf277",
            "9ba18fd2c5b64f90b97bed8c80678f5b",
            "2888ca7876ce477083783cb2df5d357e",
            "ae1bff2baa75446ea04822f91913d48f",
            "3dfcc350743140509a44c80e80482c89",
            "6e1ce85b098641e59798c4962c4468a8",
            "f12dc5de38ac48e4b59c258dd16bf333",
            "2b239074dc57429598a7ece10541704d",
            "8aef1c51995c45489dee5a050cd023e0",
            "a815dae27349474caef7b954f8e93a31",
            "986e9214cead40aeb788eaf494afc134",
            "2383754e71864407827bb5a07434eac1",
            "b39672afbedc4a30939e9a213f0e9107",
            "62ce95b54b564f2bb28438afaadf2776",
            "cee7caafb49f4ff99b3cad45e3282f79",
            "01908ee11c1842f098e384bd8a5f61d8",
            "3ada33840c694ca0b45b6eb9ab0a8bc5",
            "b80d176006d0404d878a50bf9ff9d487",
            "ac2c0fb15f484b02ac2a50dfbd386cc6",
            "e1317d7e84c1407487c12b03aecf3299",
            "c8878ecd91124c1ebcce23438b51ea34",
            "f8b9141d8bf24d639e50c76cc84e0bc8",
            "41994dcf4e7b4f37b38b3d337420568a"
          ]
        },
        "id": "wXSLh1evGL5C",
        "outputId": "7d730f43-4ad2-48a1-88b0-d54cd25b6a54"
      },
      "outputs": [
        {
          "output_type": "stream",
          "name": "stdout",
          "text": [
            "setting seed of 0\n",
            "you can override this with --seed argument in the command line, or --random for a randomly chosen one\n"
          ]
        },
        {
          "output_type": "stream",
          "name": "stderr",
          "text": [
            "100%|████████████████████████████████████████| 354M/354M [00:01<00:00, 233MiB/s]\n",
            "100%|██████████| 235773527/235773527 [00:06<00:00, 34226232.06B/s]\n",
            "100%|██████████| 800/800 [00:00<00:00, 508785.93B/s]\n"
          ]
        },
        {
          "output_type": "display_data",
          "data": {
            "text/plain": [
              "epochs:   0%|          | 0/1 [00:00<?, ?it/s]"
            ],
            "application/vnd.jupyter.widget-view+json": {
              "version_major": 2,
              "version_minor": 0,
              "model_id": "3e42d1db148742bb8ebb81b292b5afcc"
            }
          },
          "metadata": {}
        },
        {
          "output_type": "display_data",
          "data": {
            "text/plain": [
              "iteration:   0%|          | 0/100 [00:00<?, ?it/s]"
            ],
            "application/vnd.jupyter.widget-view+json": {
              "version_major": 2,
              "version_minor": 0,
              "model_id": "9d47aeee8af14260821701cde4bc3dd1"
            }
          },
          "metadata": {}
        },
        {
          "output_type": "stream",
          "name": "stdout",
          "text": [
            "image updated at \"./fish_and_remove_half_of_the_satay_for_serving._add_about_1_cup_of_the_broth_to_the_remaining_satay_in_the_skillet_and_bring_to_a_simmer._cook_5_to_8_minutes_or_until_the_fish_is_cooked_through.in_a_bowl_mix_t.png\"\n",
            "setting seed of 0\n",
            "you can override this with --seed argument in the command line, or --random for a randomly chosen one\n"
          ]
        },
        {
          "output_type": "display_data",
          "data": {
            "text/plain": [
              "epochs:   0%|          | 0/1 [00:00<?, ?it/s]"
            ],
            "application/vnd.jupyter.widget-view+json": {
              "version_major": 2,
              "version_minor": 0,
              "model_id": "cb94d9d48125432fa446e2dff7ab4c7d"
            }
          },
          "metadata": {}
        },
        {
          "output_type": "display_data",
          "data": {
            "text/plain": [
              "iteration:   0%|          | 0/100 [00:00<?, ?it/s]"
            ],
            "application/vnd.jupyter.widget-view+json": {
              "version_major": 2,
              "version_minor": 0,
              "model_id": "387cf3c24c304246b425b5d906bdc674"
            }
          },
          "metadata": {}
        },
        {
          "output_type": "stream",
          "name": "stdout",
          "text": [
            "image updated at \"./meat_is_fork_tender._check_the_seasoning._serve_on_buttered_bowtie_noodles.in_a_6quart_slow_cooker_combine_the_cheddar_and_bake_until_melted_2_to_3_more_minutes._serve_with_the_vegetables.1._preheat_oven_to_37.png\"\n",
            "setting seed of 0\n",
            "you can override this with --seed argument in the command line, or --random for a randomly chosen one\n"
          ]
        },
        {
          "output_type": "display_data",
          "data": {
            "text/plain": [
              "epochs:   0%|          | 0/1 [00:00<?, ?it/s]"
            ],
            "application/vnd.jupyter.widget-view+json": {
              "version_major": 2,
              "version_minor": 0,
              "model_id": "9ba18fd2c5b64f90b97bed8c80678f5b"
            }
          },
          "metadata": {}
        },
        {
          "output_type": "display_data",
          "data": {
            "text/plain": [
              "iteration:   0%|          | 0/100 [00:00<?, ?it/s]"
            ],
            "application/vnd.jupyter.widget-view+json": {
              "version_major": 2,
              "version_minor": 0,
              "model_id": "b39672afbedc4a30939e9a213f0e9107"
            }
          },
          "metadata": {}
        },
        {
          "output_type": "stream",
          "name": "stdout",
          "text": [
            "image updated at \"./chicken_on_top_about_10_minutes._cook_the_bacon_in_a_large_pot_over_low_heat_until_all_of_the_chicken_is_well_coated._cook_the_chicken_in_a_large_pot_melt_the_butter_over_mediumlow_heat._add_the_celery_oni.png\"\n"
          ]
        }
      ],
      "source": [
        "text_to_img_fish = new_fish_recipe[:210]\n",
        "text_to_img_meat = new_meat_recipe[:210]\n",
        "text_to_img_chicken = new_chicken_recipe[:210]\n",
        "mix = [text_to_img_fish, text_to_img_meat, text_to_img_chicken]\n",
        "for T in range(3):\n",
        "  TEXT = mix[T] # You may change the TEXT by yourself\n",
        "               #  to try something else than recipes, \n",
        "               # but, please, be aware you are in a loop\n",
        "  SAVE_EVERY = 100 #@param {type:\"number\"}\n",
        "  SAVE_PROGRESS = True #@param {type:\"boolean\"}\n",
        "  LEARNING_RATE = 5e-2 #@param {type:\"number\"}\n",
        "  ITERATIONS = 1050 #@param {type:\"number\"}\n",
        "  SEED = 0 #@param {type: \"number\"}\n",
        "  model = Imagine(\n",
        "      text = TEXT,\n",
        "      save_every = SAVE_EVERY,\n",
        "      lr = LEARNING_RATE,\n",
        "      iterations = ITERATIONS,\n",
        "      save_progress = SAVE_PROGRESS,\n",
        "      seed = SEED\n",
        "  )\n",
        "  for epoch in trange(1, desc = 'epochs'): # number of epochs\n",
        "      for i in trange(100, desc = 'iteration'): # you can decrease \n",
        "          model.train_step(epoch, i)           # 'the iteration' to achieve faster results\n",
        "                                              # however, the quality of imgs may decrease too\n",
        "\n",
        "          if i == 0 or i % model.save_every != 0:\n",
        "              continue\n",
        "          filename = TEXT.replace(' ', '_')\n",
        "          image = Image(f'./{filename}.png')\n",
        "          display(image)"
      ]
    },
    {
      "cell_type": "code",
      "execution_count": null,
      "metadata": {
        "id": "yyhTgEijtUTV"
      },
      "outputs": [],
      "source": [
        "# Reminder\n",
        "# You may also visit my GitHub https://github.com/enesbasbug/Food_Recipe_Generator \n",
        "# repository to see many texts/images/gifs examples of my project."
      ]
    },
    {
      "cell_type": "code",
      "execution_count": null,
      "metadata": {
        "colab": {
          "base_uri": "https://localhost:8080/"
        },
        "id": "KL8d_runDeDV",
        "outputId": "74e2601e-c527-4f90-9a57-2f08ebe5a791"
      },
      "outputs": [
        {
          "output_type": "stream",
          "name": "stdout",
          "text": [
            "Thank you!\n"
          ]
        }
      ],
      "source": [
        "print('Thank you!')"
      ]
    },
    {
      "cell_type": "code",
      "execution_count": null,
      "metadata": {
        "id": "p-xCRVt1SvjH"
      },
      "outputs": [],
      "source": [
        ""
      ]
    }
  ],
  "metadata": {
    "accelerator": "GPU",
    "colab": {
      "collapsed_sections": [
        "7wXVox2lKWkG",
        "lCBUDchCj3Xh",
        "h3ry7vDytkaw",
        "7ziS5I1Ltmbl",
        "iVipFU7A218o",
        "RJWpaCy8emAK",
        "dYfkXqKn2rvd",
        "EFOwO9LY4jmv",
        "m_U5GhEph3Y1",
        "vbDCwpELiV_-",
        "VCqrHc25553i"
      ],
      "machine_shape": "hm",
      "name": "Deneme_210617146_computational_creativity.ipynb",
      "provenance": []
    },
    "kernelspec": {
      "display_name": "Python 3",
      "name": "python3"
    },
    "language_info": {
      "name": "python"
    },
    "widgets": {
      "application/vnd.jupyter.widget-state+json": {
        "3e42d1db148742bb8ebb81b292b5afcc": {
          "model_module": "@jupyter-widgets/controls",
          "model_name": "HBoxModel",
          "model_module_version": "1.5.0",
          "state": {
            "_dom_classes": [],
            "_model_module": "@jupyter-widgets/controls",
            "_model_module_version": "1.5.0",
            "_model_name": "HBoxModel",
            "_view_count": null,
            "_view_module": "@jupyter-widgets/controls",
            "_view_module_version": "1.5.0",
            "_view_name": "HBoxView",
            "box_style": "",
            "children": [
              "IPY_MODEL_0e3c231f95b344398661045ceb473d95",
              "IPY_MODEL_2c9df9bcdfb34197bd51828e408d044b",
              "IPY_MODEL_bcd35fcfa7224ac9a345111b83041821"
            ],
            "layout": "IPY_MODEL_fb08f391e59d49fc9eaa605eb0428470"
          }
        },
        "0e3c231f95b344398661045ceb473d95": {
          "model_module": "@jupyter-widgets/controls",
          "model_name": "HTMLModel",
          "model_module_version": "1.5.0",
          "state": {
            "_dom_classes": [],
            "_model_module": "@jupyter-widgets/controls",
            "_model_module_version": "1.5.0",
            "_model_name": "HTMLModel",
            "_view_count": null,
            "_view_module": "@jupyter-widgets/controls",
            "_view_module_version": "1.5.0",
            "_view_name": "HTMLView",
            "description": "",
            "description_tooltip": null,
            "layout": "IPY_MODEL_4e924758b3364febb49b1de9fc02be2c",
            "placeholder": "​",
            "style": "IPY_MODEL_a3bc3223bcb3403f9f1c471b23fe2821",
            "value": "epochs: 100%"
          }
        },
        "2c9df9bcdfb34197bd51828e408d044b": {
          "model_module": "@jupyter-widgets/controls",
          "model_name": "FloatProgressModel",
          "model_module_version": "1.5.0",
          "state": {
            "_dom_classes": [],
            "_model_module": "@jupyter-widgets/controls",
            "_model_module_version": "1.5.0",
            "_model_name": "FloatProgressModel",
            "_view_count": null,
            "_view_module": "@jupyter-widgets/controls",
            "_view_module_version": "1.5.0",
            "_view_name": "ProgressView",
            "bar_style": "success",
            "description": "",
            "description_tooltip": null,
            "layout": "IPY_MODEL_0cfb11dd648c41f99784990ae9fbf722",
            "max": 1,
            "min": 0,
            "orientation": "horizontal",
            "style": "IPY_MODEL_468ddcfc6efc48a7b79130d5a7f22f8c",
            "value": 1
          }
        },
        "bcd35fcfa7224ac9a345111b83041821": {
          "model_module": "@jupyter-widgets/controls",
          "model_name": "HTMLModel",
          "model_module_version": "1.5.0",
          "state": {
            "_dom_classes": [],
            "_model_module": "@jupyter-widgets/controls",
            "_model_module_version": "1.5.0",
            "_model_name": "HTMLModel",
            "_view_count": null,
            "_view_module": "@jupyter-widgets/controls",
            "_view_module_version": "1.5.0",
            "_view_name": "HTMLView",
            "description": "",
            "description_tooltip": null,
            "layout": "IPY_MODEL_d420c7908a994267a2438c3c7989d4c2",
            "placeholder": "​",
            "style": "IPY_MODEL_2766ecf06b1c424f9b2e9dbe1fa0edf6",
            "value": " 1/1 [01:11&lt;00:00, 71.22s/it]"
          }
        },
        "fb08f391e59d49fc9eaa605eb0428470": {
          "model_module": "@jupyter-widgets/base",
          "model_name": "LayoutModel",
          "model_module_version": "1.2.0",
          "state": {
            "_model_module": "@jupyter-widgets/base",
            "_model_module_version": "1.2.0",
            "_model_name": "LayoutModel",
            "_view_count": null,
            "_view_module": "@jupyter-widgets/base",
            "_view_module_version": "1.2.0",
            "_view_name": "LayoutView",
            "align_content": null,
            "align_items": null,
            "align_self": null,
            "border": null,
            "bottom": null,
            "display": null,
            "flex": null,
            "flex_flow": null,
            "grid_area": null,
            "grid_auto_columns": null,
            "grid_auto_flow": null,
            "grid_auto_rows": null,
            "grid_column": null,
            "grid_gap": null,
            "grid_row": null,
            "grid_template_areas": null,
            "grid_template_columns": null,
            "grid_template_rows": null,
            "height": null,
            "justify_content": null,
            "justify_items": null,
            "left": null,
            "margin": null,
            "max_height": null,
            "max_width": null,
            "min_height": null,
            "min_width": null,
            "object_fit": null,
            "object_position": null,
            "order": null,
            "overflow": null,
            "overflow_x": null,
            "overflow_y": null,
            "padding": null,
            "right": null,
            "top": null,
            "visibility": null,
            "width": null
          }
        },
        "4e924758b3364febb49b1de9fc02be2c": {
          "model_module": "@jupyter-widgets/base",
          "model_name": "LayoutModel",
          "model_module_version": "1.2.0",
          "state": {
            "_model_module": "@jupyter-widgets/base",
            "_model_module_version": "1.2.0",
            "_model_name": "LayoutModel",
            "_view_count": null,
            "_view_module": "@jupyter-widgets/base",
            "_view_module_version": "1.2.0",
            "_view_name": "LayoutView",
            "align_content": null,
            "align_items": null,
            "align_self": null,
            "border": null,
            "bottom": null,
            "display": null,
            "flex": null,
            "flex_flow": null,
            "grid_area": null,
            "grid_auto_columns": null,
            "grid_auto_flow": null,
            "grid_auto_rows": null,
            "grid_column": null,
            "grid_gap": null,
            "grid_row": null,
            "grid_template_areas": null,
            "grid_template_columns": null,
            "grid_template_rows": null,
            "height": null,
            "justify_content": null,
            "justify_items": null,
            "left": null,
            "margin": null,
            "max_height": null,
            "max_width": null,
            "min_height": null,
            "min_width": null,
            "object_fit": null,
            "object_position": null,
            "order": null,
            "overflow": null,
            "overflow_x": null,
            "overflow_y": null,
            "padding": null,
            "right": null,
            "top": null,
            "visibility": null,
            "width": null
          }
        },
        "a3bc3223bcb3403f9f1c471b23fe2821": {
          "model_module": "@jupyter-widgets/controls",
          "model_name": "DescriptionStyleModel",
          "model_module_version": "1.5.0",
          "state": {
            "_model_module": "@jupyter-widgets/controls",
            "_model_module_version": "1.5.0",
            "_model_name": "DescriptionStyleModel",
            "_view_count": null,
            "_view_module": "@jupyter-widgets/base",
            "_view_module_version": "1.2.0",
            "_view_name": "StyleView",
            "description_width": ""
          }
        },
        "0cfb11dd648c41f99784990ae9fbf722": {
          "model_module": "@jupyter-widgets/base",
          "model_name": "LayoutModel",
          "model_module_version": "1.2.0",
          "state": {
            "_model_module": "@jupyter-widgets/base",
            "_model_module_version": "1.2.0",
            "_model_name": "LayoutModel",
            "_view_count": null,
            "_view_module": "@jupyter-widgets/base",
            "_view_module_version": "1.2.0",
            "_view_name": "LayoutView",
            "align_content": null,
            "align_items": null,
            "align_self": null,
            "border": null,
            "bottom": null,
            "display": null,
            "flex": null,
            "flex_flow": null,
            "grid_area": null,
            "grid_auto_columns": null,
            "grid_auto_flow": null,
            "grid_auto_rows": null,
            "grid_column": null,
            "grid_gap": null,
            "grid_row": null,
            "grid_template_areas": null,
            "grid_template_columns": null,
            "grid_template_rows": null,
            "height": null,
            "justify_content": null,
            "justify_items": null,
            "left": null,
            "margin": null,
            "max_height": null,
            "max_width": null,
            "min_height": null,
            "min_width": null,
            "object_fit": null,
            "object_position": null,
            "order": null,
            "overflow": null,
            "overflow_x": null,
            "overflow_y": null,
            "padding": null,
            "right": null,
            "top": null,
            "visibility": null,
            "width": null
          }
        },
        "468ddcfc6efc48a7b79130d5a7f22f8c": {
          "model_module": "@jupyter-widgets/controls",
          "model_name": "ProgressStyleModel",
          "model_module_version": "1.5.0",
          "state": {
            "_model_module": "@jupyter-widgets/controls",
            "_model_module_version": "1.5.0",
            "_model_name": "ProgressStyleModel",
            "_view_count": null,
            "_view_module": "@jupyter-widgets/base",
            "_view_module_version": "1.2.0",
            "_view_name": "StyleView",
            "bar_color": null,
            "description_width": ""
          }
        },
        "d420c7908a994267a2438c3c7989d4c2": {
          "model_module": "@jupyter-widgets/base",
          "model_name": "LayoutModel",
          "model_module_version": "1.2.0",
          "state": {
            "_model_module": "@jupyter-widgets/base",
            "_model_module_version": "1.2.0",
            "_model_name": "LayoutModel",
            "_view_count": null,
            "_view_module": "@jupyter-widgets/base",
            "_view_module_version": "1.2.0",
            "_view_name": "LayoutView",
            "align_content": null,
            "align_items": null,
            "align_self": null,
            "border": null,
            "bottom": null,
            "display": null,
            "flex": null,
            "flex_flow": null,
            "grid_area": null,
            "grid_auto_columns": null,
            "grid_auto_flow": null,
            "grid_auto_rows": null,
            "grid_column": null,
            "grid_gap": null,
            "grid_row": null,
            "grid_template_areas": null,
            "grid_template_columns": null,
            "grid_template_rows": null,
            "height": null,
            "justify_content": null,
            "justify_items": null,
            "left": null,
            "margin": null,
            "max_height": null,
            "max_width": null,
            "min_height": null,
            "min_width": null,
            "object_fit": null,
            "object_position": null,
            "order": null,
            "overflow": null,
            "overflow_x": null,
            "overflow_y": null,
            "padding": null,
            "right": null,
            "top": null,
            "visibility": null,
            "width": null
          }
        },
        "2766ecf06b1c424f9b2e9dbe1fa0edf6": {
          "model_module": "@jupyter-widgets/controls",
          "model_name": "DescriptionStyleModel",
          "model_module_version": "1.5.0",
          "state": {
            "_model_module": "@jupyter-widgets/controls",
            "_model_module_version": "1.5.0",
            "_model_name": "DescriptionStyleModel",
            "_view_count": null,
            "_view_module": "@jupyter-widgets/base",
            "_view_module_version": "1.2.0",
            "_view_name": "StyleView",
            "description_width": ""
          }
        },
        "9d47aeee8af14260821701cde4bc3dd1": {
          "model_module": "@jupyter-widgets/controls",
          "model_name": "HBoxModel",
          "model_module_version": "1.5.0",
          "state": {
            "_dom_classes": [],
            "_model_module": "@jupyter-widgets/controls",
            "_model_module_version": "1.5.0",
            "_model_name": "HBoxModel",
            "_view_count": null,
            "_view_module": "@jupyter-widgets/controls",
            "_view_module_version": "1.5.0",
            "_view_name": "HBoxView",
            "box_style": "",
            "children": [
              "IPY_MODEL_8d9b9736a9674aeaa6d8e2998d21cd18",
              "IPY_MODEL_1653234daf9c4b43927b12460b1afbf7",
              "IPY_MODEL_95f4dfe0a8774bc5a3d3015fd9b17921"
            ],
            "layout": "IPY_MODEL_35137b8d350a4d158e4c9e74c166d58d"
          }
        },
        "8d9b9736a9674aeaa6d8e2998d21cd18": {
          "model_module": "@jupyter-widgets/controls",
          "model_name": "HTMLModel",
          "model_module_version": "1.5.0",
          "state": {
            "_dom_classes": [],
            "_model_module": "@jupyter-widgets/controls",
            "_model_module_version": "1.5.0",
            "_model_name": "HTMLModel",
            "_view_count": null,
            "_view_module": "@jupyter-widgets/controls",
            "_view_module_version": "1.5.0",
            "_view_name": "HTMLView",
            "description": "",
            "description_tooltip": null,
            "layout": "IPY_MODEL_64cfee40d1904485976c6ae283ce6882",
            "placeholder": "​",
            "style": "IPY_MODEL_0f07b3ef70c146ddbdc33050c1d06891",
            "value": "iteration: 100%"
          }
        },
        "1653234daf9c4b43927b12460b1afbf7": {
          "model_module": "@jupyter-widgets/controls",
          "model_name": "FloatProgressModel",
          "model_module_version": "1.5.0",
          "state": {
            "_dom_classes": [],
            "_model_module": "@jupyter-widgets/controls",
            "_model_module_version": "1.5.0",
            "_model_name": "FloatProgressModel",
            "_view_count": null,
            "_view_module": "@jupyter-widgets/controls",
            "_view_module_version": "1.5.0",
            "_view_name": "ProgressView",
            "bar_style": "success",
            "description": "",
            "description_tooltip": null,
            "layout": "IPY_MODEL_79aac916ae5e4beab42eb59a5433eada",
            "max": 100,
            "min": 0,
            "orientation": "horizontal",
            "style": "IPY_MODEL_ab806d3876094e7f973ad0de23b790f8",
            "value": 100
          }
        },
        "95f4dfe0a8774bc5a3d3015fd9b17921": {
          "model_module": "@jupyter-widgets/controls",
          "model_name": "HTMLModel",
          "model_module_version": "1.5.0",
          "state": {
            "_dom_classes": [],
            "_model_module": "@jupyter-widgets/controls",
            "_model_module_version": "1.5.0",
            "_model_name": "HTMLModel",
            "_view_count": null,
            "_view_module": "@jupyter-widgets/controls",
            "_view_module_version": "1.5.0",
            "_view_name": "HTMLView",
            "description": "",
            "description_tooltip": null,
            "layout": "IPY_MODEL_9f358d8879a345d28d0d8c12752053fb",
            "placeholder": "​",
            "style": "IPY_MODEL_169a8df737ef43bebdee83b636b8e73c",
            "value": " 100/100 [01:11&lt;00:00,  1.15it/s]"
          }
        },
        "35137b8d350a4d158e4c9e74c166d58d": {
          "model_module": "@jupyter-widgets/base",
          "model_name": "LayoutModel",
          "model_module_version": "1.2.0",
          "state": {
            "_model_module": "@jupyter-widgets/base",
            "_model_module_version": "1.2.0",
            "_model_name": "LayoutModel",
            "_view_count": null,
            "_view_module": "@jupyter-widgets/base",
            "_view_module_version": "1.2.0",
            "_view_name": "LayoutView",
            "align_content": null,
            "align_items": null,
            "align_self": null,
            "border": null,
            "bottom": null,
            "display": null,
            "flex": null,
            "flex_flow": null,
            "grid_area": null,
            "grid_auto_columns": null,
            "grid_auto_flow": null,
            "grid_auto_rows": null,
            "grid_column": null,
            "grid_gap": null,
            "grid_row": null,
            "grid_template_areas": null,
            "grid_template_columns": null,
            "grid_template_rows": null,
            "height": null,
            "justify_content": null,
            "justify_items": null,
            "left": null,
            "margin": null,
            "max_height": null,
            "max_width": null,
            "min_height": null,
            "min_width": null,
            "object_fit": null,
            "object_position": null,
            "order": null,
            "overflow": null,
            "overflow_x": null,
            "overflow_y": null,
            "padding": null,
            "right": null,
            "top": null,
            "visibility": null,
            "width": null
          }
        },
        "64cfee40d1904485976c6ae283ce6882": {
          "model_module": "@jupyter-widgets/base",
          "model_name": "LayoutModel",
          "model_module_version": "1.2.0",
          "state": {
            "_model_module": "@jupyter-widgets/base",
            "_model_module_version": "1.2.0",
            "_model_name": "LayoutModel",
            "_view_count": null,
            "_view_module": "@jupyter-widgets/base",
            "_view_module_version": "1.2.0",
            "_view_name": "LayoutView",
            "align_content": null,
            "align_items": null,
            "align_self": null,
            "border": null,
            "bottom": null,
            "display": null,
            "flex": null,
            "flex_flow": null,
            "grid_area": null,
            "grid_auto_columns": null,
            "grid_auto_flow": null,
            "grid_auto_rows": null,
            "grid_column": null,
            "grid_gap": null,
            "grid_row": null,
            "grid_template_areas": null,
            "grid_template_columns": null,
            "grid_template_rows": null,
            "height": null,
            "justify_content": null,
            "justify_items": null,
            "left": null,
            "margin": null,
            "max_height": null,
            "max_width": null,
            "min_height": null,
            "min_width": null,
            "object_fit": null,
            "object_position": null,
            "order": null,
            "overflow": null,
            "overflow_x": null,
            "overflow_y": null,
            "padding": null,
            "right": null,
            "top": null,
            "visibility": null,
            "width": null
          }
        },
        "0f07b3ef70c146ddbdc33050c1d06891": {
          "model_module": "@jupyter-widgets/controls",
          "model_name": "DescriptionStyleModel",
          "model_module_version": "1.5.0",
          "state": {
            "_model_module": "@jupyter-widgets/controls",
            "_model_module_version": "1.5.0",
            "_model_name": "DescriptionStyleModel",
            "_view_count": null,
            "_view_module": "@jupyter-widgets/base",
            "_view_module_version": "1.2.0",
            "_view_name": "StyleView",
            "description_width": ""
          }
        },
        "79aac916ae5e4beab42eb59a5433eada": {
          "model_module": "@jupyter-widgets/base",
          "model_name": "LayoutModel",
          "model_module_version": "1.2.0",
          "state": {
            "_model_module": "@jupyter-widgets/base",
            "_model_module_version": "1.2.0",
            "_model_name": "LayoutModel",
            "_view_count": null,
            "_view_module": "@jupyter-widgets/base",
            "_view_module_version": "1.2.0",
            "_view_name": "LayoutView",
            "align_content": null,
            "align_items": null,
            "align_self": null,
            "border": null,
            "bottom": null,
            "display": null,
            "flex": null,
            "flex_flow": null,
            "grid_area": null,
            "grid_auto_columns": null,
            "grid_auto_flow": null,
            "grid_auto_rows": null,
            "grid_column": null,
            "grid_gap": null,
            "grid_row": null,
            "grid_template_areas": null,
            "grid_template_columns": null,
            "grid_template_rows": null,
            "height": null,
            "justify_content": null,
            "justify_items": null,
            "left": null,
            "margin": null,
            "max_height": null,
            "max_width": null,
            "min_height": null,
            "min_width": null,
            "object_fit": null,
            "object_position": null,
            "order": null,
            "overflow": null,
            "overflow_x": null,
            "overflow_y": null,
            "padding": null,
            "right": null,
            "top": null,
            "visibility": null,
            "width": null
          }
        },
        "ab806d3876094e7f973ad0de23b790f8": {
          "model_module": "@jupyter-widgets/controls",
          "model_name": "ProgressStyleModel",
          "model_module_version": "1.5.0",
          "state": {
            "_model_module": "@jupyter-widgets/controls",
            "_model_module_version": "1.5.0",
            "_model_name": "ProgressStyleModel",
            "_view_count": null,
            "_view_module": "@jupyter-widgets/base",
            "_view_module_version": "1.2.0",
            "_view_name": "StyleView",
            "bar_color": null,
            "description_width": ""
          }
        },
        "9f358d8879a345d28d0d8c12752053fb": {
          "model_module": "@jupyter-widgets/base",
          "model_name": "LayoutModel",
          "model_module_version": "1.2.0",
          "state": {
            "_model_module": "@jupyter-widgets/base",
            "_model_module_version": "1.2.0",
            "_model_name": "LayoutModel",
            "_view_count": null,
            "_view_module": "@jupyter-widgets/base",
            "_view_module_version": "1.2.0",
            "_view_name": "LayoutView",
            "align_content": null,
            "align_items": null,
            "align_self": null,
            "border": null,
            "bottom": null,
            "display": null,
            "flex": null,
            "flex_flow": null,
            "grid_area": null,
            "grid_auto_columns": null,
            "grid_auto_flow": null,
            "grid_auto_rows": null,
            "grid_column": null,
            "grid_gap": null,
            "grid_row": null,
            "grid_template_areas": null,
            "grid_template_columns": null,
            "grid_template_rows": null,
            "height": null,
            "justify_content": null,
            "justify_items": null,
            "left": null,
            "margin": null,
            "max_height": null,
            "max_width": null,
            "min_height": null,
            "min_width": null,
            "object_fit": null,
            "object_position": null,
            "order": null,
            "overflow": null,
            "overflow_x": null,
            "overflow_y": null,
            "padding": null,
            "right": null,
            "top": null,
            "visibility": null,
            "width": null
          }
        },
        "169a8df737ef43bebdee83b636b8e73c": {
          "model_module": "@jupyter-widgets/controls",
          "model_name": "DescriptionStyleModel",
          "model_module_version": "1.5.0",
          "state": {
            "_model_module": "@jupyter-widgets/controls",
            "_model_module_version": "1.5.0",
            "_model_name": "DescriptionStyleModel",
            "_view_count": null,
            "_view_module": "@jupyter-widgets/base",
            "_view_module_version": "1.2.0",
            "_view_name": "StyleView",
            "description_width": ""
          }
        },
        "cb94d9d48125432fa446e2dff7ab4c7d": {
          "model_module": "@jupyter-widgets/controls",
          "model_name": "HBoxModel",
          "model_module_version": "1.5.0",
          "state": {
            "_dom_classes": [],
            "_model_module": "@jupyter-widgets/controls",
            "_model_module_version": "1.5.0",
            "_model_name": "HBoxModel",
            "_view_count": null,
            "_view_module": "@jupyter-widgets/controls",
            "_view_module_version": "1.5.0",
            "_view_name": "HBoxView",
            "box_style": "",
            "children": [
              "IPY_MODEL_a7e9da4c703c47159ad0a14f53719e64",
              "IPY_MODEL_301769ac21ab4973bb77061b469cbf3d",
              "IPY_MODEL_ec35acb2c2cd4a24ac0bfa5747765aad"
            ],
            "layout": "IPY_MODEL_be698dceba214b35929b240b24808f01"
          }
        },
        "a7e9da4c703c47159ad0a14f53719e64": {
          "model_module": "@jupyter-widgets/controls",
          "model_name": "HTMLModel",
          "model_module_version": "1.5.0",
          "state": {
            "_dom_classes": [],
            "_model_module": "@jupyter-widgets/controls",
            "_model_module_version": "1.5.0",
            "_model_name": "HTMLModel",
            "_view_count": null,
            "_view_module": "@jupyter-widgets/controls",
            "_view_module_version": "1.5.0",
            "_view_name": "HTMLView",
            "description": "",
            "description_tooltip": null,
            "layout": "IPY_MODEL_f6c0211e57f6485cb3e4257f1a56c5a8",
            "placeholder": "​",
            "style": "IPY_MODEL_dd300c5699544a8aab3b4ac43390b9ed",
            "value": "epochs: 100%"
          }
        },
        "301769ac21ab4973bb77061b469cbf3d": {
          "model_module": "@jupyter-widgets/controls",
          "model_name": "FloatProgressModel",
          "model_module_version": "1.5.0",
          "state": {
            "_dom_classes": [],
            "_model_module": "@jupyter-widgets/controls",
            "_model_module_version": "1.5.0",
            "_model_name": "FloatProgressModel",
            "_view_count": null,
            "_view_module": "@jupyter-widgets/controls",
            "_view_module_version": "1.5.0",
            "_view_name": "ProgressView",
            "bar_style": "success",
            "description": "",
            "description_tooltip": null,
            "layout": "IPY_MODEL_b152035d95894574a15ea435a5c95851",
            "max": 1,
            "min": 0,
            "orientation": "horizontal",
            "style": "IPY_MODEL_e8a299b22d244635ac9590cf472f3b86",
            "value": 1
          }
        },
        "ec35acb2c2cd4a24ac0bfa5747765aad": {
          "model_module": "@jupyter-widgets/controls",
          "model_name": "HTMLModel",
          "model_module_version": "1.5.0",
          "state": {
            "_dom_classes": [],
            "_model_module": "@jupyter-widgets/controls",
            "_model_module_version": "1.5.0",
            "_model_name": "HTMLModel",
            "_view_count": null,
            "_view_module": "@jupyter-widgets/controls",
            "_view_module_version": "1.5.0",
            "_view_name": "HTMLView",
            "description": "",
            "description_tooltip": null,
            "layout": "IPY_MODEL_cd9e8aa3f1db494cb0a421f599cfe4fd",
            "placeholder": "​",
            "style": "IPY_MODEL_7363d849e3834129b6972dc1fb361d45",
            "value": " 1/1 [01:11&lt;00:00, 71.21s/it]"
          }
        },
        "be698dceba214b35929b240b24808f01": {
          "model_module": "@jupyter-widgets/base",
          "model_name": "LayoutModel",
          "model_module_version": "1.2.0",
          "state": {
            "_model_module": "@jupyter-widgets/base",
            "_model_module_version": "1.2.0",
            "_model_name": "LayoutModel",
            "_view_count": null,
            "_view_module": "@jupyter-widgets/base",
            "_view_module_version": "1.2.0",
            "_view_name": "LayoutView",
            "align_content": null,
            "align_items": null,
            "align_self": null,
            "border": null,
            "bottom": null,
            "display": null,
            "flex": null,
            "flex_flow": null,
            "grid_area": null,
            "grid_auto_columns": null,
            "grid_auto_flow": null,
            "grid_auto_rows": null,
            "grid_column": null,
            "grid_gap": null,
            "grid_row": null,
            "grid_template_areas": null,
            "grid_template_columns": null,
            "grid_template_rows": null,
            "height": null,
            "justify_content": null,
            "justify_items": null,
            "left": null,
            "margin": null,
            "max_height": null,
            "max_width": null,
            "min_height": null,
            "min_width": null,
            "object_fit": null,
            "object_position": null,
            "order": null,
            "overflow": null,
            "overflow_x": null,
            "overflow_y": null,
            "padding": null,
            "right": null,
            "top": null,
            "visibility": null,
            "width": null
          }
        },
        "f6c0211e57f6485cb3e4257f1a56c5a8": {
          "model_module": "@jupyter-widgets/base",
          "model_name": "LayoutModel",
          "model_module_version": "1.2.0",
          "state": {
            "_model_module": "@jupyter-widgets/base",
            "_model_module_version": "1.2.0",
            "_model_name": "LayoutModel",
            "_view_count": null,
            "_view_module": "@jupyter-widgets/base",
            "_view_module_version": "1.2.0",
            "_view_name": "LayoutView",
            "align_content": null,
            "align_items": null,
            "align_self": null,
            "border": null,
            "bottom": null,
            "display": null,
            "flex": null,
            "flex_flow": null,
            "grid_area": null,
            "grid_auto_columns": null,
            "grid_auto_flow": null,
            "grid_auto_rows": null,
            "grid_column": null,
            "grid_gap": null,
            "grid_row": null,
            "grid_template_areas": null,
            "grid_template_columns": null,
            "grid_template_rows": null,
            "height": null,
            "justify_content": null,
            "justify_items": null,
            "left": null,
            "margin": null,
            "max_height": null,
            "max_width": null,
            "min_height": null,
            "min_width": null,
            "object_fit": null,
            "object_position": null,
            "order": null,
            "overflow": null,
            "overflow_x": null,
            "overflow_y": null,
            "padding": null,
            "right": null,
            "top": null,
            "visibility": null,
            "width": null
          }
        },
        "dd300c5699544a8aab3b4ac43390b9ed": {
          "model_module": "@jupyter-widgets/controls",
          "model_name": "DescriptionStyleModel",
          "model_module_version": "1.5.0",
          "state": {
            "_model_module": "@jupyter-widgets/controls",
            "_model_module_version": "1.5.0",
            "_model_name": "DescriptionStyleModel",
            "_view_count": null,
            "_view_module": "@jupyter-widgets/base",
            "_view_module_version": "1.2.0",
            "_view_name": "StyleView",
            "description_width": ""
          }
        },
        "b152035d95894574a15ea435a5c95851": {
          "model_module": "@jupyter-widgets/base",
          "model_name": "LayoutModel",
          "model_module_version": "1.2.0",
          "state": {
            "_model_module": "@jupyter-widgets/base",
            "_model_module_version": "1.2.0",
            "_model_name": "LayoutModel",
            "_view_count": null,
            "_view_module": "@jupyter-widgets/base",
            "_view_module_version": "1.2.0",
            "_view_name": "LayoutView",
            "align_content": null,
            "align_items": null,
            "align_self": null,
            "border": null,
            "bottom": null,
            "display": null,
            "flex": null,
            "flex_flow": null,
            "grid_area": null,
            "grid_auto_columns": null,
            "grid_auto_flow": null,
            "grid_auto_rows": null,
            "grid_column": null,
            "grid_gap": null,
            "grid_row": null,
            "grid_template_areas": null,
            "grid_template_columns": null,
            "grid_template_rows": null,
            "height": null,
            "justify_content": null,
            "justify_items": null,
            "left": null,
            "margin": null,
            "max_height": null,
            "max_width": null,
            "min_height": null,
            "min_width": null,
            "object_fit": null,
            "object_position": null,
            "order": null,
            "overflow": null,
            "overflow_x": null,
            "overflow_y": null,
            "padding": null,
            "right": null,
            "top": null,
            "visibility": null,
            "width": null
          }
        },
        "e8a299b22d244635ac9590cf472f3b86": {
          "model_module": "@jupyter-widgets/controls",
          "model_name": "ProgressStyleModel",
          "model_module_version": "1.5.0",
          "state": {
            "_model_module": "@jupyter-widgets/controls",
            "_model_module_version": "1.5.0",
            "_model_name": "ProgressStyleModel",
            "_view_count": null,
            "_view_module": "@jupyter-widgets/base",
            "_view_module_version": "1.2.0",
            "_view_name": "StyleView",
            "bar_color": null,
            "description_width": ""
          }
        },
        "cd9e8aa3f1db494cb0a421f599cfe4fd": {
          "model_module": "@jupyter-widgets/base",
          "model_name": "LayoutModel",
          "model_module_version": "1.2.0",
          "state": {
            "_model_module": "@jupyter-widgets/base",
            "_model_module_version": "1.2.0",
            "_model_name": "LayoutModel",
            "_view_count": null,
            "_view_module": "@jupyter-widgets/base",
            "_view_module_version": "1.2.0",
            "_view_name": "LayoutView",
            "align_content": null,
            "align_items": null,
            "align_self": null,
            "border": null,
            "bottom": null,
            "display": null,
            "flex": null,
            "flex_flow": null,
            "grid_area": null,
            "grid_auto_columns": null,
            "grid_auto_flow": null,
            "grid_auto_rows": null,
            "grid_column": null,
            "grid_gap": null,
            "grid_row": null,
            "grid_template_areas": null,
            "grid_template_columns": null,
            "grid_template_rows": null,
            "height": null,
            "justify_content": null,
            "justify_items": null,
            "left": null,
            "margin": null,
            "max_height": null,
            "max_width": null,
            "min_height": null,
            "min_width": null,
            "object_fit": null,
            "object_position": null,
            "order": null,
            "overflow": null,
            "overflow_x": null,
            "overflow_y": null,
            "padding": null,
            "right": null,
            "top": null,
            "visibility": null,
            "width": null
          }
        },
        "7363d849e3834129b6972dc1fb361d45": {
          "model_module": "@jupyter-widgets/controls",
          "model_name": "DescriptionStyleModel",
          "model_module_version": "1.5.0",
          "state": {
            "_model_module": "@jupyter-widgets/controls",
            "_model_module_version": "1.5.0",
            "_model_name": "DescriptionStyleModel",
            "_view_count": null,
            "_view_module": "@jupyter-widgets/base",
            "_view_module_version": "1.2.0",
            "_view_name": "StyleView",
            "description_width": ""
          }
        },
        "387cf3c24c304246b425b5d906bdc674": {
          "model_module": "@jupyter-widgets/controls",
          "model_name": "HBoxModel",
          "model_module_version": "1.5.0",
          "state": {
            "_dom_classes": [],
            "_model_module": "@jupyter-widgets/controls",
            "_model_module_version": "1.5.0",
            "_model_name": "HBoxModel",
            "_view_count": null,
            "_view_module": "@jupyter-widgets/controls",
            "_view_module_version": "1.5.0",
            "_view_name": "HBoxView",
            "box_style": "",
            "children": [
              "IPY_MODEL_0914adee8a6e4c0a8c780910bfa65bd2",
              "IPY_MODEL_b24b2369bff240f3b80d79cf79899bfb",
              "IPY_MODEL_ca619d928c474addab8422bf7b41d2e2"
            ],
            "layout": "IPY_MODEL_e3480420356348e5a519a43b55c13762"
          }
        },
        "0914adee8a6e4c0a8c780910bfa65bd2": {
          "model_module": "@jupyter-widgets/controls",
          "model_name": "HTMLModel",
          "model_module_version": "1.5.0",
          "state": {
            "_dom_classes": [],
            "_model_module": "@jupyter-widgets/controls",
            "_model_module_version": "1.5.0",
            "_model_name": "HTMLModel",
            "_view_count": null,
            "_view_module": "@jupyter-widgets/controls",
            "_view_module_version": "1.5.0",
            "_view_name": "HTMLView",
            "description": "",
            "description_tooltip": null,
            "layout": "IPY_MODEL_7c9c778fd32646bd9183a0a16368d3f3",
            "placeholder": "​",
            "style": "IPY_MODEL_42a0e7473efc45db990a7dd99beaef27",
            "value": "iteration: 100%"
          }
        },
        "b24b2369bff240f3b80d79cf79899bfb": {
          "model_module": "@jupyter-widgets/controls",
          "model_name": "FloatProgressModel",
          "model_module_version": "1.5.0",
          "state": {
            "_dom_classes": [],
            "_model_module": "@jupyter-widgets/controls",
            "_model_module_version": "1.5.0",
            "_model_name": "FloatProgressModel",
            "_view_count": null,
            "_view_module": "@jupyter-widgets/controls",
            "_view_module_version": "1.5.0",
            "_view_name": "ProgressView",
            "bar_style": "success",
            "description": "",
            "description_tooltip": null,
            "layout": "IPY_MODEL_f5e5fa9016074976a11f01b1871c2f9e",
            "max": 100,
            "min": 0,
            "orientation": "horizontal",
            "style": "IPY_MODEL_4c7e7bd8046d40f7a4d1bafa8adc2e3a",
            "value": 100
          }
        },
        "ca619d928c474addab8422bf7b41d2e2": {
          "model_module": "@jupyter-widgets/controls",
          "model_name": "HTMLModel",
          "model_module_version": "1.5.0",
          "state": {
            "_dom_classes": [],
            "_model_module": "@jupyter-widgets/controls",
            "_model_module_version": "1.5.0",
            "_model_name": "HTMLModel",
            "_view_count": null,
            "_view_module": "@jupyter-widgets/controls",
            "_view_module_version": "1.5.0",
            "_view_name": "HTMLView",
            "description": "",
            "description_tooltip": null,
            "layout": "IPY_MODEL_ff153ccc0fd94917a8734be07ee4cdb1",
            "placeholder": "​",
            "style": "IPY_MODEL_77b10c7524e44b8d9c453bdc903bf277",
            "value": " 100/100 [01:11&lt;00:00,  1.17it/s]"
          }
        },
        "e3480420356348e5a519a43b55c13762": {
          "model_module": "@jupyter-widgets/base",
          "model_name": "LayoutModel",
          "model_module_version": "1.2.0",
          "state": {
            "_model_module": "@jupyter-widgets/base",
            "_model_module_version": "1.2.0",
            "_model_name": "LayoutModel",
            "_view_count": null,
            "_view_module": "@jupyter-widgets/base",
            "_view_module_version": "1.2.0",
            "_view_name": "LayoutView",
            "align_content": null,
            "align_items": null,
            "align_self": null,
            "border": null,
            "bottom": null,
            "display": null,
            "flex": null,
            "flex_flow": null,
            "grid_area": null,
            "grid_auto_columns": null,
            "grid_auto_flow": null,
            "grid_auto_rows": null,
            "grid_column": null,
            "grid_gap": null,
            "grid_row": null,
            "grid_template_areas": null,
            "grid_template_columns": null,
            "grid_template_rows": null,
            "height": null,
            "justify_content": null,
            "justify_items": null,
            "left": null,
            "margin": null,
            "max_height": null,
            "max_width": null,
            "min_height": null,
            "min_width": null,
            "object_fit": null,
            "object_position": null,
            "order": null,
            "overflow": null,
            "overflow_x": null,
            "overflow_y": null,
            "padding": null,
            "right": null,
            "top": null,
            "visibility": null,
            "width": null
          }
        },
        "7c9c778fd32646bd9183a0a16368d3f3": {
          "model_module": "@jupyter-widgets/base",
          "model_name": "LayoutModel",
          "model_module_version": "1.2.0",
          "state": {
            "_model_module": "@jupyter-widgets/base",
            "_model_module_version": "1.2.0",
            "_model_name": "LayoutModel",
            "_view_count": null,
            "_view_module": "@jupyter-widgets/base",
            "_view_module_version": "1.2.0",
            "_view_name": "LayoutView",
            "align_content": null,
            "align_items": null,
            "align_self": null,
            "border": null,
            "bottom": null,
            "display": null,
            "flex": null,
            "flex_flow": null,
            "grid_area": null,
            "grid_auto_columns": null,
            "grid_auto_flow": null,
            "grid_auto_rows": null,
            "grid_column": null,
            "grid_gap": null,
            "grid_row": null,
            "grid_template_areas": null,
            "grid_template_columns": null,
            "grid_template_rows": null,
            "height": null,
            "justify_content": null,
            "justify_items": null,
            "left": null,
            "margin": null,
            "max_height": null,
            "max_width": null,
            "min_height": null,
            "min_width": null,
            "object_fit": null,
            "object_position": null,
            "order": null,
            "overflow": null,
            "overflow_x": null,
            "overflow_y": null,
            "padding": null,
            "right": null,
            "top": null,
            "visibility": null,
            "width": null
          }
        },
        "42a0e7473efc45db990a7dd99beaef27": {
          "model_module": "@jupyter-widgets/controls",
          "model_name": "DescriptionStyleModel",
          "model_module_version": "1.5.0",
          "state": {
            "_model_module": "@jupyter-widgets/controls",
            "_model_module_version": "1.5.0",
            "_model_name": "DescriptionStyleModel",
            "_view_count": null,
            "_view_module": "@jupyter-widgets/base",
            "_view_module_version": "1.2.0",
            "_view_name": "StyleView",
            "description_width": ""
          }
        },
        "f5e5fa9016074976a11f01b1871c2f9e": {
          "model_module": "@jupyter-widgets/base",
          "model_name": "LayoutModel",
          "model_module_version": "1.2.0",
          "state": {
            "_model_module": "@jupyter-widgets/base",
            "_model_module_version": "1.2.0",
            "_model_name": "LayoutModel",
            "_view_count": null,
            "_view_module": "@jupyter-widgets/base",
            "_view_module_version": "1.2.0",
            "_view_name": "LayoutView",
            "align_content": null,
            "align_items": null,
            "align_self": null,
            "border": null,
            "bottom": null,
            "display": null,
            "flex": null,
            "flex_flow": null,
            "grid_area": null,
            "grid_auto_columns": null,
            "grid_auto_flow": null,
            "grid_auto_rows": null,
            "grid_column": null,
            "grid_gap": null,
            "grid_row": null,
            "grid_template_areas": null,
            "grid_template_columns": null,
            "grid_template_rows": null,
            "height": null,
            "justify_content": null,
            "justify_items": null,
            "left": null,
            "margin": null,
            "max_height": null,
            "max_width": null,
            "min_height": null,
            "min_width": null,
            "object_fit": null,
            "object_position": null,
            "order": null,
            "overflow": null,
            "overflow_x": null,
            "overflow_y": null,
            "padding": null,
            "right": null,
            "top": null,
            "visibility": null,
            "width": null
          }
        },
        "4c7e7bd8046d40f7a4d1bafa8adc2e3a": {
          "model_module": "@jupyter-widgets/controls",
          "model_name": "ProgressStyleModel",
          "model_module_version": "1.5.0",
          "state": {
            "_model_module": "@jupyter-widgets/controls",
            "_model_module_version": "1.5.0",
            "_model_name": "ProgressStyleModel",
            "_view_count": null,
            "_view_module": "@jupyter-widgets/base",
            "_view_module_version": "1.2.0",
            "_view_name": "StyleView",
            "bar_color": null,
            "description_width": ""
          }
        },
        "ff153ccc0fd94917a8734be07ee4cdb1": {
          "model_module": "@jupyter-widgets/base",
          "model_name": "LayoutModel",
          "model_module_version": "1.2.0",
          "state": {
            "_model_module": "@jupyter-widgets/base",
            "_model_module_version": "1.2.0",
            "_model_name": "LayoutModel",
            "_view_count": null,
            "_view_module": "@jupyter-widgets/base",
            "_view_module_version": "1.2.0",
            "_view_name": "LayoutView",
            "align_content": null,
            "align_items": null,
            "align_self": null,
            "border": null,
            "bottom": null,
            "display": null,
            "flex": null,
            "flex_flow": null,
            "grid_area": null,
            "grid_auto_columns": null,
            "grid_auto_flow": null,
            "grid_auto_rows": null,
            "grid_column": null,
            "grid_gap": null,
            "grid_row": null,
            "grid_template_areas": null,
            "grid_template_columns": null,
            "grid_template_rows": null,
            "height": null,
            "justify_content": null,
            "justify_items": null,
            "left": null,
            "margin": null,
            "max_height": null,
            "max_width": null,
            "min_height": null,
            "min_width": null,
            "object_fit": null,
            "object_position": null,
            "order": null,
            "overflow": null,
            "overflow_x": null,
            "overflow_y": null,
            "padding": null,
            "right": null,
            "top": null,
            "visibility": null,
            "width": null
          }
        },
        "77b10c7524e44b8d9c453bdc903bf277": {
          "model_module": "@jupyter-widgets/controls",
          "model_name": "DescriptionStyleModel",
          "model_module_version": "1.5.0",
          "state": {
            "_model_module": "@jupyter-widgets/controls",
            "_model_module_version": "1.5.0",
            "_model_name": "DescriptionStyleModel",
            "_view_count": null,
            "_view_module": "@jupyter-widgets/base",
            "_view_module_version": "1.2.0",
            "_view_name": "StyleView",
            "description_width": ""
          }
        },
        "9ba18fd2c5b64f90b97bed8c80678f5b": {
          "model_module": "@jupyter-widgets/controls",
          "model_name": "HBoxModel",
          "model_module_version": "1.5.0",
          "state": {
            "_dom_classes": [],
            "_model_module": "@jupyter-widgets/controls",
            "_model_module_version": "1.5.0",
            "_model_name": "HBoxModel",
            "_view_count": null,
            "_view_module": "@jupyter-widgets/controls",
            "_view_module_version": "1.5.0",
            "_view_name": "HBoxView",
            "box_style": "",
            "children": [
              "IPY_MODEL_2888ca7876ce477083783cb2df5d357e",
              "IPY_MODEL_ae1bff2baa75446ea04822f91913d48f",
              "IPY_MODEL_3dfcc350743140509a44c80e80482c89"
            ],
            "layout": "IPY_MODEL_6e1ce85b098641e59798c4962c4468a8"
          }
        },
        "2888ca7876ce477083783cb2df5d357e": {
          "model_module": "@jupyter-widgets/controls",
          "model_name": "HTMLModel",
          "model_module_version": "1.5.0",
          "state": {
            "_dom_classes": [],
            "_model_module": "@jupyter-widgets/controls",
            "_model_module_version": "1.5.0",
            "_model_name": "HTMLModel",
            "_view_count": null,
            "_view_module": "@jupyter-widgets/controls",
            "_view_module_version": "1.5.0",
            "_view_name": "HTMLView",
            "description": "",
            "description_tooltip": null,
            "layout": "IPY_MODEL_f12dc5de38ac48e4b59c258dd16bf333",
            "placeholder": "​",
            "style": "IPY_MODEL_2b239074dc57429598a7ece10541704d",
            "value": "epochs: 100%"
          }
        },
        "ae1bff2baa75446ea04822f91913d48f": {
          "model_module": "@jupyter-widgets/controls",
          "model_name": "FloatProgressModel",
          "model_module_version": "1.5.0",
          "state": {
            "_dom_classes": [],
            "_model_module": "@jupyter-widgets/controls",
            "_model_module_version": "1.5.0",
            "_model_name": "FloatProgressModel",
            "_view_count": null,
            "_view_module": "@jupyter-widgets/controls",
            "_view_module_version": "1.5.0",
            "_view_name": "ProgressView",
            "bar_style": "success",
            "description": "",
            "description_tooltip": null,
            "layout": "IPY_MODEL_8aef1c51995c45489dee5a050cd023e0",
            "max": 1,
            "min": 0,
            "orientation": "horizontal",
            "style": "IPY_MODEL_a815dae27349474caef7b954f8e93a31",
            "value": 1
          }
        },
        "3dfcc350743140509a44c80e80482c89": {
          "model_module": "@jupyter-widgets/controls",
          "model_name": "HTMLModel",
          "model_module_version": "1.5.0",
          "state": {
            "_dom_classes": [],
            "_model_module": "@jupyter-widgets/controls",
            "_model_module_version": "1.5.0",
            "_model_name": "HTMLModel",
            "_view_count": null,
            "_view_module": "@jupyter-widgets/controls",
            "_view_module_version": "1.5.0",
            "_view_name": "HTMLView",
            "description": "",
            "description_tooltip": null,
            "layout": "IPY_MODEL_986e9214cead40aeb788eaf494afc134",
            "placeholder": "​",
            "style": "IPY_MODEL_2383754e71864407827bb5a07434eac1",
            "value": " 1/1 [01:11&lt;00:00, 71.42s/it]"
          }
        },
        "6e1ce85b098641e59798c4962c4468a8": {
          "model_module": "@jupyter-widgets/base",
          "model_name": "LayoutModel",
          "model_module_version": "1.2.0",
          "state": {
            "_model_module": "@jupyter-widgets/base",
            "_model_module_version": "1.2.0",
            "_model_name": "LayoutModel",
            "_view_count": null,
            "_view_module": "@jupyter-widgets/base",
            "_view_module_version": "1.2.0",
            "_view_name": "LayoutView",
            "align_content": null,
            "align_items": null,
            "align_self": null,
            "border": null,
            "bottom": null,
            "display": null,
            "flex": null,
            "flex_flow": null,
            "grid_area": null,
            "grid_auto_columns": null,
            "grid_auto_flow": null,
            "grid_auto_rows": null,
            "grid_column": null,
            "grid_gap": null,
            "grid_row": null,
            "grid_template_areas": null,
            "grid_template_columns": null,
            "grid_template_rows": null,
            "height": null,
            "justify_content": null,
            "justify_items": null,
            "left": null,
            "margin": null,
            "max_height": null,
            "max_width": null,
            "min_height": null,
            "min_width": null,
            "object_fit": null,
            "object_position": null,
            "order": null,
            "overflow": null,
            "overflow_x": null,
            "overflow_y": null,
            "padding": null,
            "right": null,
            "top": null,
            "visibility": null,
            "width": null
          }
        },
        "f12dc5de38ac48e4b59c258dd16bf333": {
          "model_module": "@jupyter-widgets/base",
          "model_name": "LayoutModel",
          "model_module_version": "1.2.0",
          "state": {
            "_model_module": "@jupyter-widgets/base",
            "_model_module_version": "1.2.0",
            "_model_name": "LayoutModel",
            "_view_count": null,
            "_view_module": "@jupyter-widgets/base",
            "_view_module_version": "1.2.0",
            "_view_name": "LayoutView",
            "align_content": null,
            "align_items": null,
            "align_self": null,
            "border": null,
            "bottom": null,
            "display": null,
            "flex": null,
            "flex_flow": null,
            "grid_area": null,
            "grid_auto_columns": null,
            "grid_auto_flow": null,
            "grid_auto_rows": null,
            "grid_column": null,
            "grid_gap": null,
            "grid_row": null,
            "grid_template_areas": null,
            "grid_template_columns": null,
            "grid_template_rows": null,
            "height": null,
            "justify_content": null,
            "justify_items": null,
            "left": null,
            "margin": null,
            "max_height": null,
            "max_width": null,
            "min_height": null,
            "min_width": null,
            "object_fit": null,
            "object_position": null,
            "order": null,
            "overflow": null,
            "overflow_x": null,
            "overflow_y": null,
            "padding": null,
            "right": null,
            "top": null,
            "visibility": null,
            "width": null
          }
        },
        "2b239074dc57429598a7ece10541704d": {
          "model_module": "@jupyter-widgets/controls",
          "model_name": "DescriptionStyleModel",
          "model_module_version": "1.5.0",
          "state": {
            "_model_module": "@jupyter-widgets/controls",
            "_model_module_version": "1.5.0",
            "_model_name": "DescriptionStyleModel",
            "_view_count": null,
            "_view_module": "@jupyter-widgets/base",
            "_view_module_version": "1.2.0",
            "_view_name": "StyleView",
            "description_width": ""
          }
        },
        "8aef1c51995c45489dee5a050cd023e0": {
          "model_module": "@jupyter-widgets/base",
          "model_name": "LayoutModel",
          "model_module_version": "1.2.0",
          "state": {
            "_model_module": "@jupyter-widgets/base",
            "_model_module_version": "1.2.0",
            "_model_name": "LayoutModel",
            "_view_count": null,
            "_view_module": "@jupyter-widgets/base",
            "_view_module_version": "1.2.0",
            "_view_name": "LayoutView",
            "align_content": null,
            "align_items": null,
            "align_self": null,
            "border": null,
            "bottom": null,
            "display": null,
            "flex": null,
            "flex_flow": null,
            "grid_area": null,
            "grid_auto_columns": null,
            "grid_auto_flow": null,
            "grid_auto_rows": null,
            "grid_column": null,
            "grid_gap": null,
            "grid_row": null,
            "grid_template_areas": null,
            "grid_template_columns": null,
            "grid_template_rows": null,
            "height": null,
            "justify_content": null,
            "justify_items": null,
            "left": null,
            "margin": null,
            "max_height": null,
            "max_width": null,
            "min_height": null,
            "min_width": null,
            "object_fit": null,
            "object_position": null,
            "order": null,
            "overflow": null,
            "overflow_x": null,
            "overflow_y": null,
            "padding": null,
            "right": null,
            "top": null,
            "visibility": null,
            "width": null
          }
        },
        "a815dae27349474caef7b954f8e93a31": {
          "model_module": "@jupyter-widgets/controls",
          "model_name": "ProgressStyleModel",
          "model_module_version": "1.5.0",
          "state": {
            "_model_module": "@jupyter-widgets/controls",
            "_model_module_version": "1.5.0",
            "_model_name": "ProgressStyleModel",
            "_view_count": null,
            "_view_module": "@jupyter-widgets/base",
            "_view_module_version": "1.2.0",
            "_view_name": "StyleView",
            "bar_color": null,
            "description_width": ""
          }
        },
        "986e9214cead40aeb788eaf494afc134": {
          "model_module": "@jupyter-widgets/base",
          "model_name": "LayoutModel",
          "model_module_version": "1.2.0",
          "state": {
            "_model_module": "@jupyter-widgets/base",
            "_model_module_version": "1.2.0",
            "_model_name": "LayoutModel",
            "_view_count": null,
            "_view_module": "@jupyter-widgets/base",
            "_view_module_version": "1.2.0",
            "_view_name": "LayoutView",
            "align_content": null,
            "align_items": null,
            "align_self": null,
            "border": null,
            "bottom": null,
            "display": null,
            "flex": null,
            "flex_flow": null,
            "grid_area": null,
            "grid_auto_columns": null,
            "grid_auto_flow": null,
            "grid_auto_rows": null,
            "grid_column": null,
            "grid_gap": null,
            "grid_row": null,
            "grid_template_areas": null,
            "grid_template_columns": null,
            "grid_template_rows": null,
            "height": null,
            "justify_content": null,
            "justify_items": null,
            "left": null,
            "margin": null,
            "max_height": null,
            "max_width": null,
            "min_height": null,
            "min_width": null,
            "object_fit": null,
            "object_position": null,
            "order": null,
            "overflow": null,
            "overflow_x": null,
            "overflow_y": null,
            "padding": null,
            "right": null,
            "top": null,
            "visibility": null,
            "width": null
          }
        },
        "2383754e71864407827bb5a07434eac1": {
          "model_module": "@jupyter-widgets/controls",
          "model_name": "DescriptionStyleModel",
          "model_module_version": "1.5.0",
          "state": {
            "_model_module": "@jupyter-widgets/controls",
            "_model_module_version": "1.5.0",
            "_model_name": "DescriptionStyleModel",
            "_view_count": null,
            "_view_module": "@jupyter-widgets/base",
            "_view_module_version": "1.2.0",
            "_view_name": "StyleView",
            "description_width": ""
          }
        },
        "b39672afbedc4a30939e9a213f0e9107": {
          "model_module": "@jupyter-widgets/controls",
          "model_name": "HBoxModel",
          "model_module_version": "1.5.0",
          "state": {
            "_dom_classes": [],
            "_model_module": "@jupyter-widgets/controls",
            "_model_module_version": "1.5.0",
            "_model_name": "HBoxModel",
            "_view_count": null,
            "_view_module": "@jupyter-widgets/controls",
            "_view_module_version": "1.5.0",
            "_view_name": "HBoxView",
            "box_style": "",
            "children": [
              "IPY_MODEL_62ce95b54b564f2bb28438afaadf2776",
              "IPY_MODEL_cee7caafb49f4ff99b3cad45e3282f79",
              "IPY_MODEL_01908ee11c1842f098e384bd8a5f61d8"
            ],
            "layout": "IPY_MODEL_3ada33840c694ca0b45b6eb9ab0a8bc5"
          }
        },
        "62ce95b54b564f2bb28438afaadf2776": {
          "model_module": "@jupyter-widgets/controls",
          "model_name": "HTMLModel",
          "model_module_version": "1.5.0",
          "state": {
            "_dom_classes": [],
            "_model_module": "@jupyter-widgets/controls",
            "_model_module_version": "1.5.0",
            "_model_name": "HTMLModel",
            "_view_count": null,
            "_view_module": "@jupyter-widgets/controls",
            "_view_module_version": "1.5.0",
            "_view_name": "HTMLView",
            "description": "",
            "description_tooltip": null,
            "layout": "IPY_MODEL_b80d176006d0404d878a50bf9ff9d487",
            "placeholder": "​",
            "style": "IPY_MODEL_ac2c0fb15f484b02ac2a50dfbd386cc6",
            "value": "iteration: 100%"
          }
        },
        "cee7caafb49f4ff99b3cad45e3282f79": {
          "model_module": "@jupyter-widgets/controls",
          "model_name": "FloatProgressModel",
          "model_module_version": "1.5.0",
          "state": {
            "_dom_classes": [],
            "_model_module": "@jupyter-widgets/controls",
            "_model_module_version": "1.5.0",
            "_model_name": "FloatProgressModel",
            "_view_count": null,
            "_view_module": "@jupyter-widgets/controls",
            "_view_module_version": "1.5.0",
            "_view_name": "ProgressView",
            "bar_style": "success",
            "description": "",
            "description_tooltip": null,
            "layout": "IPY_MODEL_e1317d7e84c1407487c12b03aecf3299",
            "max": 100,
            "min": 0,
            "orientation": "horizontal",
            "style": "IPY_MODEL_c8878ecd91124c1ebcce23438b51ea34",
            "value": 100
          }
        },
        "01908ee11c1842f098e384bd8a5f61d8": {
          "model_module": "@jupyter-widgets/controls",
          "model_name": "HTMLModel",
          "model_module_version": "1.5.0",
          "state": {
            "_dom_classes": [],
            "_model_module": "@jupyter-widgets/controls",
            "_model_module_version": "1.5.0",
            "_model_name": "HTMLModel",
            "_view_count": null,
            "_view_module": "@jupyter-widgets/controls",
            "_view_module_version": "1.5.0",
            "_view_name": "HTMLView",
            "description": "",
            "description_tooltip": null,
            "layout": "IPY_MODEL_f8b9141d8bf24d639e50c76cc84e0bc8",
            "placeholder": "​",
            "style": "IPY_MODEL_41994dcf4e7b4f37b38b3d337420568a",
            "value": " 100/100 [01:11&lt;00:00,  1.18it/s]"
          }
        },
        "3ada33840c694ca0b45b6eb9ab0a8bc5": {
          "model_module": "@jupyter-widgets/base",
          "model_name": "LayoutModel",
          "model_module_version": "1.2.0",
          "state": {
            "_model_module": "@jupyter-widgets/base",
            "_model_module_version": "1.2.0",
            "_model_name": "LayoutModel",
            "_view_count": null,
            "_view_module": "@jupyter-widgets/base",
            "_view_module_version": "1.2.0",
            "_view_name": "LayoutView",
            "align_content": null,
            "align_items": null,
            "align_self": null,
            "border": null,
            "bottom": null,
            "display": null,
            "flex": null,
            "flex_flow": null,
            "grid_area": null,
            "grid_auto_columns": null,
            "grid_auto_flow": null,
            "grid_auto_rows": null,
            "grid_column": null,
            "grid_gap": null,
            "grid_row": null,
            "grid_template_areas": null,
            "grid_template_columns": null,
            "grid_template_rows": null,
            "height": null,
            "justify_content": null,
            "justify_items": null,
            "left": null,
            "margin": null,
            "max_height": null,
            "max_width": null,
            "min_height": null,
            "min_width": null,
            "object_fit": null,
            "object_position": null,
            "order": null,
            "overflow": null,
            "overflow_x": null,
            "overflow_y": null,
            "padding": null,
            "right": null,
            "top": null,
            "visibility": null,
            "width": null
          }
        },
        "b80d176006d0404d878a50bf9ff9d487": {
          "model_module": "@jupyter-widgets/base",
          "model_name": "LayoutModel",
          "model_module_version": "1.2.0",
          "state": {
            "_model_module": "@jupyter-widgets/base",
            "_model_module_version": "1.2.0",
            "_model_name": "LayoutModel",
            "_view_count": null,
            "_view_module": "@jupyter-widgets/base",
            "_view_module_version": "1.2.0",
            "_view_name": "LayoutView",
            "align_content": null,
            "align_items": null,
            "align_self": null,
            "border": null,
            "bottom": null,
            "display": null,
            "flex": null,
            "flex_flow": null,
            "grid_area": null,
            "grid_auto_columns": null,
            "grid_auto_flow": null,
            "grid_auto_rows": null,
            "grid_column": null,
            "grid_gap": null,
            "grid_row": null,
            "grid_template_areas": null,
            "grid_template_columns": null,
            "grid_template_rows": null,
            "height": null,
            "justify_content": null,
            "justify_items": null,
            "left": null,
            "margin": null,
            "max_height": null,
            "max_width": null,
            "min_height": null,
            "min_width": null,
            "object_fit": null,
            "object_position": null,
            "order": null,
            "overflow": null,
            "overflow_x": null,
            "overflow_y": null,
            "padding": null,
            "right": null,
            "top": null,
            "visibility": null,
            "width": null
          }
        },
        "ac2c0fb15f484b02ac2a50dfbd386cc6": {
          "model_module": "@jupyter-widgets/controls",
          "model_name": "DescriptionStyleModel",
          "model_module_version": "1.5.0",
          "state": {
            "_model_module": "@jupyter-widgets/controls",
            "_model_module_version": "1.5.0",
            "_model_name": "DescriptionStyleModel",
            "_view_count": null,
            "_view_module": "@jupyter-widgets/base",
            "_view_module_version": "1.2.0",
            "_view_name": "StyleView",
            "description_width": ""
          }
        },
        "e1317d7e84c1407487c12b03aecf3299": {
          "model_module": "@jupyter-widgets/base",
          "model_name": "LayoutModel",
          "model_module_version": "1.2.0",
          "state": {
            "_model_module": "@jupyter-widgets/base",
            "_model_module_version": "1.2.0",
            "_model_name": "LayoutModel",
            "_view_count": null,
            "_view_module": "@jupyter-widgets/base",
            "_view_module_version": "1.2.0",
            "_view_name": "LayoutView",
            "align_content": null,
            "align_items": null,
            "align_self": null,
            "border": null,
            "bottom": null,
            "display": null,
            "flex": null,
            "flex_flow": null,
            "grid_area": null,
            "grid_auto_columns": null,
            "grid_auto_flow": null,
            "grid_auto_rows": null,
            "grid_column": null,
            "grid_gap": null,
            "grid_row": null,
            "grid_template_areas": null,
            "grid_template_columns": null,
            "grid_template_rows": null,
            "height": null,
            "justify_content": null,
            "justify_items": null,
            "left": null,
            "margin": null,
            "max_height": null,
            "max_width": null,
            "min_height": null,
            "min_width": null,
            "object_fit": null,
            "object_position": null,
            "order": null,
            "overflow": null,
            "overflow_x": null,
            "overflow_y": null,
            "padding": null,
            "right": null,
            "top": null,
            "visibility": null,
            "width": null
          }
        },
        "c8878ecd91124c1ebcce23438b51ea34": {
          "model_module": "@jupyter-widgets/controls",
          "model_name": "ProgressStyleModel",
          "model_module_version": "1.5.0",
          "state": {
            "_model_module": "@jupyter-widgets/controls",
            "_model_module_version": "1.5.0",
            "_model_name": "ProgressStyleModel",
            "_view_count": null,
            "_view_module": "@jupyter-widgets/base",
            "_view_module_version": "1.2.0",
            "_view_name": "StyleView",
            "bar_color": null,
            "description_width": ""
          }
        },
        "f8b9141d8bf24d639e50c76cc84e0bc8": {
          "model_module": "@jupyter-widgets/base",
          "model_name": "LayoutModel",
          "model_module_version": "1.2.0",
          "state": {
            "_model_module": "@jupyter-widgets/base",
            "_model_module_version": "1.2.0",
            "_model_name": "LayoutModel",
            "_view_count": null,
            "_view_module": "@jupyter-widgets/base",
            "_view_module_version": "1.2.0",
            "_view_name": "LayoutView",
            "align_content": null,
            "align_items": null,
            "align_self": null,
            "border": null,
            "bottom": null,
            "display": null,
            "flex": null,
            "flex_flow": null,
            "grid_area": null,
            "grid_auto_columns": null,
            "grid_auto_flow": null,
            "grid_auto_rows": null,
            "grid_column": null,
            "grid_gap": null,
            "grid_row": null,
            "grid_template_areas": null,
            "grid_template_columns": null,
            "grid_template_rows": null,
            "height": null,
            "justify_content": null,
            "justify_items": null,
            "left": null,
            "margin": null,
            "max_height": null,
            "max_width": null,
            "min_height": null,
            "min_width": null,
            "object_fit": null,
            "object_position": null,
            "order": null,
            "overflow": null,
            "overflow_x": null,
            "overflow_y": null,
            "padding": null,
            "right": null,
            "top": null,
            "visibility": null,
            "width": null
          }
        },
        "41994dcf4e7b4f37b38b3d337420568a": {
          "model_module": "@jupyter-widgets/controls",
          "model_name": "DescriptionStyleModel",
          "model_module_version": "1.5.0",
          "state": {
            "_model_module": "@jupyter-widgets/controls",
            "_model_module_version": "1.5.0",
            "_model_name": "DescriptionStyleModel",
            "_view_count": null,
            "_view_module": "@jupyter-widgets/base",
            "_view_module_version": "1.2.0",
            "_view_name": "StyleView",
            "description_width": ""
          }
        }
      }
    }
  },
  "nbformat": 4,
  "nbformat_minor": 0
}