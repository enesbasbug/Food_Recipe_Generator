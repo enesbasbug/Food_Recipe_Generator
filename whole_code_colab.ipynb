{
  "nbformat": 4,
  "nbformat_minor": 0,
  "metadata": {
    "colab": {
      "name": "210617146_computational_creativity.ipynb",
      "provenance": [],
      "collapsed_sections": [
        "7wXVox2lKWkG",
        "lCBUDchCj3Xh",
        "h3ry7vDytkaw",
        "7ziS5I1Ltmbl",
        "iVipFU7A218o",
        "dYfkXqKn2rvd",
        "EFOwO9LY4jmv",
        "m_U5GhEph3Y1",
        "VCqrHc25553i",
        "0qAzpV6h6sT1"
      ],
      "machine_shape": "hm"
    },
    "kernelspec": {
      "name": "python3",
      "display_name": "Python 3"
    },
    "language_info": {
      "name": "python"
    },
    "accelerator": "GPU",
    "widgets": {
      "application/vnd.jupyter.widget-state+json": {
        "9a9354ca41d04dbf93cab6c3b4b7f285": {
          "model_module": "@jupyter-widgets/controls",
          "model_name": "HBoxModel",
          "model_module_version": "1.5.0",
          "state": {
            "_dom_classes": [],
            "_model_module": "@jupyter-widgets/controls",
            "_model_module_version": "1.5.0",
            "_model_name": "HBoxModel",
            "_view_count": null,
            "_view_module": "@jupyter-widgets/controls",
            "_view_module_version": "1.5.0",
            "_view_name": "HBoxView",
            "box_style": "",
            "children": [
              "IPY_MODEL_497348890e91408d8d223be933ec0b01",
              "IPY_MODEL_a130414acb22435cb73d260c9acb6c7a",
              "IPY_MODEL_af5bd4f9d3524c17b7b545c879bf4972"
            ],
            "layout": "IPY_MODEL_f6bea8d1b46f4703a091505a1869771f"
          }
        },
        "497348890e91408d8d223be933ec0b01": {
          "model_module": "@jupyter-widgets/controls",
          "model_name": "HTMLModel",
          "model_module_version": "1.5.0",
          "state": {
            "_dom_classes": [],
            "_model_module": "@jupyter-widgets/controls",
            "_model_module_version": "1.5.0",
            "_model_name": "HTMLModel",
            "_view_count": null,
            "_view_module": "@jupyter-widgets/controls",
            "_view_module_version": "1.5.0",
            "_view_name": "HTMLView",
            "description": "",
            "description_tooltip": null,
            "layout": "IPY_MODEL_2f84834723a64e638c26f8d955c17145",
            "placeholder": "​",
            "style": "IPY_MODEL_b0ad847f88c14e58b99fc9f78fec5cd4",
            "value": "epochs: 100%"
          }
        },
        "a130414acb22435cb73d260c9acb6c7a": {
          "model_module": "@jupyter-widgets/controls",
          "model_name": "FloatProgressModel",
          "model_module_version": "1.5.0",
          "state": {
            "_dom_classes": [],
            "_model_module": "@jupyter-widgets/controls",
            "_model_module_version": "1.5.0",
            "_model_name": "FloatProgressModel",
            "_view_count": null,
            "_view_module": "@jupyter-widgets/controls",
            "_view_module_version": "1.5.0",
            "_view_name": "ProgressView",
            "bar_style": "success",
            "description": "",
            "description_tooltip": null,
            "layout": "IPY_MODEL_490b2f0ff1894b4da10f326f71cd8a7a",
            "max": 1,
            "min": 0,
            "orientation": "horizontal",
            "style": "IPY_MODEL_1522d73325a44d56b5a339a03b9bc9a0",
            "value": 1
          }
        },
        "af5bd4f9d3524c17b7b545c879bf4972": {
          "model_module": "@jupyter-widgets/controls",
          "model_name": "HTMLModel",
          "model_module_version": "1.5.0",
          "state": {
            "_dom_classes": [],
            "_model_module": "@jupyter-widgets/controls",
            "_model_module_version": "1.5.0",
            "_model_name": "HTMLModel",
            "_view_count": null,
            "_view_module": "@jupyter-widgets/controls",
            "_view_module_version": "1.5.0",
            "_view_name": "HTMLView",
            "description": "",
            "description_tooltip": null,
            "layout": "IPY_MODEL_da9a005d51394c40b212d45d94d77f30",
            "placeholder": "​",
            "style": "IPY_MODEL_2fa6829176a14097a0c2c1b6db1aedf0",
            "value": " 1/1 [03:33&lt;00:00, 213.07s/it]"
          }
        },
        "f6bea8d1b46f4703a091505a1869771f": {
          "model_module": "@jupyter-widgets/base",
          "model_name": "LayoutModel",
          "model_module_version": "1.2.0",
          "state": {
            "_model_module": "@jupyter-widgets/base",
            "_model_module_version": "1.2.0",
            "_model_name": "LayoutModel",
            "_view_count": null,
            "_view_module": "@jupyter-widgets/base",
            "_view_module_version": "1.2.0",
            "_view_name": "LayoutView",
            "align_content": null,
            "align_items": null,
            "align_self": null,
            "border": null,
            "bottom": null,
            "display": null,
            "flex": null,
            "flex_flow": null,
            "grid_area": null,
            "grid_auto_columns": null,
            "grid_auto_flow": null,
            "grid_auto_rows": null,
            "grid_column": null,
            "grid_gap": null,
            "grid_row": null,
            "grid_template_areas": null,
            "grid_template_columns": null,
            "grid_template_rows": null,
            "height": null,
            "justify_content": null,
            "justify_items": null,
            "left": null,
            "margin": null,
            "max_height": null,
            "max_width": null,
            "min_height": null,
            "min_width": null,
            "object_fit": null,
            "object_position": null,
            "order": null,
            "overflow": null,
            "overflow_x": null,
            "overflow_y": null,
            "padding": null,
            "right": null,
            "top": null,
            "visibility": null,
            "width": null
          }
        },
        "2f84834723a64e638c26f8d955c17145": {
          "model_module": "@jupyter-widgets/base",
          "model_name": "LayoutModel",
          "model_module_version": "1.2.0",
          "state": {
            "_model_module": "@jupyter-widgets/base",
            "_model_module_version": "1.2.0",
            "_model_name": "LayoutModel",
            "_view_count": null,
            "_view_module": "@jupyter-widgets/base",
            "_view_module_version": "1.2.0",
            "_view_name": "LayoutView",
            "align_content": null,
            "align_items": null,
            "align_self": null,
            "border": null,
            "bottom": null,
            "display": null,
            "flex": null,
            "flex_flow": null,
            "grid_area": null,
            "grid_auto_columns": null,
            "grid_auto_flow": null,
            "grid_auto_rows": null,
            "grid_column": null,
            "grid_gap": null,
            "grid_row": null,
            "grid_template_areas": null,
            "grid_template_columns": null,
            "grid_template_rows": null,
            "height": null,
            "justify_content": null,
            "justify_items": null,
            "left": null,
            "margin": null,
            "max_height": null,
            "max_width": null,
            "min_height": null,
            "min_width": null,
            "object_fit": null,
            "object_position": null,
            "order": null,
            "overflow": null,
            "overflow_x": null,
            "overflow_y": null,
            "padding": null,
            "right": null,
            "top": null,
            "visibility": null,
            "width": null
          }
        },
        "b0ad847f88c14e58b99fc9f78fec5cd4": {
          "model_module": "@jupyter-widgets/controls",
          "model_name": "DescriptionStyleModel",
          "model_module_version": "1.5.0",
          "state": {
            "_model_module": "@jupyter-widgets/controls",
            "_model_module_version": "1.5.0",
            "_model_name": "DescriptionStyleModel",
            "_view_count": null,
            "_view_module": "@jupyter-widgets/base",
            "_view_module_version": "1.2.0",
            "_view_name": "StyleView",
            "description_width": ""
          }
        },
        "490b2f0ff1894b4da10f326f71cd8a7a": {
          "model_module": "@jupyter-widgets/base",
          "model_name": "LayoutModel",
          "model_module_version": "1.2.0",
          "state": {
            "_model_module": "@jupyter-widgets/base",
            "_model_module_version": "1.2.0",
            "_model_name": "LayoutModel",
            "_view_count": null,
            "_view_module": "@jupyter-widgets/base",
            "_view_module_version": "1.2.0",
            "_view_name": "LayoutView",
            "align_content": null,
            "align_items": null,
            "align_self": null,
            "border": null,
            "bottom": null,
            "display": null,
            "flex": null,
            "flex_flow": null,
            "grid_area": null,
            "grid_auto_columns": null,
            "grid_auto_flow": null,
            "grid_auto_rows": null,
            "grid_column": null,
            "grid_gap": null,
            "grid_row": null,
            "grid_template_areas": null,
            "grid_template_columns": null,
            "grid_template_rows": null,
            "height": null,
            "justify_content": null,
            "justify_items": null,
            "left": null,
            "margin": null,
            "max_height": null,
            "max_width": null,
            "min_height": null,
            "min_width": null,
            "object_fit": null,
            "object_position": null,
            "order": null,
            "overflow": null,
            "overflow_x": null,
            "overflow_y": null,
            "padding": null,
            "right": null,
            "top": null,
            "visibility": null,
            "width": null
          }
        },
        "1522d73325a44d56b5a339a03b9bc9a0": {
          "model_module": "@jupyter-widgets/controls",
          "model_name": "ProgressStyleModel",
          "model_module_version": "1.5.0",
          "state": {
            "_model_module": "@jupyter-widgets/controls",
            "_model_module_version": "1.5.0",
            "_model_name": "ProgressStyleModel",
            "_view_count": null,
            "_view_module": "@jupyter-widgets/base",
            "_view_module_version": "1.2.0",
            "_view_name": "StyleView",
            "bar_color": null,
            "description_width": ""
          }
        },
        "da9a005d51394c40b212d45d94d77f30": {
          "model_module": "@jupyter-widgets/base",
          "model_name": "LayoutModel",
          "model_module_version": "1.2.0",
          "state": {
            "_model_module": "@jupyter-widgets/base",
            "_model_module_version": "1.2.0",
            "_model_name": "LayoutModel",
            "_view_count": null,
            "_view_module": "@jupyter-widgets/base",
            "_view_module_version": "1.2.0",
            "_view_name": "LayoutView",
            "align_content": null,
            "align_items": null,
            "align_self": null,
            "border": null,
            "bottom": null,
            "display": null,
            "flex": null,
            "flex_flow": null,
            "grid_area": null,
            "grid_auto_columns": null,
            "grid_auto_flow": null,
            "grid_auto_rows": null,
            "grid_column": null,
            "grid_gap": null,
            "grid_row": null,
            "grid_template_areas": null,
            "grid_template_columns": null,
            "grid_template_rows": null,
            "height": null,
            "justify_content": null,
            "justify_items": null,
            "left": null,
            "margin": null,
            "max_height": null,
            "max_width": null,
            "min_height": null,
            "min_width": null,
            "object_fit": null,
            "object_position": null,
            "order": null,
            "overflow": null,
            "overflow_x": null,
            "overflow_y": null,
            "padding": null,
            "right": null,
            "top": null,
            "visibility": null,
            "width": null
          }
        },
        "2fa6829176a14097a0c2c1b6db1aedf0": {
          "model_module": "@jupyter-widgets/controls",
          "model_name": "DescriptionStyleModel",
          "model_module_version": "1.5.0",
          "state": {
            "_model_module": "@jupyter-widgets/controls",
            "_model_module_version": "1.5.0",
            "_model_name": "DescriptionStyleModel",
            "_view_count": null,
            "_view_module": "@jupyter-widgets/base",
            "_view_module_version": "1.2.0",
            "_view_name": "StyleView",
            "description_width": ""
          }
        },
        "2e64e9e1f8a942cc98b761e040727936": {
          "model_module": "@jupyter-widgets/controls",
          "model_name": "HBoxModel",
          "model_module_version": "1.5.0",
          "state": {
            "_dom_classes": [],
            "_model_module": "@jupyter-widgets/controls",
            "_model_module_version": "1.5.0",
            "_model_name": "HBoxModel",
            "_view_count": null,
            "_view_module": "@jupyter-widgets/controls",
            "_view_module_version": "1.5.0",
            "_view_name": "HBoxView",
            "box_style": "",
            "children": [
              "IPY_MODEL_7cdc4dd725fb45f1b26b40263b5ede5c",
              "IPY_MODEL_dc90607d8bc640aaa6980d77d161317f",
              "IPY_MODEL_1027061c5cb245f8ab6c79e6e34bebbb"
            ],
            "layout": "IPY_MODEL_4ff8449e8c8c4c05b7db5bfd8a80e25f"
          }
        },
        "7cdc4dd725fb45f1b26b40263b5ede5c": {
          "model_module": "@jupyter-widgets/controls",
          "model_name": "HTMLModel",
          "model_module_version": "1.5.0",
          "state": {
            "_dom_classes": [],
            "_model_module": "@jupyter-widgets/controls",
            "_model_module_version": "1.5.0",
            "_model_name": "HTMLModel",
            "_view_count": null,
            "_view_module": "@jupyter-widgets/controls",
            "_view_module_version": "1.5.0",
            "_view_name": "HTMLView",
            "description": "",
            "description_tooltip": null,
            "layout": "IPY_MODEL_c1a45aed9b6a4213a9a1f34f868684fd",
            "placeholder": "​",
            "style": "IPY_MODEL_aace12e470a841da9f0868c930b468da",
            "value": "iteration: 100%"
          }
        },
        "dc90607d8bc640aaa6980d77d161317f": {
          "model_module": "@jupyter-widgets/controls",
          "model_name": "FloatProgressModel",
          "model_module_version": "1.5.0",
          "state": {
            "_dom_classes": [],
            "_model_module": "@jupyter-widgets/controls",
            "_model_module_version": "1.5.0",
            "_model_name": "FloatProgressModel",
            "_view_count": null,
            "_view_module": "@jupyter-widgets/controls",
            "_view_module_version": "1.5.0",
            "_view_name": "ProgressView",
            "bar_style": "success",
            "description": "",
            "description_tooltip": null,
            "layout": "IPY_MODEL_7d9b9c04e8d84798aaf8e305fb847678",
            "max": 300,
            "min": 0,
            "orientation": "horizontal",
            "style": "IPY_MODEL_40e4cbcd255c491488c080513a4b58bb",
            "value": 300
          }
        },
        "1027061c5cb245f8ab6c79e6e34bebbb": {
          "model_module": "@jupyter-widgets/controls",
          "model_name": "HTMLModel",
          "model_module_version": "1.5.0",
          "state": {
            "_dom_classes": [],
            "_model_module": "@jupyter-widgets/controls",
            "_model_module_version": "1.5.0",
            "_model_name": "HTMLModel",
            "_view_count": null,
            "_view_module": "@jupyter-widgets/controls",
            "_view_module_version": "1.5.0",
            "_view_name": "HTMLView",
            "description": "",
            "description_tooltip": null,
            "layout": "IPY_MODEL_2f01041ea16f485d99bd8867a2b29a1b",
            "placeholder": "​",
            "style": "IPY_MODEL_0b9305ec42634b5eb5fd9200534af7d0",
            "value": " 300/300 [03:33&lt;00:00,  1.15it/s]"
          }
        },
        "4ff8449e8c8c4c05b7db5bfd8a80e25f": {
          "model_module": "@jupyter-widgets/base",
          "model_name": "LayoutModel",
          "model_module_version": "1.2.0",
          "state": {
            "_model_module": "@jupyter-widgets/base",
            "_model_module_version": "1.2.0",
            "_model_name": "LayoutModel",
            "_view_count": null,
            "_view_module": "@jupyter-widgets/base",
            "_view_module_version": "1.2.0",
            "_view_name": "LayoutView",
            "align_content": null,
            "align_items": null,
            "align_self": null,
            "border": null,
            "bottom": null,
            "display": null,
            "flex": null,
            "flex_flow": null,
            "grid_area": null,
            "grid_auto_columns": null,
            "grid_auto_flow": null,
            "grid_auto_rows": null,
            "grid_column": null,
            "grid_gap": null,
            "grid_row": null,
            "grid_template_areas": null,
            "grid_template_columns": null,
            "grid_template_rows": null,
            "height": null,
            "justify_content": null,
            "justify_items": null,
            "left": null,
            "margin": null,
            "max_height": null,
            "max_width": null,
            "min_height": null,
            "min_width": null,
            "object_fit": null,
            "object_position": null,
            "order": null,
            "overflow": null,
            "overflow_x": null,
            "overflow_y": null,
            "padding": null,
            "right": null,
            "top": null,
            "visibility": null,
            "width": null
          }
        },
        "c1a45aed9b6a4213a9a1f34f868684fd": {
          "model_module": "@jupyter-widgets/base",
          "model_name": "LayoutModel",
          "model_module_version": "1.2.0",
          "state": {
            "_model_module": "@jupyter-widgets/base",
            "_model_module_version": "1.2.0",
            "_model_name": "LayoutModel",
            "_view_count": null,
            "_view_module": "@jupyter-widgets/base",
            "_view_module_version": "1.2.0",
            "_view_name": "LayoutView",
            "align_content": null,
            "align_items": null,
            "align_self": null,
            "border": null,
            "bottom": null,
            "display": null,
            "flex": null,
            "flex_flow": null,
            "grid_area": null,
            "grid_auto_columns": null,
            "grid_auto_flow": null,
            "grid_auto_rows": null,
            "grid_column": null,
            "grid_gap": null,
            "grid_row": null,
            "grid_template_areas": null,
            "grid_template_columns": null,
            "grid_template_rows": null,
            "height": null,
            "justify_content": null,
            "justify_items": null,
            "left": null,
            "margin": null,
            "max_height": null,
            "max_width": null,
            "min_height": null,
            "min_width": null,
            "object_fit": null,
            "object_position": null,
            "order": null,
            "overflow": null,
            "overflow_x": null,
            "overflow_y": null,
            "padding": null,
            "right": null,
            "top": null,
            "visibility": null,
            "width": null
          }
        },
        "aace12e470a841da9f0868c930b468da": {
          "model_module": "@jupyter-widgets/controls",
          "model_name": "DescriptionStyleModel",
          "model_module_version": "1.5.0",
          "state": {
            "_model_module": "@jupyter-widgets/controls",
            "_model_module_version": "1.5.0",
            "_model_name": "DescriptionStyleModel",
            "_view_count": null,
            "_view_module": "@jupyter-widgets/base",
            "_view_module_version": "1.2.0",
            "_view_name": "StyleView",
            "description_width": ""
          }
        },
        "7d9b9c04e8d84798aaf8e305fb847678": {
          "model_module": "@jupyter-widgets/base",
          "model_name": "LayoutModel",
          "model_module_version": "1.2.0",
          "state": {
            "_model_module": "@jupyter-widgets/base",
            "_model_module_version": "1.2.0",
            "_model_name": "LayoutModel",
            "_view_count": null,
            "_view_module": "@jupyter-widgets/base",
            "_view_module_version": "1.2.0",
            "_view_name": "LayoutView",
            "align_content": null,
            "align_items": null,
            "align_self": null,
            "border": null,
            "bottom": null,
            "display": null,
            "flex": null,
            "flex_flow": null,
            "grid_area": null,
            "grid_auto_columns": null,
            "grid_auto_flow": null,
            "grid_auto_rows": null,
            "grid_column": null,
            "grid_gap": null,
            "grid_row": null,
            "grid_template_areas": null,
            "grid_template_columns": null,
            "grid_template_rows": null,
            "height": null,
            "justify_content": null,
            "justify_items": null,
            "left": null,
            "margin": null,
            "max_height": null,
            "max_width": null,
            "min_height": null,
            "min_width": null,
            "object_fit": null,
            "object_position": null,
            "order": null,
            "overflow": null,
            "overflow_x": null,
            "overflow_y": null,
            "padding": null,
            "right": null,
            "top": null,
            "visibility": null,
            "width": null
          }
        },
        "40e4cbcd255c491488c080513a4b58bb": {
          "model_module": "@jupyter-widgets/controls",
          "model_name": "ProgressStyleModel",
          "model_module_version": "1.5.0",
          "state": {
            "_model_module": "@jupyter-widgets/controls",
            "_model_module_version": "1.5.0",
            "_model_name": "ProgressStyleModel",
            "_view_count": null,
            "_view_module": "@jupyter-widgets/base",
            "_view_module_version": "1.2.0",
            "_view_name": "StyleView",
            "bar_color": null,
            "description_width": ""
          }
        },
        "2f01041ea16f485d99bd8867a2b29a1b": {
          "model_module": "@jupyter-widgets/base",
          "model_name": "LayoutModel",
          "model_module_version": "1.2.0",
          "state": {
            "_model_module": "@jupyter-widgets/base",
            "_model_module_version": "1.2.0",
            "_model_name": "LayoutModel",
            "_view_count": null,
            "_view_module": "@jupyter-widgets/base",
            "_view_module_version": "1.2.0",
            "_view_name": "LayoutView",
            "align_content": null,
            "align_items": null,
            "align_self": null,
            "border": null,
            "bottom": null,
            "display": null,
            "flex": null,
            "flex_flow": null,
            "grid_area": null,
            "grid_auto_columns": null,
            "grid_auto_flow": null,
            "grid_auto_rows": null,
            "grid_column": null,
            "grid_gap": null,
            "grid_row": null,
            "grid_template_areas": null,
            "grid_template_columns": null,
            "grid_template_rows": null,
            "height": null,
            "justify_content": null,
            "justify_items": null,
            "left": null,
            "margin": null,
            "max_height": null,
            "max_width": null,
            "min_height": null,
            "min_width": null,
            "object_fit": null,
            "object_position": null,
            "order": null,
            "overflow": null,
            "overflow_x": null,
            "overflow_y": null,
            "padding": null,
            "right": null,
            "top": null,
            "visibility": null,
            "width": null
          }
        },
        "0b9305ec42634b5eb5fd9200534af7d0": {
          "model_module": "@jupyter-widgets/controls",
          "model_name": "DescriptionStyleModel",
          "model_module_version": "1.5.0",
          "state": {
            "_model_module": "@jupyter-widgets/controls",
            "_model_module_version": "1.5.0",
            "_model_name": "DescriptionStyleModel",
            "_view_count": null,
            "_view_module": "@jupyter-widgets/base",
            "_view_module_version": "1.2.0",
            "_view_name": "StyleView",
            "description_width": ""
          }
        },
        "6c8578044b984b0787bb911e1d137fb7": {
          "model_module": "@jupyter-widgets/controls",
          "model_name": "HBoxModel",
          "model_module_version": "1.5.0",
          "state": {
            "_dom_classes": [],
            "_model_module": "@jupyter-widgets/controls",
            "_model_module_version": "1.5.0",
            "_model_name": "HBoxModel",
            "_view_count": null,
            "_view_module": "@jupyter-widgets/controls",
            "_view_module_version": "1.5.0",
            "_view_name": "HBoxView",
            "box_style": "",
            "children": [
              "IPY_MODEL_b027cb2ef24e4e4787bc80817bb8fc21",
              "IPY_MODEL_0b5ef2c4894f426794a1e423c4d3c248",
              "IPY_MODEL_7a1957ba8c8940ea9c472f3927f6d518"
            ],
            "layout": "IPY_MODEL_df30dadfa19e4379a1318322baf16dad"
          }
        },
        "b027cb2ef24e4e4787bc80817bb8fc21": {
          "model_module": "@jupyter-widgets/controls",
          "model_name": "HTMLModel",
          "model_module_version": "1.5.0",
          "state": {
            "_dom_classes": [],
            "_model_module": "@jupyter-widgets/controls",
            "_model_module_version": "1.5.0",
            "_model_name": "HTMLModel",
            "_view_count": null,
            "_view_module": "@jupyter-widgets/controls",
            "_view_module_version": "1.5.0",
            "_view_name": "HTMLView",
            "description": "",
            "description_tooltip": null,
            "layout": "IPY_MODEL_1a46808fbba343608990af73b07c8807",
            "placeholder": "​",
            "style": "IPY_MODEL_a3c4ddecae824554b30fa4151942a3e4",
            "value": "epochs: 100%"
          }
        },
        "0b5ef2c4894f426794a1e423c4d3c248": {
          "model_module": "@jupyter-widgets/controls",
          "model_name": "FloatProgressModel",
          "model_module_version": "1.5.0",
          "state": {
            "_dom_classes": [],
            "_model_module": "@jupyter-widgets/controls",
            "_model_module_version": "1.5.0",
            "_model_name": "FloatProgressModel",
            "_view_count": null,
            "_view_module": "@jupyter-widgets/controls",
            "_view_module_version": "1.5.0",
            "_view_name": "ProgressView",
            "bar_style": "success",
            "description": "",
            "description_tooltip": null,
            "layout": "IPY_MODEL_283694cd7c05480aaea1502cf95a0a8d",
            "max": 1,
            "min": 0,
            "orientation": "horizontal",
            "style": "IPY_MODEL_067af5f75dde48f8ab62496c7c62e267",
            "value": 1
          }
        },
        "7a1957ba8c8940ea9c472f3927f6d518": {
          "model_module": "@jupyter-widgets/controls",
          "model_name": "HTMLModel",
          "model_module_version": "1.5.0",
          "state": {
            "_dom_classes": [],
            "_model_module": "@jupyter-widgets/controls",
            "_model_module_version": "1.5.0",
            "_model_name": "HTMLModel",
            "_view_count": null,
            "_view_module": "@jupyter-widgets/controls",
            "_view_module_version": "1.5.0",
            "_view_name": "HTMLView",
            "description": "",
            "description_tooltip": null,
            "layout": "IPY_MODEL_9decc952cf424713a3acde53b89f12e6",
            "placeholder": "​",
            "style": "IPY_MODEL_6fd139ce68cc44d5a96391f04cda23e6",
            "value": " 1/1 [03:32&lt;00:00, 212.92s/it]"
          }
        },
        "df30dadfa19e4379a1318322baf16dad": {
          "model_module": "@jupyter-widgets/base",
          "model_name": "LayoutModel",
          "model_module_version": "1.2.0",
          "state": {
            "_model_module": "@jupyter-widgets/base",
            "_model_module_version": "1.2.0",
            "_model_name": "LayoutModel",
            "_view_count": null,
            "_view_module": "@jupyter-widgets/base",
            "_view_module_version": "1.2.0",
            "_view_name": "LayoutView",
            "align_content": null,
            "align_items": null,
            "align_self": null,
            "border": null,
            "bottom": null,
            "display": null,
            "flex": null,
            "flex_flow": null,
            "grid_area": null,
            "grid_auto_columns": null,
            "grid_auto_flow": null,
            "grid_auto_rows": null,
            "grid_column": null,
            "grid_gap": null,
            "grid_row": null,
            "grid_template_areas": null,
            "grid_template_columns": null,
            "grid_template_rows": null,
            "height": null,
            "justify_content": null,
            "justify_items": null,
            "left": null,
            "margin": null,
            "max_height": null,
            "max_width": null,
            "min_height": null,
            "min_width": null,
            "object_fit": null,
            "object_position": null,
            "order": null,
            "overflow": null,
            "overflow_x": null,
            "overflow_y": null,
            "padding": null,
            "right": null,
            "top": null,
            "visibility": null,
            "width": null
          }
        },
        "1a46808fbba343608990af73b07c8807": {
          "model_module": "@jupyter-widgets/base",
          "model_name": "LayoutModel",
          "model_module_version": "1.2.0",
          "state": {
            "_model_module": "@jupyter-widgets/base",
            "_model_module_version": "1.2.0",
            "_model_name": "LayoutModel",
            "_view_count": null,
            "_view_module": "@jupyter-widgets/base",
            "_view_module_version": "1.2.0",
            "_view_name": "LayoutView",
            "align_content": null,
            "align_items": null,
            "align_self": null,
            "border": null,
            "bottom": null,
            "display": null,
            "flex": null,
            "flex_flow": null,
            "grid_area": null,
            "grid_auto_columns": null,
            "grid_auto_flow": null,
            "grid_auto_rows": null,
            "grid_column": null,
            "grid_gap": null,
            "grid_row": null,
            "grid_template_areas": null,
            "grid_template_columns": null,
            "grid_template_rows": null,
            "height": null,
            "justify_content": null,
            "justify_items": null,
            "left": null,
            "margin": null,
            "max_height": null,
            "max_width": null,
            "min_height": null,
            "min_width": null,
            "object_fit": null,
            "object_position": null,
            "order": null,
            "overflow": null,
            "overflow_x": null,
            "overflow_y": null,
            "padding": null,
            "right": null,
            "top": null,
            "visibility": null,
            "width": null
          }
        },
        "a3c4ddecae824554b30fa4151942a3e4": {
          "model_module": "@jupyter-widgets/controls",
          "model_name": "DescriptionStyleModel",
          "model_module_version": "1.5.0",
          "state": {
            "_model_module": "@jupyter-widgets/controls",
            "_model_module_version": "1.5.0",
            "_model_name": "DescriptionStyleModel",
            "_view_count": null,
            "_view_module": "@jupyter-widgets/base",
            "_view_module_version": "1.2.0",
            "_view_name": "StyleView",
            "description_width": ""
          }
        },
        "283694cd7c05480aaea1502cf95a0a8d": {
          "model_module": "@jupyter-widgets/base",
          "model_name": "LayoutModel",
          "model_module_version": "1.2.0",
          "state": {
            "_model_module": "@jupyter-widgets/base",
            "_model_module_version": "1.2.0",
            "_model_name": "LayoutModel",
            "_view_count": null,
            "_view_module": "@jupyter-widgets/base",
            "_view_module_version": "1.2.0",
            "_view_name": "LayoutView",
            "align_content": null,
            "align_items": null,
            "align_self": null,
            "border": null,
            "bottom": null,
            "display": null,
            "flex": null,
            "flex_flow": null,
            "grid_area": null,
            "grid_auto_columns": null,
            "grid_auto_flow": null,
            "grid_auto_rows": null,
            "grid_column": null,
            "grid_gap": null,
            "grid_row": null,
            "grid_template_areas": null,
            "grid_template_columns": null,
            "grid_template_rows": null,
            "height": null,
            "justify_content": null,
            "justify_items": null,
            "left": null,
            "margin": null,
            "max_height": null,
            "max_width": null,
            "min_height": null,
            "min_width": null,
            "object_fit": null,
            "object_position": null,
            "order": null,
            "overflow": null,
            "overflow_x": null,
            "overflow_y": null,
            "padding": null,
            "right": null,
            "top": null,
            "visibility": null,
            "width": null
          }
        },
        "067af5f75dde48f8ab62496c7c62e267": {
          "model_module": "@jupyter-widgets/controls",
          "model_name": "ProgressStyleModel",
          "model_module_version": "1.5.0",
          "state": {
            "_model_module": "@jupyter-widgets/controls",
            "_model_module_version": "1.5.0",
            "_model_name": "ProgressStyleModel",
            "_view_count": null,
            "_view_module": "@jupyter-widgets/base",
            "_view_module_version": "1.2.0",
            "_view_name": "StyleView",
            "bar_color": null,
            "description_width": ""
          }
        },
        "9decc952cf424713a3acde53b89f12e6": {
          "model_module": "@jupyter-widgets/base",
          "model_name": "LayoutModel",
          "model_module_version": "1.2.0",
          "state": {
            "_model_module": "@jupyter-widgets/base",
            "_model_module_version": "1.2.0",
            "_model_name": "LayoutModel",
            "_view_count": null,
            "_view_module": "@jupyter-widgets/base",
            "_view_module_version": "1.2.0",
            "_view_name": "LayoutView",
            "align_content": null,
            "align_items": null,
            "align_self": null,
            "border": null,
            "bottom": null,
            "display": null,
            "flex": null,
            "flex_flow": null,
            "grid_area": null,
            "grid_auto_columns": null,
            "grid_auto_flow": null,
            "grid_auto_rows": null,
            "grid_column": null,
            "grid_gap": null,
            "grid_row": null,
            "grid_template_areas": null,
            "grid_template_columns": null,
            "grid_template_rows": null,
            "height": null,
            "justify_content": null,
            "justify_items": null,
            "left": null,
            "margin": null,
            "max_height": null,
            "max_width": null,
            "min_height": null,
            "min_width": null,
            "object_fit": null,
            "object_position": null,
            "order": null,
            "overflow": null,
            "overflow_x": null,
            "overflow_y": null,
            "padding": null,
            "right": null,
            "top": null,
            "visibility": null,
            "width": null
          }
        },
        "6fd139ce68cc44d5a96391f04cda23e6": {
          "model_module": "@jupyter-widgets/controls",
          "model_name": "DescriptionStyleModel",
          "model_module_version": "1.5.0",
          "state": {
            "_model_module": "@jupyter-widgets/controls",
            "_model_module_version": "1.5.0",
            "_model_name": "DescriptionStyleModel",
            "_view_count": null,
            "_view_module": "@jupyter-widgets/base",
            "_view_module_version": "1.2.0",
            "_view_name": "StyleView",
            "description_width": ""
          }
        },
        "4945acf474774573b6ffcf09b1e45677": {
          "model_module": "@jupyter-widgets/controls",
          "model_name": "HBoxModel",
          "model_module_version": "1.5.0",
          "state": {
            "_dom_classes": [],
            "_model_module": "@jupyter-widgets/controls",
            "_model_module_version": "1.5.0",
            "_model_name": "HBoxModel",
            "_view_count": null,
            "_view_module": "@jupyter-widgets/controls",
            "_view_module_version": "1.5.0",
            "_view_name": "HBoxView",
            "box_style": "",
            "children": [
              "IPY_MODEL_9785fe8c45f84094b613d76fcd704a9d",
              "IPY_MODEL_a292ffe191174f2ba25158c1e1e7aff3",
              "IPY_MODEL_ffa90dc3757d4d04b428718612cb798f"
            ],
            "layout": "IPY_MODEL_dbeb3033a2d444a4ac5b7532cca540ec"
          }
        },
        "9785fe8c45f84094b613d76fcd704a9d": {
          "model_module": "@jupyter-widgets/controls",
          "model_name": "HTMLModel",
          "model_module_version": "1.5.0",
          "state": {
            "_dom_classes": [],
            "_model_module": "@jupyter-widgets/controls",
            "_model_module_version": "1.5.0",
            "_model_name": "HTMLModel",
            "_view_count": null,
            "_view_module": "@jupyter-widgets/controls",
            "_view_module_version": "1.5.0",
            "_view_name": "HTMLView",
            "description": "",
            "description_tooltip": null,
            "layout": "IPY_MODEL_a1a5a897bb8f4f2e9cfd3a1a943e4fd3",
            "placeholder": "​",
            "style": "IPY_MODEL_7152713bed9d47edbfccd8171258311d",
            "value": "iteration: 100%"
          }
        },
        "a292ffe191174f2ba25158c1e1e7aff3": {
          "model_module": "@jupyter-widgets/controls",
          "model_name": "FloatProgressModel",
          "model_module_version": "1.5.0",
          "state": {
            "_dom_classes": [],
            "_model_module": "@jupyter-widgets/controls",
            "_model_module_version": "1.5.0",
            "_model_name": "FloatProgressModel",
            "_view_count": null,
            "_view_module": "@jupyter-widgets/controls",
            "_view_module_version": "1.5.0",
            "_view_name": "ProgressView",
            "bar_style": "success",
            "description": "",
            "description_tooltip": null,
            "layout": "IPY_MODEL_7fc0d42cdff348148cd025a9db43660a",
            "max": 300,
            "min": 0,
            "orientation": "horizontal",
            "style": "IPY_MODEL_6edab0ebe64941e3a5cbd9eb95192aa4",
            "value": 300
          }
        },
        "ffa90dc3757d4d04b428718612cb798f": {
          "model_module": "@jupyter-widgets/controls",
          "model_name": "HTMLModel",
          "model_module_version": "1.5.0",
          "state": {
            "_dom_classes": [],
            "_model_module": "@jupyter-widgets/controls",
            "_model_module_version": "1.5.0",
            "_model_name": "HTMLModel",
            "_view_count": null,
            "_view_module": "@jupyter-widgets/controls",
            "_view_module_version": "1.5.0",
            "_view_name": "HTMLView",
            "description": "",
            "description_tooltip": null,
            "layout": "IPY_MODEL_762d589587af497d8c0904c3770cbfb1",
            "placeholder": "​",
            "style": "IPY_MODEL_ce73ad2aa24c40eb8c7ba4fa662b424e",
            "value": " 300/300 [03:32&lt;00:00,  1.18it/s]"
          }
        },
        "dbeb3033a2d444a4ac5b7532cca540ec": {
          "model_module": "@jupyter-widgets/base",
          "model_name": "LayoutModel",
          "model_module_version": "1.2.0",
          "state": {
            "_model_module": "@jupyter-widgets/base",
            "_model_module_version": "1.2.0",
            "_model_name": "LayoutModel",
            "_view_count": null,
            "_view_module": "@jupyter-widgets/base",
            "_view_module_version": "1.2.0",
            "_view_name": "LayoutView",
            "align_content": null,
            "align_items": null,
            "align_self": null,
            "border": null,
            "bottom": null,
            "display": null,
            "flex": null,
            "flex_flow": null,
            "grid_area": null,
            "grid_auto_columns": null,
            "grid_auto_flow": null,
            "grid_auto_rows": null,
            "grid_column": null,
            "grid_gap": null,
            "grid_row": null,
            "grid_template_areas": null,
            "grid_template_columns": null,
            "grid_template_rows": null,
            "height": null,
            "justify_content": null,
            "justify_items": null,
            "left": null,
            "margin": null,
            "max_height": null,
            "max_width": null,
            "min_height": null,
            "min_width": null,
            "object_fit": null,
            "object_position": null,
            "order": null,
            "overflow": null,
            "overflow_x": null,
            "overflow_y": null,
            "padding": null,
            "right": null,
            "top": null,
            "visibility": null,
            "width": null
          }
        },
        "a1a5a897bb8f4f2e9cfd3a1a943e4fd3": {
          "model_module": "@jupyter-widgets/base",
          "model_name": "LayoutModel",
          "model_module_version": "1.2.0",
          "state": {
            "_model_module": "@jupyter-widgets/base",
            "_model_module_version": "1.2.0",
            "_model_name": "LayoutModel",
            "_view_count": null,
            "_view_module": "@jupyter-widgets/base",
            "_view_module_version": "1.2.0",
            "_view_name": "LayoutView",
            "align_content": null,
            "align_items": null,
            "align_self": null,
            "border": null,
            "bottom": null,
            "display": null,
            "flex": null,
            "flex_flow": null,
            "grid_area": null,
            "grid_auto_columns": null,
            "grid_auto_flow": null,
            "grid_auto_rows": null,
            "grid_column": null,
            "grid_gap": null,
            "grid_row": null,
            "grid_template_areas": null,
            "grid_template_columns": null,
            "grid_template_rows": null,
            "height": null,
            "justify_content": null,
            "justify_items": null,
            "left": null,
            "margin": null,
            "max_height": null,
            "max_width": null,
            "min_height": null,
            "min_width": null,
            "object_fit": null,
            "object_position": null,
            "order": null,
            "overflow": null,
            "overflow_x": null,
            "overflow_y": null,
            "padding": null,
            "right": null,
            "top": null,
            "visibility": null,
            "width": null
          }
        },
        "7152713bed9d47edbfccd8171258311d": {
          "model_module": "@jupyter-widgets/controls",
          "model_name": "DescriptionStyleModel",
          "model_module_version": "1.5.0",
          "state": {
            "_model_module": "@jupyter-widgets/controls",
            "_model_module_version": "1.5.0",
            "_model_name": "DescriptionStyleModel",
            "_view_count": null,
            "_view_module": "@jupyter-widgets/base",
            "_view_module_version": "1.2.0",
            "_view_name": "StyleView",
            "description_width": ""
          }
        },
        "7fc0d42cdff348148cd025a9db43660a": {
          "model_module": "@jupyter-widgets/base",
          "model_name": "LayoutModel",
          "model_module_version": "1.2.0",
          "state": {
            "_model_module": "@jupyter-widgets/base",
            "_model_module_version": "1.2.0",
            "_model_name": "LayoutModel",
            "_view_count": null,
            "_view_module": "@jupyter-widgets/base",
            "_view_module_version": "1.2.0",
            "_view_name": "LayoutView",
            "align_content": null,
            "align_items": null,
            "align_self": null,
            "border": null,
            "bottom": null,
            "display": null,
            "flex": null,
            "flex_flow": null,
            "grid_area": null,
            "grid_auto_columns": null,
            "grid_auto_flow": null,
            "grid_auto_rows": null,
            "grid_column": null,
            "grid_gap": null,
            "grid_row": null,
            "grid_template_areas": null,
            "grid_template_columns": null,
            "grid_template_rows": null,
            "height": null,
            "justify_content": null,
            "justify_items": null,
            "left": null,
            "margin": null,
            "max_height": null,
            "max_width": null,
            "min_height": null,
            "min_width": null,
            "object_fit": null,
            "object_position": null,
            "order": null,
            "overflow": null,
            "overflow_x": null,
            "overflow_y": null,
            "padding": null,
            "right": null,
            "top": null,
            "visibility": null,
            "width": null
          }
        },
        "6edab0ebe64941e3a5cbd9eb95192aa4": {
          "model_module": "@jupyter-widgets/controls",
          "model_name": "ProgressStyleModel",
          "model_module_version": "1.5.0",
          "state": {
            "_model_module": "@jupyter-widgets/controls",
            "_model_module_version": "1.5.0",
            "_model_name": "ProgressStyleModel",
            "_view_count": null,
            "_view_module": "@jupyter-widgets/base",
            "_view_module_version": "1.2.0",
            "_view_name": "StyleView",
            "bar_color": null,
            "description_width": ""
          }
        },
        "762d589587af497d8c0904c3770cbfb1": {
          "model_module": "@jupyter-widgets/base",
          "model_name": "LayoutModel",
          "model_module_version": "1.2.0",
          "state": {
            "_model_module": "@jupyter-widgets/base",
            "_model_module_version": "1.2.0",
            "_model_name": "LayoutModel",
            "_view_count": null,
            "_view_module": "@jupyter-widgets/base",
            "_view_module_version": "1.2.0",
            "_view_name": "LayoutView",
            "align_content": null,
            "align_items": null,
            "align_self": null,
            "border": null,
            "bottom": null,
            "display": null,
            "flex": null,
            "flex_flow": null,
            "grid_area": null,
            "grid_auto_columns": null,
            "grid_auto_flow": null,
            "grid_auto_rows": null,
            "grid_column": null,
            "grid_gap": null,
            "grid_row": null,
            "grid_template_areas": null,
            "grid_template_columns": null,
            "grid_template_rows": null,
            "height": null,
            "justify_content": null,
            "justify_items": null,
            "left": null,
            "margin": null,
            "max_height": null,
            "max_width": null,
            "min_height": null,
            "min_width": null,
            "object_fit": null,
            "object_position": null,
            "order": null,
            "overflow": null,
            "overflow_x": null,
            "overflow_y": null,
            "padding": null,
            "right": null,
            "top": null,
            "visibility": null,
            "width": null
          }
        },
        "ce73ad2aa24c40eb8c7ba4fa662b424e": {
          "model_module": "@jupyter-widgets/controls",
          "model_name": "DescriptionStyleModel",
          "model_module_version": "1.5.0",
          "state": {
            "_model_module": "@jupyter-widgets/controls",
            "_model_module_version": "1.5.0",
            "_model_name": "DescriptionStyleModel",
            "_view_count": null,
            "_view_module": "@jupyter-widgets/base",
            "_view_module_version": "1.2.0",
            "_view_name": "StyleView",
            "description_width": ""
          }
        },
        "a926e153b7614a41a585cd6ca6626a79": {
          "model_module": "@jupyter-widgets/controls",
          "model_name": "HBoxModel",
          "model_module_version": "1.5.0",
          "state": {
            "_dom_classes": [],
            "_model_module": "@jupyter-widgets/controls",
            "_model_module_version": "1.5.0",
            "_model_name": "HBoxModel",
            "_view_count": null,
            "_view_module": "@jupyter-widgets/controls",
            "_view_module_version": "1.5.0",
            "_view_name": "HBoxView",
            "box_style": "",
            "children": [
              "IPY_MODEL_85b9ed1c36b4476199cd98a78f7d6ecd",
              "IPY_MODEL_519305cdcbe7470e890c8e62b31fa622",
              "IPY_MODEL_78a96b56b80a402687a7d6a0dcf1baf9"
            ],
            "layout": "IPY_MODEL_16a5f03b2d754ccf87ed08f0a40f30e7"
          }
        },
        "85b9ed1c36b4476199cd98a78f7d6ecd": {
          "model_module": "@jupyter-widgets/controls",
          "model_name": "HTMLModel",
          "model_module_version": "1.5.0",
          "state": {
            "_dom_classes": [],
            "_model_module": "@jupyter-widgets/controls",
            "_model_module_version": "1.5.0",
            "_model_name": "HTMLModel",
            "_view_count": null,
            "_view_module": "@jupyter-widgets/controls",
            "_view_module_version": "1.5.0",
            "_view_name": "HTMLView",
            "description": "",
            "description_tooltip": null,
            "layout": "IPY_MODEL_f48f3ec3478343549f0d4e770999df2f",
            "placeholder": "​",
            "style": "IPY_MODEL_1a737da76987421180c95600aacb0a47",
            "value": "epochs: 100%"
          }
        },
        "519305cdcbe7470e890c8e62b31fa622": {
          "model_module": "@jupyter-widgets/controls",
          "model_name": "FloatProgressModel",
          "model_module_version": "1.5.0",
          "state": {
            "_dom_classes": [],
            "_model_module": "@jupyter-widgets/controls",
            "_model_module_version": "1.5.0",
            "_model_name": "FloatProgressModel",
            "_view_count": null,
            "_view_module": "@jupyter-widgets/controls",
            "_view_module_version": "1.5.0",
            "_view_name": "ProgressView",
            "bar_style": "success",
            "description": "",
            "description_tooltip": null,
            "layout": "IPY_MODEL_dbdaf6e09fce4527a6269bf475e54e5f",
            "max": 1,
            "min": 0,
            "orientation": "horizontal",
            "style": "IPY_MODEL_eda5bb3e3b3f482e80d74dd774906d0c",
            "value": 1
          }
        },
        "78a96b56b80a402687a7d6a0dcf1baf9": {
          "model_module": "@jupyter-widgets/controls",
          "model_name": "HTMLModel",
          "model_module_version": "1.5.0",
          "state": {
            "_dom_classes": [],
            "_model_module": "@jupyter-widgets/controls",
            "_model_module_version": "1.5.0",
            "_model_name": "HTMLModel",
            "_view_count": null,
            "_view_module": "@jupyter-widgets/controls",
            "_view_module_version": "1.5.0",
            "_view_name": "HTMLView",
            "description": "",
            "description_tooltip": null,
            "layout": "IPY_MODEL_500e6194a24d4d8b9602efa8fa6c4287",
            "placeholder": "​",
            "style": "IPY_MODEL_9ae04e78a2cc42529d75309ff45e637b",
            "value": " 1/1 [03:32&lt;00:00, 212.83s/it]"
          }
        },
        "16a5f03b2d754ccf87ed08f0a40f30e7": {
          "model_module": "@jupyter-widgets/base",
          "model_name": "LayoutModel",
          "model_module_version": "1.2.0",
          "state": {
            "_model_module": "@jupyter-widgets/base",
            "_model_module_version": "1.2.0",
            "_model_name": "LayoutModel",
            "_view_count": null,
            "_view_module": "@jupyter-widgets/base",
            "_view_module_version": "1.2.0",
            "_view_name": "LayoutView",
            "align_content": null,
            "align_items": null,
            "align_self": null,
            "border": null,
            "bottom": null,
            "display": null,
            "flex": null,
            "flex_flow": null,
            "grid_area": null,
            "grid_auto_columns": null,
            "grid_auto_flow": null,
            "grid_auto_rows": null,
            "grid_column": null,
            "grid_gap": null,
            "grid_row": null,
            "grid_template_areas": null,
            "grid_template_columns": null,
            "grid_template_rows": null,
            "height": null,
            "justify_content": null,
            "justify_items": null,
            "left": null,
            "margin": null,
            "max_height": null,
            "max_width": null,
            "min_height": null,
            "min_width": null,
            "object_fit": null,
            "object_position": null,
            "order": null,
            "overflow": null,
            "overflow_x": null,
            "overflow_y": null,
            "padding": null,
            "right": null,
            "top": null,
            "visibility": null,
            "width": null
          }
        },
        "f48f3ec3478343549f0d4e770999df2f": {
          "model_module": "@jupyter-widgets/base",
          "model_name": "LayoutModel",
          "model_module_version": "1.2.0",
          "state": {
            "_model_module": "@jupyter-widgets/base",
            "_model_module_version": "1.2.0",
            "_model_name": "LayoutModel",
            "_view_count": null,
            "_view_module": "@jupyter-widgets/base",
            "_view_module_version": "1.2.0",
            "_view_name": "LayoutView",
            "align_content": null,
            "align_items": null,
            "align_self": null,
            "border": null,
            "bottom": null,
            "display": null,
            "flex": null,
            "flex_flow": null,
            "grid_area": null,
            "grid_auto_columns": null,
            "grid_auto_flow": null,
            "grid_auto_rows": null,
            "grid_column": null,
            "grid_gap": null,
            "grid_row": null,
            "grid_template_areas": null,
            "grid_template_columns": null,
            "grid_template_rows": null,
            "height": null,
            "justify_content": null,
            "justify_items": null,
            "left": null,
            "margin": null,
            "max_height": null,
            "max_width": null,
            "min_height": null,
            "min_width": null,
            "object_fit": null,
            "object_position": null,
            "order": null,
            "overflow": null,
            "overflow_x": null,
            "overflow_y": null,
            "padding": null,
            "right": null,
            "top": null,
            "visibility": null,
            "width": null
          }
        },
        "1a737da76987421180c95600aacb0a47": {
          "model_module": "@jupyter-widgets/controls",
          "model_name": "DescriptionStyleModel",
          "model_module_version": "1.5.0",
          "state": {
            "_model_module": "@jupyter-widgets/controls",
            "_model_module_version": "1.5.0",
            "_model_name": "DescriptionStyleModel",
            "_view_count": null,
            "_view_module": "@jupyter-widgets/base",
            "_view_module_version": "1.2.0",
            "_view_name": "StyleView",
            "description_width": ""
          }
        },
        "dbdaf6e09fce4527a6269bf475e54e5f": {
          "model_module": "@jupyter-widgets/base",
          "model_name": "LayoutModel",
          "model_module_version": "1.2.0",
          "state": {
            "_model_module": "@jupyter-widgets/base",
            "_model_module_version": "1.2.0",
            "_model_name": "LayoutModel",
            "_view_count": null,
            "_view_module": "@jupyter-widgets/base",
            "_view_module_version": "1.2.0",
            "_view_name": "LayoutView",
            "align_content": null,
            "align_items": null,
            "align_self": null,
            "border": null,
            "bottom": null,
            "display": null,
            "flex": null,
            "flex_flow": null,
            "grid_area": null,
            "grid_auto_columns": null,
            "grid_auto_flow": null,
            "grid_auto_rows": null,
            "grid_column": null,
            "grid_gap": null,
            "grid_row": null,
            "grid_template_areas": null,
            "grid_template_columns": null,
            "grid_template_rows": null,
            "height": null,
            "justify_content": null,
            "justify_items": null,
            "left": null,
            "margin": null,
            "max_height": null,
            "max_width": null,
            "min_height": null,
            "min_width": null,
            "object_fit": null,
            "object_position": null,
            "order": null,
            "overflow": null,
            "overflow_x": null,
            "overflow_y": null,
            "padding": null,
            "right": null,
            "top": null,
            "visibility": null,
            "width": null
          }
        },
        "eda5bb3e3b3f482e80d74dd774906d0c": {
          "model_module": "@jupyter-widgets/controls",
          "model_name": "ProgressStyleModel",
          "model_module_version": "1.5.0",
          "state": {
            "_model_module": "@jupyter-widgets/controls",
            "_model_module_version": "1.5.0",
            "_model_name": "ProgressStyleModel",
            "_view_count": null,
            "_view_module": "@jupyter-widgets/base",
            "_view_module_version": "1.2.0",
            "_view_name": "StyleView",
            "bar_color": null,
            "description_width": ""
          }
        },
        "500e6194a24d4d8b9602efa8fa6c4287": {
          "model_module": "@jupyter-widgets/base",
          "model_name": "LayoutModel",
          "model_module_version": "1.2.0",
          "state": {
            "_model_module": "@jupyter-widgets/base",
            "_model_module_version": "1.2.0",
            "_model_name": "LayoutModel",
            "_view_count": null,
            "_view_module": "@jupyter-widgets/base",
            "_view_module_version": "1.2.0",
            "_view_name": "LayoutView",
            "align_content": null,
            "align_items": null,
            "align_self": null,
            "border": null,
            "bottom": null,
            "display": null,
            "flex": null,
            "flex_flow": null,
            "grid_area": null,
            "grid_auto_columns": null,
            "grid_auto_flow": null,
            "grid_auto_rows": null,
            "grid_column": null,
            "grid_gap": null,
            "grid_row": null,
            "grid_template_areas": null,
            "grid_template_columns": null,
            "grid_template_rows": null,
            "height": null,
            "justify_content": null,
            "justify_items": null,
            "left": null,
            "margin": null,
            "max_height": null,
            "max_width": null,
            "min_height": null,
            "min_width": null,
            "object_fit": null,
            "object_position": null,
            "order": null,
            "overflow": null,
            "overflow_x": null,
            "overflow_y": null,
            "padding": null,
            "right": null,
            "top": null,
            "visibility": null,
            "width": null
          }
        },
        "9ae04e78a2cc42529d75309ff45e637b": {
          "model_module": "@jupyter-widgets/controls",
          "model_name": "DescriptionStyleModel",
          "model_module_version": "1.5.0",
          "state": {
            "_model_module": "@jupyter-widgets/controls",
            "_model_module_version": "1.5.0",
            "_model_name": "DescriptionStyleModel",
            "_view_count": null,
            "_view_module": "@jupyter-widgets/base",
            "_view_module_version": "1.2.0",
            "_view_name": "StyleView",
            "description_width": ""
          }
        },
        "a5c875d5a3f24e3c806363dfe9c4ac46": {
          "model_module": "@jupyter-widgets/controls",
          "model_name": "HBoxModel",
          "model_module_version": "1.5.0",
          "state": {
            "_dom_classes": [],
            "_model_module": "@jupyter-widgets/controls",
            "_model_module_version": "1.5.0",
            "_model_name": "HBoxModel",
            "_view_count": null,
            "_view_module": "@jupyter-widgets/controls",
            "_view_module_version": "1.5.0",
            "_view_name": "HBoxView",
            "box_style": "",
            "children": [
              "IPY_MODEL_cf7c517682dd41eaa237528e3fbdd942",
              "IPY_MODEL_be0c4da9bf7f4d3cb61bb938b197785a",
              "IPY_MODEL_534e842705df4331ac67ceea2bf1664e"
            ],
            "layout": "IPY_MODEL_7846b85ef7704b5bbade4cdaeef15511"
          }
        },
        "cf7c517682dd41eaa237528e3fbdd942": {
          "model_module": "@jupyter-widgets/controls",
          "model_name": "HTMLModel",
          "model_module_version": "1.5.0",
          "state": {
            "_dom_classes": [],
            "_model_module": "@jupyter-widgets/controls",
            "_model_module_version": "1.5.0",
            "_model_name": "HTMLModel",
            "_view_count": null,
            "_view_module": "@jupyter-widgets/controls",
            "_view_module_version": "1.5.0",
            "_view_name": "HTMLView",
            "description": "",
            "description_tooltip": null,
            "layout": "IPY_MODEL_f52b4c3e6e6f4c7ab6630407dd296d67",
            "placeholder": "​",
            "style": "IPY_MODEL_b546a8e559fe4b898b9f9ff3ba5b0249",
            "value": "iteration: 100%"
          }
        },
        "be0c4da9bf7f4d3cb61bb938b197785a": {
          "model_module": "@jupyter-widgets/controls",
          "model_name": "FloatProgressModel",
          "model_module_version": "1.5.0",
          "state": {
            "_dom_classes": [],
            "_model_module": "@jupyter-widgets/controls",
            "_model_module_version": "1.5.0",
            "_model_name": "FloatProgressModel",
            "_view_count": null,
            "_view_module": "@jupyter-widgets/controls",
            "_view_module_version": "1.5.0",
            "_view_name": "ProgressView",
            "bar_style": "success",
            "description": "",
            "description_tooltip": null,
            "layout": "IPY_MODEL_eb7abde7e65a42d99b01bc53df4ae6e4",
            "max": 300,
            "min": 0,
            "orientation": "horizontal",
            "style": "IPY_MODEL_c9c39005f98f4474a0329377b6139fc5",
            "value": 300
          }
        },
        "534e842705df4331ac67ceea2bf1664e": {
          "model_module": "@jupyter-widgets/controls",
          "model_name": "HTMLModel",
          "model_module_version": "1.5.0",
          "state": {
            "_dom_classes": [],
            "_model_module": "@jupyter-widgets/controls",
            "_model_module_version": "1.5.0",
            "_model_name": "HTMLModel",
            "_view_count": null,
            "_view_module": "@jupyter-widgets/controls",
            "_view_module_version": "1.5.0",
            "_view_name": "HTMLView",
            "description": "",
            "description_tooltip": null,
            "layout": "IPY_MODEL_7bbd0cd5014649959c86793426cdad60",
            "placeholder": "​",
            "style": "IPY_MODEL_91b257598ba746a29fd9d626fdd38263",
            "value": " 300/300 [03:32&lt;00:00,  1.19it/s]"
          }
        },
        "7846b85ef7704b5bbade4cdaeef15511": {
          "model_module": "@jupyter-widgets/base",
          "model_name": "LayoutModel",
          "model_module_version": "1.2.0",
          "state": {
            "_model_module": "@jupyter-widgets/base",
            "_model_module_version": "1.2.0",
            "_model_name": "LayoutModel",
            "_view_count": null,
            "_view_module": "@jupyter-widgets/base",
            "_view_module_version": "1.2.0",
            "_view_name": "LayoutView",
            "align_content": null,
            "align_items": null,
            "align_self": null,
            "border": null,
            "bottom": null,
            "display": null,
            "flex": null,
            "flex_flow": null,
            "grid_area": null,
            "grid_auto_columns": null,
            "grid_auto_flow": null,
            "grid_auto_rows": null,
            "grid_column": null,
            "grid_gap": null,
            "grid_row": null,
            "grid_template_areas": null,
            "grid_template_columns": null,
            "grid_template_rows": null,
            "height": null,
            "justify_content": null,
            "justify_items": null,
            "left": null,
            "margin": null,
            "max_height": null,
            "max_width": null,
            "min_height": null,
            "min_width": null,
            "object_fit": null,
            "object_position": null,
            "order": null,
            "overflow": null,
            "overflow_x": null,
            "overflow_y": null,
            "padding": null,
            "right": null,
            "top": null,
            "visibility": null,
            "width": null
          }
        },
        "f52b4c3e6e6f4c7ab6630407dd296d67": {
          "model_module": "@jupyter-widgets/base",
          "model_name": "LayoutModel",
          "model_module_version": "1.2.0",
          "state": {
            "_model_module": "@jupyter-widgets/base",
            "_model_module_version": "1.2.0",
            "_model_name": "LayoutModel",
            "_view_count": null,
            "_view_module": "@jupyter-widgets/base",
            "_view_module_version": "1.2.0",
            "_view_name": "LayoutView",
            "align_content": null,
            "align_items": null,
            "align_self": null,
            "border": null,
            "bottom": null,
            "display": null,
            "flex": null,
            "flex_flow": null,
            "grid_area": null,
            "grid_auto_columns": null,
            "grid_auto_flow": null,
            "grid_auto_rows": null,
            "grid_column": null,
            "grid_gap": null,
            "grid_row": null,
            "grid_template_areas": null,
            "grid_template_columns": null,
            "grid_template_rows": null,
            "height": null,
            "justify_content": null,
            "justify_items": null,
            "left": null,
            "margin": null,
            "max_height": null,
            "max_width": null,
            "min_height": null,
            "min_width": null,
            "object_fit": null,
            "object_position": null,
            "order": null,
            "overflow": null,
            "overflow_x": null,
            "overflow_y": null,
            "padding": null,
            "right": null,
            "top": null,
            "visibility": null,
            "width": null
          }
        },
        "b546a8e559fe4b898b9f9ff3ba5b0249": {
          "model_module": "@jupyter-widgets/controls",
          "model_name": "DescriptionStyleModel",
          "model_module_version": "1.5.0",
          "state": {
            "_model_module": "@jupyter-widgets/controls",
            "_model_module_version": "1.5.0",
            "_model_name": "DescriptionStyleModel",
            "_view_count": null,
            "_view_module": "@jupyter-widgets/base",
            "_view_module_version": "1.2.0",
            "_view_name": "StyleView",
            "description_width": ""
          }
        },
        "eb7abde7e65a42d99b01bc53df4ae6e4": {
          "model_module": "@jupyter-widgets/base",
          "model_name": "LayoutModel",
          "model_module_version": "1.2.0",
          "state": {
            "_model_module": "@jupyter-widgets/base",
            "_model_module_version": "1.2.0",
            "_model_name": "LayoutModel",
            "_view_count": null,
            "_view_module": "@jupyter-widgets/base",
            "_view_module_version": "1.2.0",
            "_view_name": "LayoutView",
            "align_content": null,
            "align_items": null,
            "align_self": null,
            "border": null,
            "bottom": null,
            "display": null,
            "flex": null,
            "flex_flow": null,
            "grid_area": null,
            "grid_auto_columns": null,
            "grid_auto_flow": null,
            "grid_auto_rows": null,
            "grid_column": null,
            "grid_gap": null,
            "grid_row": null,
            "grid_template_areas": null,
            "grid_template_columns": null,
            "grid_template_rows": null,
            "height": null,
            "justify_content": null,
            "justify_items": null,
            "left": null,
            "margin": null,
            "max_height": null,
            "max_width": null,
            "min_height": null,
            "min_width": null,
            "object_fit": null,
            "object_position": null,
            "order": null,
            "overflow": null,
            "overflow_x": null,
            "overflow_y": null,
            "padding": null,
            "right": null,
            "top": null,
            "visibility": null,
            "width": null
          }
        },
        "c9c39005f98f4474a0329377b6139fc5": {
          "model_module": "@jupyter-widgets/controls",
          "model_name": "ProgressStyleModel",
          "model_module_version": "1.5.0",
          "state": {
            "_model_module": "@jupyter-widgets/controls",
            "_model_module_version": "1.5.0",
            "_model_name": "ProgressStyleModel",
            "_view_count": null,
            "_view_module": "@jupyter-widgets/base",
            "_view_module_version": "1.2.0",
            "_view_name": "StyleView",
            "bar_color": null,
            "description_width": ""
          }
        },
        "7bbd0cd5014649959c86793426cdad60": {
          "model_module": "@jupyter-widgets/base",
          "model_name": "LayoutModel",
          "model_module_version": "1.2.0",
          "state": {
            "_model_module": "@jupyter-widgets/base",
            "_model_module_version": "1.2.0",
            "_model_name": "LayoutModel",
            "_view_count": null,
            "_view_module": "@jupyter-widgets/base",
            "_view_module_version": "1.2.0",
            "_view_name": "LayoutView",
            "align_content": null,
            "align_items": null,
            "align_self": null,
            "border": null,
            "bottom": null,
            "display": null,
            "flex": null,
            "flex_flow": null,
            "grid_area": null,
            "grid_auto_columns": null,
            "grid_auto_flow": null,
            "grid_auto_rows": null,
            "grid_column": null,
            "grid_gap": null,
            "grid_row": null,
            "grid_template_areas": null,
            "grid_template_columns": null,
            "grid_template_rows": null,
            "height": null,
            "justify_content": null,
            "justify_items": null,
            "left": null,
            "margin": null,
            "max_height": null,
            "max_width": null,
            "min_height": null,
            "min_width": null,
            "object_fit": null,
            "object_position": null,
            "order": null,
            "overflow": null,
            "overflow_x": null,
            "overflow_y": null,
            "padding": null,
            "right": null,
            "top": null,
            "visibility": null,
            "width": null
          }
        },
        "91b257598ba746a29fd9d626fdd38263": {
          "model_module": "@jupyter-widgets/controls",
          "model_name": "DescriptionStyleModel",
          "model_module_version": "1.5.0",
          "state": {
            "_model_module": "@jupyter-widgets/controls",
            "_model_module_version": "1.5.0",
            "_model_name": "DescriptionStyleModel",
            "_view_count": null,
            "_view_module": "@jupyter-widgets/base",
            "_view_module_version": "1.2.0",
            "_view_name": "StyleView",
            "description_width": ""
          }
        }
      }
    }
  },
  "cells": [
    {
      "cell_type": "markdown",
      "source": [
        "# **Computational Creativity Project**\n",
        "\n",
        "---\n",
        "\n",
        "### **Recipe generation and image generation based on the generated recipe using LSTM and Big Sleep**\n",
        "\n",
        "Samil Enes Basbug, Student ID: 210617146\n"
      ],
      "metadata": {
        "id": "2Nf-Q_EBF7Yz"
      }
    },
    {
      "cell_type": "markdown",
      "source": [
        "## Important information about this notebook:\n",
        "\n",
        "In this project, I built a text generation to generate chicken, meat, and fish recipes. Then, I utilized the Big Sleep model to generate images related to the recipes my model created. Please do not skip any line of code(run each piece of code respectively), I have already commented the training part out. The notebook is ready to be tested.\n",
        "\n",
        "1.   I built and deployed an web app, using Streamlit (is an open-source app framework), generating food recipes. I recommend you to visit this web app as well :)  https://share.streamlit.io/enesbasbug/food_recipe_generator/main/app.py\n",
        "\n",
        " (The only model embedded in the web app was Recipe(text) generation model. I could not work with Big Sleep locally since CUDA only works with Nvidia graphic card I did not have. Therefore, even though I integrated Big Sleep to my Text Generation model on my computer, Big Sleep did not work.) \n",
        "2.   You may also visit my GitHub https://github.com/enesbasbug/Food_Recipe_Generator repository to see many texts/images/gifs examples of my project.\n",
        "\n",
        "\n",
        "\n",
        "What you will see in this notebook respectively:\n",
        "*   Installing the OpenAI's CLIP and a BigGAN model, also known as Big Sleep.\n",
        "*   Importing the libraries necessary.\n",
        "*   Loading the pre-trained model for text/recipe generator.\n",
        "*   Loading the data, data cleaning and creating the files contain new data, which will be used by the text generator model\n",
        "*   Reading the data\n",
        "*   The common functions and variables that we will use\n",
        "*   Generating the Text/Recipe (You will see there are 3 similar, in order, blocks of codes to generate the recipes since there are 3 specific pre-trained models for fish, meat and chicken dishes.) You may execute and try them by yourself\n",
        "*   Determining the ingredients in the recipes\n",
        "*   Image generation from the recipe/text using Big Sleep. You may execute and try it by yourself.\n",
        "\n",
        "\n",
        "\n"
      ],
      "metadata": {
        "id": "9yk5dllrF7T3"
      }
    },
    {
      "cell_type": "markdown",
      "source": [
        "# Installing the Big Sleep Model for image generation and importing the libraries necessary\n",
        "We will generate images using the generated text/recipes as inputs in last step"
      ],
      "metadata": {
        "id": "7wXVox2lKWkG"
      }
    },
    {
      "cell_type": "code",
      "execution_count": null,
      "metadata": {
        "colab": {
          "base_uri": "https://localhost:8080/"
        },
        "id": "OUx_L9-o0ZWD",
        "outputId": "10dccf28-805d-4c42-9023-6b30e128fead"
      },
      "outputs": [
        {
          "output_type": "stream",
          "name": "stdout",
          "text": [
            "Collecting big-sleep\n",
            "  Downloading big_sleep-0.9.1-py3-none-any.whl (1.4 MB)\n",
            "\u001b[?25l\r\u001b[K     |▎                               | 10 kB 33.5 MB/s eta 0:00:01\r\u001b[K     |▌                               | 20 kB 24.7 MB/s eta 0:00:01\r\u001b[K     |▊                               | 30 kB 17.9 MB/s eta 0:00:01\r\u001b[K     |█                               | 40 kB 15.5 MB/s eta 0:00:01\r\u001b[K     |█▏                              | 51 kB 7.5 MB/s eta 0:00:01\r\u001b[K     |█▍                              | 61 kB 8.8 MB/s eta 0:00:01\r\u001b[K     |█▋                              | 71 kB 9.8 MB/s eta 0:00:01\r\u001b[K     |██                              | 81 kB 9.1 MB/s eta 0:00:01\r\u001b[K     |██▏                             | 92 kB 10.2 MB/s eta 0:00:01\r\u001b[K     |██▍                             | 102 kB 8.3 MB/s eta 0:00:01\r\u001b[K     |██▋                             | 112 kB 8.3 MB/s eta 0:00:01\r\u001b[K     |██▉                             | 122 kB 8.3 MB/s eta 0:00:01\r\u001b[K     |███                             | 133 kB 8.3 MB/s eta 0:00:01\r\u001b[K     |███▎                            | 143 kB 8.3 MB/s eta 0:00:01\r\u001b[K     |███▋                            | 153 kB 8.3 MB/s eta 0:00:01\r\u001b[K     |███▉                            | 163 kB 8.3 MB/s eta 0:00:01\r\u001b[K     |████                            | 174 kB 8.3 MB/s eta 0:00:01\r\u001b[K     |████▎                           | 184 kB 8.3 MB/s eta 0:00:01\r\u001b[K     |████▌                           | 194 kB 8.3 MB/s eta 0:00:01\r\u001b[K     |████▊                           | 204 kB 8.3 MB/s eta 0:00:01\r\u001b[K     |█████                           | 215 kB 8.3 MB/s eta 0:00:01\r\u001b[K     |█████▏                          | 225 kB 8.3 MB/s eta 0:00:01\r\u001b[K     |█████▌                          | 235 kB 8.3 MB/s eta 0:00:01\r\u001b[K     |█████▊                          | 245 kB 8.3 MB/s eta 0:00:01\r\u001b[K     |██████                          | 256 kB 8.3 MB/s eta 0:00:01\r\u001b[K     |██████▏                         | 266 kB 8.3 MB/s eta 0:00:01\r\u001b[K     |██████▍                         | 276 kB 8.3 MB/s eta 0:00:01\r\u001b[K     |██████▋                         | 286 kB 8.3 MB/s eta 0:00:01\r\u001b[K     |██████▉                         | 296 kB 8.3 MB/s eta 0:00:01\r\u001b[K     |███████▏                        | 307 kB 8.3 MB/s eta 0:00:01\r\u001b[K     |███████▍                        | 317 kB 8.3 MB/s eta 0:00:01\r\u001b[K     |███████▋                        | 327 kB 8.3 MB/s eta 0:00:01\r\u001b[K     |███████▉                        | 337 kB 8.3 MB/s eta 0:00:01\r\u001b[K     |████████                        | 348 kB 8.3 MB/s eta 0:00:01\r\u001b[K     |████████▎                       | 358 kB 8.3 MB/s eta 0:00:01\r\u001b[K     |████████▌                       | 368 kB 8.3 MB/s eta 0:00:01\r\u001b[K     |████████▊                       | 378 kB 8.3 MB/s eta 0:00:01\r\u001b[K     |█████████                       | 389 kB 8.3 MB/s eta 0:00:01\r\u001b[K     |█████████▎                      | 399 kB 8.3 MB/s eta 0:00:01\r\u001b[K     |█████████▌                      | 409 kB 8.3 MB/s eta 0:00:01\r\u001b[K     |█████████▊                      | 419 kB 8.3 MB/s eta 0:00:01\r\u001b[K     |██████████                      | 430 kB 8.3 MB/s eta 0:00:01\r\u001b[K     |██████████▏                     | 440 kB 8.3 MB/s eta 0:00:01\r\u001b[K     |██████████▍                     | 450 kB 8.3 MB/s eta 0:00:01\r\u001b[K     |██████████▊                     | 460 kB 8.3 MB/s eta 0:00:01\r\u001b[K     |███████████                     | 471 kB 8.3 MB/s eta 0:00:01\r\u001b[K     |███████████▏                    | 481 kB 8.3 MB/s eta 0:00:01\r\u001b[K     |███████████▍                    | 491 kB 8.3 MB/s eta 0:00:01\r\u001b[K     |███████████▋                    | 501 kB 8.3 MB/s eta 0:00:01\r\u001b[K     |███████████▉                    | 512 kB 8.3 MB/s eta 0:00:01\r\u001b[K     |████████████                    | 522 kB 8.3 MB/s eta 0:00:01\r\u001b[K     |████████████▎                   | 532 kB 8.3 MB/s eta 0:00:01\r\u001b[K     |████████████▋                   | 542 kB 8.3 MB/s eta 0:00:01\r\u001b[K     |████████████▉                   | 552 kB 8.3 MB/s eta 0:00:01\r\u001b[K     |█████████████                   | 563 kB 8.3 MB/s eta 0:00:01\r\u001b[K     |█████████████▎                  | 573 kB 8.3 MB/s eta 0:00:01\r\u001b[K     |█████████████▌                  | 583 kB 8.3 MB/s eta 0:00:01\r\u001b[K     |█████████████▊                  | 593 kB 8.3 MB/s eta 0:00:01\r\u001b[K     |██████████████                  | 604 kB 8.3 MB/s eta 0:00:01\r\u001b[K     |██████████████▎                 | 614 kB 8.3 MB/s eta 0:00:01\r\u001b[K     |██████████████▌                 | 624 kB 8.3 MB/s eta 0:00:01\r\u001b[K     |██████████████▊                 | 634 kB 8.3 MB/s eta 0:00:01\r\u001b[K     |███████████████                 | 645 kB 8.3 MB/s eta 0:00:01\r\u001b[K     |███████████████▏                | 655 kB 8.3 MB/s eta 0:00:01\r\u001b[K     |███████████████▍                | 665 kB 8.3 MB/s eta 0:00:01\r\u001b[K     |███████████████▋                | 675 kB 8.3 MB/s eta 0:00:01\r\u001b[K     |███████████████▉                | 686 kB 8.3 MB/s eta 0:00:01\r\u001b[K     |████████████████▏               | 696 kB 8.3 MB/s eta 0:00:01\r\u001b[K     |████████████████▍               | 706 kB 8.3 MB/s eta 0:00:01\r\u001b[K     |████████████████▋               | 716 kB 8.3 MB/s eta 0:00:01\r\u001b[K     |████████████████▉               | 727 kB 8.3 MB/s eta 0:00:01\r\u001b[K     |█████████████████               | 737 kB 8.3 MB/s eta 0:00:01\r\u001b[K     |█████████████████▎              | 747 kB 8.3 MB/s eta 0:00:01\r\u001b[K     |█████████████████▌              | 757 kB 8.3 MB/s eta 0:00:01\r\u001b[K     |█████████████████▉              | 768 kB 8.3 MB/s eta 0:00:01\r\u001b[K     |██████████████████              | 778 kB 8.3 MB/s eta 0:00:01\r\u001b[K     |██████████████████▎             | 788 kB 8.3 MB/s eta 0:00:01\r\u001b[K     |██████████████████▌             | 798 kB 8.3 MB/s eta 0:00:01\r\u001b[K     |██████████████████▊             | 808 kB 8.3 MB/s eta 0:00:01\r\u001b[K     |███████████████████             | 819 kB 8.3 MB/s eta 0:00:01\r\u001b[K     |███████████████████▏            | 829 kB 8.3 MB/s eta 0:00:01\r\u001b[K     |███████████████████▍            | 839 kB 8.3 MB/s eta 0:00:01\r\u001b[K     |███████████████████▊            | 849 kB 8.3 MB/s eta 0:00:01\r\u001b[K     |████████████████████            | 860 kB 8.3 MB/s eta 0:00:01\r\u001b[K     |████████████████████▏           | 870 kB 8.3 MB/s eta 0:00:01\r\u001b[K     |████████████████████▍           | 880 kB 8.3 MB/s eta 0:00:01\r\u001b[K     |████████████████████▋           | 890 kB 8.3 MB/s eta 0:00:01\r\u001b[K     |████████████████████▉           | 901 kB 8.3 MB/s eta 0:00:01\r\u001b[K     |█████████████████████           | 911 kB 8.3 MB/s eta 0:00:01\r\u001b[K     |█████████████████████▍          | 921 kB 8.3 MB/s eta 0:00:01\r\u001b[K     |█████████████████████▋          | 931 kB 8.3 MB/s eta 0:00:01\r\u001b[K     |█████████████████████▉          | 942 kB 8.3 MB/s eta 0:00:01\r\u001b[K     |██████████████████████          | 952 kB 8.3 MB/s eta 0:00:01\r\u001b[K     |██████████████████████▎         | 962 kB 8.3 MB/s eta 0:00:01\r\u001b[K     |██████████████████████▌         | 972 kB 8.3 MB/s eta 0:00:01\r\u001b[K     |██████████████████████▊         | 983 kB 8.3 MB/s eta 0:00:01\r\u001b[K     |███████████████████████         | 993 kB 8.3 MB/s eta 0:00:01\r\u001b[K     |███████████████████████▎        | 1.0 MB 8.3 MB/s eta 0:00:01\r\u001b[K     |███████████████████████▌        | 1.0 MB 8.3 MB/s eta 0:00:01\r\u001b[K     |███████████████████████▊        | 1.0 MB 8.3 MB/s eta 0:00:01\r\u001b[K     |████████████████████████        | 1.0 MB 8.3 MB/s eta 0:00:01\r\u001b[K     |████████████████████████▏       | 1.0 MB 8.3 MB/s eta 0:00:01\r\u001b[K     |████████████████████████▍       | 1.1 MB 8.3 MB/s eta 0:00:01\r\u001b[K     |████████████████████████▋       | 1.1 MB 8.3 MB/s eta 0:00:01\r\u001b[K     |█████████████████████████       | 1.1 MB 8.3 MB/s eta 0:00:01\r\u001b[K     |█████████████████████████▏      | 1.1 MB 8.3 MB/s eta 0:00:01\r\u001b[K     |█████████████████████████▍      | 1.1 MB 8.3 MB/s eta 0:00:01\r\u001b[K     |█████████████████████████▋      | 1.1 MB 8.3 MB/s eta 0:00:01\r\u001b[K     |█████████████████████████▉      | 1.1 MB 8.3 MB/s eta 0:00:01\r\u001b[K     |██████████████████████████      | 1.1 MB 8.3 MB/s eta 0:00:01\r\u001b[K     |██████████████████████████▎     | 1.1 MB 8.3 MB/s eta 0:00:01\r\u001b[K     |██████████████████████████▌     | 1.1 MB 8.3 MB/s eta 0:00:01\r\u001b[K     |██████████████████████████▉     | 1.2 MB 8.3 MB/s eta 0:00:01\r\u001b[K     |███████████████████████████     | 1.2 MB 8.3 MB/s eta 0:00:01\r\u001b[K     |███████████████████████████▎    | 1.2 MB 8.3 MB/s eta 0:00:01\r\u001b[K     |███████████████████████████▌    | 1.2 MB 8.3 MB/s eta 0:00:01\r\u001b[K     |███████████████████████████▊    | 1.2 MB 8.3 MB/s eta 0:00:01\r\u001b[K     |████████████████████████████    | 1.2 MB 8.3 MB/s eta 0:00:01\r\u001b[K     |████████████████████████████▏   | 1.2 MB 8.3 MB/s eta 0:00:01\r\u001b[K     |████████████████████████████▌   | 1.2 MB 8.3 MB/s eta 0:00:01\r\u001b[K     |████████████████████████████▊   | 1.2 MB 8.3 MB/s eta 0:00:01\r\u001b[K     |█████████████████████████████   | 1.2 MB 8.3 MB/s eta 0:00:01\r\u001b[K     |█████████████████████████████▏  | 1.3 MB 8.3 MB/s eta 0:00:01\r\u001b[K     |█████████████████████████████▍  | 1.3 MB 8.3 MB/s eta 0:00:01\r\u001b[K     |█████████████████████████████▋  | 1.3 MB 8.3 MB/s eta 0:00:01\r\u001b[K     |█████████████████████████████▉  | 1.3 MB 8.3 MB/s eta 0:00:01\r\u001b[K     |██████████████████████████████  | 1.3 MB 8.3 MB/s eta 0:00:01\r\u001b[K     |██████████████████████████████▍ | 1.3 MB 8.3 MB/s eta 0:00:01\r\u001b[K     |██████████████████████████████▋ | 1.3 MB 8.3 MB/s eta 0:00:01\r\u001b[K     |██████████████████████████████▉ | 1.3 MB 8.3 MB/s eta 0:00:01\r\u001b[K     |███████████████████████████████ | 1.3 MB 8.3 MB/s eta 0:00:01\r\u001b[K     |███████████████████████████████▎| 1.4 MB 8.3 MB/s eta 0:00:01\r\u001b[K     |███████████████████████████████▌| 1.4 MB 8.3 MB/s eta 0:00:01\r\u001b[K     |███████████████████████████████▊| 1.4 MB 8.3 MB/s eta 0:00:01\r\u001b[K     |████████████████████████████████| 1.4 MB 8.3 MB/s \n",
            "\u001b[?25hCollecting einops>=0.3\n",
            "  Downloading einops-0.4.1-py3-none-any.whl (28 kB)\n",
            "Requirement already satisfied: tqdm in /usr/local/lib/python3.7/dist-packages (from big-sleep) (4.64.0)\n",
            "Requirement already satisfied: regex in /usr/local/lib/python3.7/dist-packages (from big-sleep) (2019.12.20)\n",
            "Requirement already satisfied: torchvision>=0.8.2 in /usr/local/lib/python3.7/dist-packages (from big-sleep) (0.11.1+cu111)\n",
            "Requirement already satisfied: torch>=1.7.1 in /usr/local/lib/python3.7/dist-packages (from big-sleep) (1.10.0+cu111)\n",
            "Collecting ftfy\n",
            "  Downloading ftfy-6.1.1-py3-none-any.whl (53 kB)\n",
            "\u001b[K     |████████████████████████████████| 53 kB 1.9 MB/s \n",
            "\u001b[?25hCollecting pytorch-pretrained-biggan\n",
            "  Downloading pytorch_pretrained_biggan-0.1.1-py3-none-any.whl (27 kB)\n",
            "Collecting fire\n",
            "  Downloading fire-0.4.0.tar.gz (87 kB)\n",
            "\u001b[K     |████████████████████████████████| 87 kB 8.0 MB/s \n",
            "\u001b[?25hRequirement already satisfied: typing-extensions in /usr/local/lib/python3.7/dist-packages (from torch>=1.7.1->big-sleep) (4.1.1)\n",
            "Requirement already satisfied: numpy in /usr/local/lib/python3.7/dist-packages (from torchvision>=0.8.2->big-sleep) (1.21.5)\n",
            "Requirement already satisfied: pillow!=8.3.0,>=5.3.0 in /usr/local/lib/python3.7/dist-packages (from torchvision>=0.8.2->big-sleep) (7.1.2)\n",
            "Requirement already satisfied: six in /usr/local/lib/python3.7/dist-packages (from fire->big-sleep) (1.15.0)\n",
            "Requirement already satisfied: termcolor in /usr/local/lib/python3.7/dist-packages (from fire->big-sleep) (1.1.0)\n",
            "Requirement already satisfied: wcwidth>=0.2.5 in /usr/local/lib/python3.7/dist-packages (from ftfy->big-sleep) (0.2.5)\n",
            "Requirement already satisfied: requests in /usr/local/lib/python3.7/dist-packages (from pytorch-pretrained-biggan->big-sleep) (2.23.0)\n",
            "Collecting boto3\n",
            "  Downloading boto3-1.21.42-py3-none-any.whl (132 kB)\n",
            "\u001b[K     |████████████████████████████████| 132 kB 83.7 MB/s \n",
            "\u001b[?25hCollecting botocore<1.25.0,>=1.24.42\n",
            "  Downloading botocore-1.24.42-py3-none-any.whl (8.7 MB)\n",
            "\u001b[K     |████████████████████████████████| 8.7 MB 55.7 MB/s \n",
            "\u001b[?25hCollecting jmespath<2.0.0,>=0.7.1\n",
            "  Downloading jmespath-1.0.0-py3-none-any.whl (23 kB)\n",
            "Collecting s3transfer<0.6.0,>=0.5.0\n",
            "  Downloading s3transfer-0.5.2-py3-none-any.whl (79 kB)\n",
            "\u001b[K     |████████████████████████████████| 79 kB 8.7 MB/s \n",
            "\u001b[?25hCollecting urllib3<1.27,>=1.25.4\n",
            "  Downloading urllib3-1.26.9-py2.py3-none-any.whl (138 kB)\n",
            "\u001b[K     |████████████████████████████████| 138 kB 56.9 MB/s \n",
            "\u001b[?25hRequirement already satisfied: python-dateutil<3.0.0,>=2.1 in /usr/local/lib/python3.7/dist-packages (from botocore<1.25.0,>=1.24.42->boto3->pytorch-pretrained-biggan->big-sleep) (2.8.2)\n",
            "  Downloading urllib3-1.25.11-py2.py3-none-any.whl (127 kB)\n",
            "\u001b[K     |████████████████████████████████| 127 kB 90.0 MB/s \n",
            "\u001b[?25hRequirement already satisfied: certifi>=2017.4.17 in /usr/local/lib/python3.7/dist-packages (from requests->pytorch-pretrained-biggan->big-sleep) (2021.10.8)\n",
            "Requirement already satisfied: idna<3,>=2.5 in /usr/local/lib/python3.7/dist-packages (from requests->pytorch-pretrained-biggan->big-sleep) (2.10)\n",
            "Requirement already satisfied: chardet<4,>=3.0.2 in /usr/local/lib/python3.7/dist-packages (from requests->pytorch-pretrained-biggan->big-sleep) (3.0.4)\n",
            "Building wheels for collected packages: fire\n",
            "  Building wheel for fire (setup.py) ... \u001b[?25l\u001b[?25hdone\n",
            "  Created wheel for fire: filename=fire-0.4.0-py2.py3-none-any.whl size=115942 sha256=147effed85b35f0b6021eaffd528269fc87d6cfba64223299a1b398ba8d5d287\n",
            "  Stored in directory: /root/.cache/pip/wheels/8a/67/fb/2e8a12fa16661b9d5af1f654bd199366799740a85c64981226\n",
            "Successfully built fire\n",
            "Installing collected packages: urllib3, jmespath, botocore, s3transfer, boto3, pytorch-pretrained-biggan, ftfy, fire, einops, big-sleep\n",
            "  Attempting uninstall: urllib3\n",
            "    Found existing installation: urllib3 1.24.3\n",
            "    Uninstalling urllib3-1.24.3:\n",
            "      Successfully uninstalled urllib3-1.24.3\n",
            "\u001b[31mERROR: pip's dependency resolver does not currently take into account all the packages that are installed. This behaviour is the source of the following dependency conflicts.\n",
            "datascience 0.10.6 requires folium==0.2.1, but you have folium 0.8.3 which is incompatible.\u001b[0m\n",
            "Successfully installed big-sleep-0.9.1 boto3-1.21.42 botocore-1.24.42 einops-0.4.1 fire-0.4.0 ftfy-6.1.1 jmespath-1.0.0 pytorch-pretrained-biggan-0.1.1 s3transfer-0.5.2 urllib3-1.25.11\n"
          ]
        }
      ],
      "source": [
        "!pip install big-sleep"
      ]
    },
    {
      "cell_type": "code",
      "source": [
        "import pandas as pd \n",
        "import numpy as np\n",
        "import tensorflow as tf\n",
        "import matplotlib.pyplot as plt\n",
        "import seaborn as sns\n",
        "import os\n",
        "import re\n",
        "from tensorflow.keras.models import Sequential\n",
        "from tensorflow.keras.layers import LSTM,Dense,Embedding,Dropout, Bidirectional\n",
        "from tensorflow.keras import regularizers\n",
        "from tensorflow.keras.losses import sparse_categorical_crossentropy\n",
        "\n",
        "from tqdm.notebook import trange\n",
        "from IPython.display import Image, display\n",
        "\n",
        "from big_sleep import Imagine"
      ],
      "metadata": {
        "id": "U-9-_M_H133l"
      },
      "execution_count": null,
      "outputs": []
    },
    {
      "cell_type": "markdown",
      "source": [
        "# Load pre-trained data from Google Drive \n",
        "Pre-trained (70 Epochs) Models for Chicken, Meat and Fish recipes.\n"
      ],
      "metadata": {
        "id": "lCBUDchCj3Xh"
      }
    },
    {
      "cell_type": "code",
      "source": [
        "! gdown -- 1TtC9S4b5KSGcDeVaLzaciAr7rCwO4Bgv # https://drive.google.com/file/d/1TtC9S4b5KSGcDeVaLzaciAr7rCwO4Bgv/view?usp=sharing # model for chicken dish \n",
        "\n",
        "! gdown -- 1s9Tw0gOfaNnfZTS3stDp6lpk4UeqfuAo # https://drive.google.com/file/d/1s9Tw0gOfaNnfZTS3stDp6lpk4UeqfuAo/view?usp=sharing # model for meat dish\n",
        "\n",
        "! gdown -- 1h6xCW_gpfunhAmXZ9TonC6Xr-Q_Nz7Tz # https://drive.google.com/file/d/1h6xCW_gpfunhAmXZ9TonC6Xr-Q_Nz7Tz/view?usp=sharing # model for fish dish"
      ],
      "metadata": {
        "colab": {
          "base_uri": "https://localhost:8080/"
        },
        "id": "4xMAh8b6_FAP",
        "outputId": "fa9eb85a-f764-471a-adee-ce319a255d10"
      },
      "execution_count": null,
      "outputs": [
        {
          "output_type": "stream",
          "name": "stdout",
          "text": [
            "Downloading...\n",
            "From: https://drive.google.com/uc?id=1TtC9S4b5KSGcDeVaLzaciAr7rCwO4Bgv\n",
            "To: /content/chicken_model.h5\n",
            "100% 164M/164M [00:02<00:00, 66.6MB/s]\n",
            "Downloading...\n",
            "From: https://drive.google.com/uc?id=1s9Tw0gOfaNnfZTS3stDp6lpk4UeqfuAo\n",
            "To: /content/meat_model.h5\n",
            "100% 164M/164M [00:02<00:00, 59.0MB/s]\n",
            "Downloading...\n",
            "From: https://drive.google.com/uc?id=1h6xCW_gpfunhAmXZ9TonC6Xr-Q_Nz7Tz\n",
            "To: /content/fish_model.h5\n",
            "100% 164M/164M [00:01<00:00, 108MB/s]\n"
          ]
        }
      ]
    },
    {
      "cell_type": "markdown",
      "source": [
        "#Data Cleaning"
      ],
      "metadata": {
        "id": "h3ry7vDytkaw"
      }
    },
    {
      "cell_type": "code",
      "source": [
        "import pandas as pd\n",
        "\n",
        "# I did not get the data from Kaggle directly since it required API token, which would be a problem for the reader/user. \n",
        "# Therefore, I upload the raw data to my GitHub repository and call it from here.\n",
        "\n",
        "url = 'https://raw.githubusercontent.com/enesbasbug/Generate_image_from_generated_text/main/data_recipe.csv'\n",
        " # just in case, https://github.com/enesbasbug/Food_Recipe_Generator/blob/main/data/data_recipe.csv\n",
        "df = pd.read_csv(url, index_col=0)\n",
        "df.head(2)"
      ],
      "metadata": {
        "colab": {
          "base_uri": "https://localhost:8080/"
        },
        "id": "N51dGhKXcSsd",
        "outputId": "8dc5f600-ddc7-4cbb-c826-a6035d3ece7f"
      },
      "execution_count": null,
      "outputs": [
        {
          "output_type": "execute_result",
          "data": {
            "text/plain": [
              "   category                                     cooking_method       cuisine  \\\n",
              "0       NaN  ['Set the racks in the middle and upper thirds...  ['American']   \n",
              "1       NaN  ['Place the eggs in the air fryer basket and c...  ['American']   \n",
              "\n",
              "                                               image  \\\n",
              "0  https://www.skinnytaste.com/wp-content/uploads...   \n",
              "1  https://www.skinnytaste.com/wp-content/uploads...   \n",
              "\n",
              "                                         ingredients   prep_time  \\\n",
              "0  ['1 tablespoons extra virgin olive oil', '1 cu...  20 minutes   \n",
              "1  ['4 large eggs', 'Salt (black pepper, everythi...  15 minutes   \n",
              "\n",
              "                  recipe_name      serves  \\\n",
              "0      Mediterranean Sea Bass  4 servings   \n",
              "1  Air Fryer Hard Boiled Eggs      4 eggs   \n",
              "\n",
              "                                                tags  \n",
              "0  Dairy Free, Gluten Free, Keto Recipes, Kid Fri...  \n",
              "1  Air Fryer Recipes, Dairy Free, Gluten Free, Ke...  "
            ],
            "text/html": [
              "\n",
              "  <div id=\"df-9d499d60-936e-4df3-8ab5-c89ffa9505cd\">\n",
              "    <div class=\"colab-df-container\">\n",
              "      <div>\n",
              "<style scoped>\n",
              "    .dataframe tbody tr th:only-of-type {\n",
              "        vertical-align: middle;\n",
              "    }\n",
              "\n",
              "    .dataframe tbody tr th {\n",
              "        vertical-align: top;\n",
              "    }\n",
              "\n",
              "    .dataframe thead th {\n",
              "        text-align: right;\n",
              "    }\n",
              "</style>\n",
              "<table border=\"1\" class=\"dataframe\">\n",
              "  <thead>\n",
              "    <tr style=\"text-align: right;\">\n",
              "      <th></th>\n",
              "      <th>category</th>\n",
              "      <th>cooking_method</th>\n",
              "      <th>cuisine</th>\n",
              "      <th>image</th>\n",
              "      <th>ingredients</th>\n",
              "      <th>prep_time</th>\n",
              "      <th>recipe_name</th>\n",
              "      <th>serves</th>\n",
              "      <th>tags</th>\n",
              "    </tr>\n",
              "  </thead>\n",
              "  <tbody>\n",
              "    <tr>\n",
              "      <th>0</th>\n",
              "      <td>NaN</td>\n",
              "      <td>['Set the racks in the middle and upper thirds...</td>\n",
              "      <td>['American']</td>\n",
              "      <td>https://www.skinnytaste.com/wp-content/uploads...</td>\n",
              "      <td>['1 tablespoons extra virgin olive oil', '1 cu...</td>\n",
              "      <td>20 minutes</td>\n",
              "      <td>Mediterranean Sea Bass</td>\n",
              "      <td>4 servings</td>\n",
              "      <td>Dairy Free, Gluten Free, Keto Recipes, Kid Fri...</td>\n",
              "    </tr>\n",
              "    <tr>\n",
              "      <th>1</th>\n",
              "      <td>NaN</td>\n",
              "      <td>['Place the eggs in the air fryer basket and c...</td>\n",
              "      <td>['American']</td>\n",
              "      <td>https://www.skinnytaste.com/wp-content/uploads...</td>\n",
              "      <td>['4 large eggs', 'Salt (black pepper, everythi...</td>\n",
              "      <td>15 minutes</td>\n",
              "      <td>Air Fryer Hard Boiled Eggs</td>\n",
              "      <td>4 eggs</td>\n",
              "      <td>Air Fryer Recipes, Dairy Free, Gluten Free, Ke...</td>\n",
              "    </tr>\n",
              "  </tbody>\n",
              "</table>\n",
              "</div>\n",
              "      <button class=\"colab-df-convert\" onclick=\"convertToInteractive('df-9d499d60-936e-4df3-8ab5-c89ffa9505cd')\"\n",
              "              title=\"Convert this dataframe to an interactive table.\"\n",
              "              style=\"display:none;\">\n",
              "        \n",
              "  <svg xmlns=\"http://www.w3.org/2000/svg\" height=\"24px\"viewBox=\"0 0 24 24\"\n",
              "       width=\"24px\">\n",
              "    <path d=\"M0 0h24v24H0V0z\" fill=\"none\"/>\n",
              "    <path d=\"M18.56 5.44l.94 2.06.94-2.06 2.06-.94-2.06-.94-.94-2.06-.94 2.06-2.06.94zm-11 1L8.5 8.5l.94-2.06 2.06-.94-2.06-.94L8.5 2.5l-.94 2.06-2.06.94zm10 10l.94 2.06.94-2.06 2.06-.94-2.06-.94-.94-2.06-.94 2.06-2.06.94z\"/><path d=\"M17.41 7.96l-1.37-1.37c-.4-.4-.92-.59-1.43-.59-.52 0-1.04.2-1.43.59L10.3 9.45l-7.72 7.72c-.78.78-.78 2.05 0 2.83L4 21.41c.39.39.9.59 1.41.59.51 0 1.02-.2 1.41-.59l7.78-7.78 2.81-2.81c.8-.78.8-2.07 0-2.86zM5.41 20L4 18.59l7.72-7.72 1.47 1.35L5.41 20z\"/>\n",
              "  </svg>\n",
              "      </button>\n",
              "      \n",
              "  <style>\n",
              "    .colab-df-container {\n",
              "      display:flex;\n",
              "      flex-wrap:wrap;\n",
              "      gap: 12px;\n",
              "    }\n",
              "\n",
              "    .colab-df-convert {\n",
              "      background-color: #E8F0FE;\n",
              "      border: none;\n",
              "      border-radius: 50%;\n",
              "      cursor: pointer;\n",
              "      display: none;\n",
              "      fill: #1967D2;\n",
              "      height: 32px;\n",
              "      padding: 0 0 0 0;\n",
              "      width: 32px;\n",
              "    }\n",
              "\n",
              "    .colab-df-convert:hover {\n",
              "      background-color: #E2EBFA;\n",
              "      box-shadow: 0px 1px 2px rgba(60, 64, 67, 0.3), 0px 1px 3px 1px rgba(60, 64, 67, 0.15);\n",
              "      fill: #174EA6;\n",
              "    }\n",
              "\n",
              "    [theme=dark] .colab-df-convert {\n",
              "      background-color: #3B4455;\n",
              "      fill: #D2E3FC;\n",
              "    }\n",
              "\n",
              "    [theme=dark] .colab-df-convert:hover {\n",
              "      background-color: #434B5C;\n",
              "      box-shadow: 0px 1px 3px 1px rgba(0, 0, 0, 0.15);\n",
              "      filter: drop-shadow(0px 1px 2px rgba(0, 0, 0, 0.3));\n",
              "      fill: #FFFFFF;\n",
              "    }\n",
              "  </style>\n",
              "\n",
              "      <script>\n",
              "        const buttonEl =\n",
              "          document.querySelector('#df-9d499d60-936e-4df3-8ab5-c89ffa9505cd button.colab-df-convert');\n",
              "        buttonEl.style.display =\n",
              "          google.colab.kernel.accessAllowed ? 'block' : 'none';\n",
              "\n",
              "        async function convertToInteractive(key) {\n",
              "          const element = document.querySelector('#df-9d499d60-936e-4df3-8ab5-c89ffa9505cd');\n",
              "          const dataTable =\n",
              "            await google.colab.kernel.invokeFunction('convertToInteractive',\n",
              "                                                     [key], {});\n",
              "          if (!dataTable) return;\n",
              "\n",
              "          const docLinkHtml = 'Like what you see? Visit the ' +\n",
              "            '<a target=\"_blank\" href=https://colab.research.google.com/notebooks/data_table.ipynb>data table notebook</a>'\n",
              "            + ' to learn more about interactive tables.';\n",
              "          element.innerHTML = '';\n",
              "          dataTable['output_type'] = 'display_data';\n",
              "          await google.colab.output.renderOutput(dataTable, element);\n",
              "          const docLink = document.createElement('div');\n",
              "          docLink.innerHTML = docLinkHtml;\n",
              "          element.appendChild(docLink);\n",
              "        }\n",
              "      </script>\n",
              "    </div>\n",
              "  </div>\n",
              "  "
            ]
          },
          "metadata": {},
          "execution_count": 4
        }
      ]
    },
    {
      "cell_type": "code",
      "source": [
        "# Removing unnecessary features of the data\n",
        "df.drop(columns=['category', 'cuisine', 'image', 'prep_time', 'serves', 'tags', 'recipe_name'], inplace=True)"
      ],
      "metadata": {
        "id": "0ZZ5ebLegpp8"
      },
      "execution_count": null,
      "outputs": []
    },
    {
      "cell_type": "code",
      "source": [
        "df.head(2)"
      ],
      "metadata": {
        "colab": {
          "base_uri": "https://localhost:8080/"
        },
        "id": "AaK8t8v_guDa",
        "outputId": "e8427aba-3d57-4c8b-c0e2-8e69f31b6c58"
      },
      "execution_count": null,
      "outputs": [
        {
          "output_type": "execute_result",
          "data": {
            "text/plain": [
              "                                      cooking_method  \\\n",
              "0  ['Set the racks in the middle and upper thirds...   \n",
              "1  ['Place the eggs in the air fryer basket and c...   \n",
              "\n",
              "                                         ingredients  \n",
              "0  ['1 tablespoons extra virgin olive oil', '1 cu...  \n",
              "1  ['4 large eggs', 'Salt (black pepper, everythi...  "
            ],
            "text/html": [
              "\n",
              "  <div id=\"df-0f1f08d0-e0c0-4ba7-8f6d-ccd7d3bd230a\">\n",
              "    <div class=\"colab-df-container\">\n",
              "      <div>\n",
              "<style scoped>\n",
              "    .dataframe tbody tr th:only-of-type {\n",
              "        vertical-align: middle;\n",
              "    }\n",
              "\n",
              "    .dataframe tbody tr th {\n",
              "        vertical-align: top;\n",
              "    }\n",
              "\n",
              "    .dataframe thead th {\n",
              "        text-align: right;\n",
              "    }\n",
              "</style>\n",
              "<table border=\"1\" class=\"dataframe\">\n",
              "  <thead>\n",
              "    <tr style=\"text-align: right;\">\n",
              "      <th></th>\n",
              "      <th>cooking_method</th>\n",
              "      <th>ingredients</th>\n",
              "    </tr>\n",
              "  </thead>\n",
              "  <tbody>\n",
              "    <tr>\n",
              "      <th>0</th>\n",
              "      <td>['Set the racks in the middle and upper thirds...</td>\n",
              "      <td>['1 tablespoons extra virgin olive oil', '1 cu...</td>\n",
              "    </tr>\n",
              "    <tr>\n",
              "      <th>1</th>\n",
              "      <td>['Place the eggs in the air fryer basket and c...</td>\n",
              "      <td>['4 large eggs', 'Salt (black pepper, everythi...</td>\n",
              "    </tr>\n",
              "  </tbody>\n",
              "</table>\n",
              "</div>\n",
              "      <button class=\"colab-df-convert\" onclick=\"convertToInteractive('df-0f1f08d0-e0c0-4ba7-8f6d-ccd7d3bd230a')\"\n",
              "              title=\"Convert this dataframe to an interactive table.\"\n",
              "              style=\"display:none;\">\n",
              "        \n",
              "  <svg xmlns=\"http://www.w3.org/2000/svg\" height=\"24px\"viewBox=\"0 0 24 24\"\n",
              "       width=\"24px\">\n",
              "    <path d=\"M0 0h24v24H0V0z\" fill=\"none\"/>\n",
              "    <path d=\"M18.56 5.44l.94 2.06.94-2.06 2.06-.94-2.06-.94-.94-2.06-.94 2.06-2.06.94zm-11 1L8.5 8.5l.94-2.06 2.06-.94-2.06-.94L8.5 2.5l-.94 2.06-2.06.94zm10 10l.94 2.06.94-2.06 2.06-.94-2.06-.94-.94-2.06-.94 2.06-2.06.94z\"/><path d=\"M17.41 7.96l-1.37-1.37c-.4-.4-.92-.59-1.43-.59-.52 0-1.04.2-1.43.59L10.3 9.45l-7.72 7.72c-.78.78-.78 2.05 0 2.83L4 21.41c.39.39.9.59 1.41.59.51 0 1.02-.2 1.41-.59l7.78-7.78 2.81-2.81c.8-.78.8-2.07 0-2.86zM5.41 20L4 18.59l7.72-7.72 1.47 1.35L5.41 20z\"/>\n",
              "  </svg>\n",
              "      </button>\n",
              "      \n",
              "  <style>\n",
              "    .colab-df-container {\n",
              "      display:flex;\n",
              "      flex-wrap:wrap;\n",
              "      gap: 12px;\n",
              "    }\n",
              "\n",
              "    .colab-df-convert {\n",
              "      background-color: #E8F0FE;\n",
              "      border: none;\n",
              "      border-radius: 50%;\n",
              "      cursor: pointer;\n",
              "      display: none;\n",
              "      fill: #1967D2;\n",
              "      height: 32px;\n",
              "      padding: 0 0 0 0;\n",
              "      width: 32px;\n",
              "    }\n",
              "\n",
              "    .colab-df-convert:hover {\n",
              "      background-color: #E2EBFA;\n",
              "      box-shadow: 0px 1px 2px rgba(60, 64, 67, 0.3), 0px 1px 3px 1px rgba(60, 64, 67, 0.15);\n",
              "      fill: #174EA6;\n",
              "    }\n",
              "\n",
              "    [theme=dark] .colab-df-convert {\n",
              "      background-color: #3B4455;\n",
              "      fill: #D2E3FC;\n",
              "    }\n",
              "\n",
              "    [theme=dark] .colab-df-convert:hover {\n",
              "      background-color: #434B5C;\n",
              "      box-shadow: 0px 1px 3px 1px rgba(0, 0, 0, 0.15);\n",
              "      filter: drop-shadow(0px 1px 2px rgba(0, 0, 0, 0.3));\n",
              "      fill: #FFFFFF;\n",
              "    }\n",
              "  </style>\n",
              "\n",
              "      <script>\n",
              "        const buttonEl =\n",
              "          document.querySelector('#df-0f1f08d0-e0c0-4ba7-8f6d-ccd7d3bd230a button.colab-df-convert');\n",
              "        buttonEl.style.display =\n",
              "          google.colab.kernel.accessAllowed ? 'block' : 'none';\n",
              "\n",
              "        async function convertToInteractive(key) {\n",
              "          const element = document.querySelector('#df-0f1f08d0-e0c0-4ba7-8f6d-ccd7d3bd230a');\n",
              "          const dataTable =\n",
              "            await google.colab.kernel.invokeFunction('convertToInteractive',\n",
              "                                                     [key], {});\n",
              "          if (!dataTable) return;\n",
              "\n",
              "          const docLinkHtml = 'Like what you see? Visit the ' +\n",
              "            '<a target=\"_blank\" href=https://colab.research.google.com/notebooks/data_table.ipynb>data table notebook</a>'\n",
              "            + ' to learn more about interactive tables.';\n",
              "          element.innerHTML = '';\n",
              "          dataTable['output_type'] = 'display_data';\n",
              "          await google.colab.output.renderOutput(dataTable, element);\n",
              "          const docLink = document.createElement('div');\n",
              "          docLink.innerHTML = docLinkHtml;\n",
              "          element.appendChild(docLink);\n",
              "        }\n",
              "      </script>\n",
              "    </div>\n",
              "  </div>\n",
              "  "
            ]
          },
          "metadata": {},
          "execution_count": 6
        }
      ]
    },
    {
      "cell_type": "code",
      "source": [
        "# Cleaning the data\n",
        "for i in df.columns:\n",
        "    df[i].replace('[]', np.nan, inplace=True)\n",
        "\n",
        "for i in df.columns:\n",
        "    df.dropna(subset=[i], inplace=True)\n",
        "\n",
        "df = df.reset_index(drop=True)"
      ],
      "metadata": {
        "id": "dqpdtI7Jg47p"
      },
      "execution_count": null,
      "outputs": []
    },
    {
      "cell_type": "code",
      "source": [
        "# Categorizing the date base on its type of meat such as chicken, meat and fish\n",
        "df['chicken'] = [1 if 'chicken' in s.lower() else 0 for s in df['ingredients']]\n",
        "\n",
        "df['meat'] = [1 if ('beef' or 'meat' or 'pork' or 'bacon') in s.lower() else 0 for s in df['ingredients']]\n",
        "                            \n",
        "df['fish'] = [1 if ('fish' or 'salmon' or 'sea bass') in s.lower() else 0 for s in df['ingredients']]"
      ],
      "metadata": {
        "id": "hyrLA4p-g4tS"
      },
      "execution_count": null,
      "outputs": []
    },
    {
      "cell_type": "code",
      "source": [
        "print(len(df.chicken))\n",
        "print(len(df.meat))\n",
        "print(len(df.fish))"
      ],
      "metadata": {
        "colab": {
          "base_uri": "https://localhost:8080/"
        },
        "id": "ikWSRTRAhC_e",
        "outputId": "1d88cae8-6399-4d14-98f4-a3046f51e552"
      },
      "execution_count": null,
      "outputs": [
        {
          "output_type": "stream",
          "name": "stdout",
          "text": [
            "56312\n",
            "56312\n",
            "56312\n"
          ]
        }
      ]
    },
    {
      "cell_type": "code",
      "source": [
        "import re\n",
        "from string import punctuation\n",
        "# I wanted to keep ',' and '.' in the text so that the generated text/recipe seems real, accurate and easy to read.\n",
        "# The only punctuations the text have dot and comma.\n",
        "my_punctuation = punctuation.replace(\".\",\"\")\n",
        "my_punctuation = my_punctuation.replace(\",\",\"\")\n",
        "\n",
        "\n",
        "c = [df['cooking_method'][i].lower() for i in range(len(df)) if (df['chicken'][i] == 1)]\n",
        "c = ''.join(c)\n",
        "chicken = c.translate(str.maketrans(\"\", \"\", my_punctuation))\n",
        "\n",
        "m = [df['cooking_method'][i].lower() for i in range(len(df)) if (df['meat'][i] == 1)]\n",
        "m = ''.join(m)\n",
        "meat = m.translate(str.maketrans(\"\", \"\", my_punctuation))\n",
        "\n",
        "f = [df['cooking_method'][i].lower() for i in range(len(df)) if (df['fish'][i] == 1)]\n",
        "f = ''.join(f)\n",
        "fish = f.translate(str.maketrans(\"\", \"\", my_punctuation))\n",
        "\n",
        "ingredients = [df['ingredients'][i].lower() for i in range(len(df))]\n",
        "ingredients = ''.join(f)\n",
        "ingredients = f.translate(str.maketrans(\"\", \"\", punctuation))\n",
        "\n"
      ],
      "metadata": {
        "id": "bwkfvXUrhC7W"
      },
      "execution_count": null,
      "outputs": []
    },
    {
      "cell_type": "code",
      "source": [
        "# I limited the number of characters in the text files\n",
        "fish = fish[:500000]\n",
        "chicken = chicken[:500000]\n",
        "meat = meat[:500000]\n",
        "ingredients = ingredients[:10000]"
      ],
      "metadata": {
        "id": "l986zTFshC4n"
      },
      "execution_count": null,
      "outputs": []
    },
    {
      "cell_type": "code",
      "source": [
        "print(len(fish))\n",
        "print(len(meat))\n",
        "print(len(fish))\n",
        "print(len(ingredients))"
      ],
      "metadata": {
        "colab": {
          "base_uri": "https://localhost:8080/"
        },
        "id": "5_VKeOWphf9V",
        "outputId": "b908ffa6-d9d2-4131-d012-3ea589c4aab7"
      },
      "execution_count": null,
      "outputs": [
        {
          "output_type": "stream",
          "name": "stdout",
          "text": [
            "500000\n",
            "500000\n",
            "500000\n",
            "10000\n"
          ]
        }
      ]
    },
    {
      "cell_type": "code",
      "source": [
        "file_f = open(\"fish.txt\",\"w\")#write mode\n",
        "file_f.write(fish)\n",
        "file_f.close()\n",
        "\n",
        "file_m = open(\"meat.txt\",\"w\")#write mode\n",
        "file_m.write(meat)\n",
        "file_m.close()\n",
        "\n",
        "file_c = open(\"chicken.txt\",\"w\")#write mode\n",
        "file_c.write(chicken)\n",
        "file_c.close()\n",
        "\n",
        "file_i = open(\"ingredients.txt\",\"w\")#write mode\n",
        "file_i.write(ingredients)\n",
        "file_i.close()"
      ],
      "metadata": {
        "id": "8t0Nmw6mhmfr"
      },
      "execution_count": null,
      "outputs": []
    },
    {
      "cell_type": "markdown",
      "source": [
        "# Reading the data"
      ],
      "metadata": {
        "id": "7ziS5I1Ltmbl"
      }
    },
    {
      "cell_type": "code",
      "source": [
        "TEXT_chicken = open('chicken.txt', 'rb').read().decode(encoding='utf-8')\n",
        "TEXT_meat = open('meat.txt', 'rb').read().decode(encoding='utf-8')\n",
        "TEXT_fish = open('fish.txt', 'rb').read().decode(encoding='utf-8')\n",
        "TEXT_ingredients = open('ingredients.txt', 'rb').read().decode(encoding='utf-8')\n",
        "# checking the number of characters in it\n",
        "print(len(TEXT_chicken))\n",
        "print(len(TEXT_meat))\n",
        "print(len(TEXT_fish))\n",
        "print(len(TEXT_ingredients))"
      ],
      "metadata": {
        "colab": {
          "base_uri": "https://localhost:8080/"
        },
        "id": "i0FZptBS17Zw",
        "outputId": "836214ff-87ee-4c1b-9402-60090dc37e4b"
      },
      "execution_count": null,
      "outputs": [
        {
          "output_type": "stream",
          "name": "stdout",
          "text": [
            "500000\n",
            "500000\n",
            "500000\n",
            "10000\n"
          ]
        }
      ]
    },
    {
      "cell_type": "markdown",
      "source": [
        "# Common functions that recipe generation model uses"
      ],
      "metadata": {
        "id": "iVipFU7A218o"
      }
    },
    {
      "cell_type": "code",
      "source": [
        "\n",
        "def split_input_target(chunk):\n",
        "    input_TEXT = chunk[:-1]\n",
        "    target_TEXT = chunk[1:]\n",
        "    return input_TEXT, target_TEXT\n",
        "\n",
        "def loss(y_true,y_pred):\n",
        "  return sparse_categorical_crossentropy(y_true, y_pred, from_logits=True)\n",
        "\n",
        "def build_model(vocab_size, embedding_dim, rnn_units, batch_size):\n",
        "    model = Sequential()\n",
        "    model.add(Embedding(vocab_size, embedding_dim,batch_input_shape=[batch_size, None]))\n",
        "    model.add(LSTM(rnn_units,return_sequences=True,stateful=True,recurrent_initializer='glorot_uniform'))\n",
        "    model.add(Dropout(0.2))\n",
        "    model.add(LSTM(rnn_units,return_sequences=True,stateful=True,recurrent_initializer='glorot_uniform'))\n",
        "    model.add(Dropout(0.2))\n",
        "    \n",
        "    # Final Dense Layer to Predict\n",
        "    model.add(Dense(vocab_size))\n",
        "    model.compile(optimizer='adam', loss=loss) \n",
        "    # print(model.summary())\n",
        "    return model\n",
        "\n",
        "def generate_text(model, start_string,t):\n",
        "    \n",
        "    # Number of characters to generate\n",
        "    num_generate = 1000\n",
        "    # vectorizing - Converting our start string to numbers \n",
        "    input_eval = [char2idx[s] for s in start_string]\n",
        "    input_eval = tf.expand_dims(input_eval, 0)\n",
        "    # Empty string to store our results\n",
        "    text_generated = []\n",
        "    # Low temperature results in more predictable text.\n",
        "    # Higher temperature results in more surprising text.\n",
        "    # Experiment to find the best setting.\n",
        "    temperature = t\n",
        "    # Here batch size == 1\n",
        "    model.reset_states()\n",
        "    for i in range(num_generate):\n",
        "        predictions = model(input_eval)\n",
        "        # remove the batch dimension\n",
        "        predictions = tf.squeeze(predictions, 0)\n",
        "        # using a categorical distribution to predict the character returned by the model\n",
        "        predictions = predictions / temperature\n",
        "        predicted_id = tf.random.categorical(predictions, num_samples=1)[-1,0].numpy()\n",
        "        # Pass the predicted character as the next input to the model\n",
        "        # along with the previous hidden state\n",
        "        input_eval = tf.expand_dims([predicted_id], 0)\n",
        "        text_generated.append(idx2char[predicted_id])\n",
        "    return (start_string + ''.join(text_generated))\n",
        "\n",
        "\n",
        "# Tring to find items in the recipes; however, it was not that successfull due to the\n",
        "# the ingredients in the data was long terms instead of one words. Therefore, I could not\n",
        "# compare the items in the generated recipe with the items in the ingrediens text file.\n",
        "# for instance, in the ingredients data there was '1 spoon of olive oil' instead of just 'olive oil'\n",
        "# so that i could not extract the items in generated recipe properly.\n",
        "def word_extraction(text):\n",
        "  ignore = [\"a\", \"the\", \"is\", \"to\", \"until\",\"about\",\"with\",\"and\",\"as\",\"add\",\"on\",\"in\",\"at\",\"of\",\"over\",\"around\",\"knife\",\"sharp\",\"pairing\",\"once\",\"comes\",\"for\",\"minutes\",\"hours\"]\n",
        "  words = re.sub(\"[^\\w]\", \" \",  text).split()\n",
        "  cleaned_text = [w.lower() for w in words if w not in ignore]\n",
        "  output_ingredients = [\"\".join(a) for a in cleaned_text if a in TEXT_ingredients]\n",
        "  return output_ingredients\n",
        "\n",
        "\n",
        "BATCH_SIZE = 64\n",
        "\n",
        "# Buffer size to shuffle the dataset\n",
        "# (TF data is designed to work with possibly infinite sequences,\n",
        "# so it doesn't attempt to shuffle the entire sequence in memory. Instead,\n",
        "# it maintains a buffer in which it shuffles elements).\n",
        "BUFFER_SIZE = 10000\n",
        "# The embedding dimension\n",
        "embedding_dim = 256\n",
        "# Number of RNN units\n",
        "rnn_units = 1024\n",
        "EPOCHS = 70\n",
        "\n",
        "# Directory where the checkpoints will be saved\n",
        "checkpoint_dir = './training_checkpoints'\n",
        "# Name of the checkpoint files\n",
        "checkpoint_prefix = os.path.join(checkpoint_dir, \"ckpt_{epoch}\")\n",
        "checkpoint_callback = tf.keras.callbacks.ModelCheckpoint(\n",
        "    filepath=checkpoint_prefix,\n",
        "    save_weights_only=True)\n",
        "\n"
      ],
      "metadata": {
        "id": "vU8rKayN22b8"
      },
      "execution_count": null,
      "outputs": []
    },
    {
      "cell_type": "markdown",
      "source": [
        "# Generating Fish Food Recipe"
      ],
      "metadata": {
        "id": "dYfkXqKn2rvd"
      }
    },
    {
      "cell_type": "code",
      "source": [
        "# The unique characters in the file\n",
        "vocab = sorted(set(TEXT_fish))\n",
        "\n",
        "# Creating a mapping from unique characters to indices\n",
        "char2idx = {u:i for i, u in enumerate(vocab)}\n",
        "idx2char = np.array(vocab)\n",
        "TEXT_as_int = np.array([char2idx[c] for c in TEXT_fish])\n",
        "seq_length = 100\n",
        "\n",
        "# Create training examples / targets\n",
        "char_dataset = tf.data.Dataset.from_tensor_slices(TEXT_as_int)\n",
        "sequences = char_dataset.batch(seq_length+1, drop_remainder=True)\n",
        "dataset = sequences.map(split_input_target)\n",
        "dataset = dataset.shuffle(BUFFER_SIZE).batch(BATCH_SIZE, drop_remainder=True)\n",
        "\n",
        "# Length of the vocabulary in chars\n",
        "vocab_size = len(vocab)\n",
        "model = build_model(vocab_size=len(vocab), embedding_dim=embedding_dim, rnn_units=rnn_units, batch_size=BATCH_SIZE)\n",
        "\n",
        "\n",
        "\n",
        "# history = model.fit(dataset, epochs=EPOCHS, callbacks=[checkpoint_callback])\n",
        "# model.save(\"fish_model.h5\")\n",
        "\n",
        "model = build_model(vocab_size, embedding_dim, rnn_units, batch_size=1)\n",
        "model.load_weights(\"fish_model.h5\")\n",
        "# model.load_weights(tf.train.latest_checkpoint(checkpoint_dir))\n",
        "model.build(tf.TensorShape([1, None]))\n",
        "fish_recipe = generate_text(model, start_string=u\"fish and \",t=0.1)\n",
        "# fish_recipe"
      ],
      "metadata": {
        "id": "LIUV-FOM2y8E"
      },
      "execution_count": null,
      "outputs": []
    },
    {
      "cell_type": "code",
      "source": [
        "fish_recipe"
      ],
      "metadata": {
        "colab": {
          "base_uri": "https://localhost:8080/",
          "height": 209
        },
        "id": "xcM0heOYPvQ5",
        "outputId": "9f30f052-b213-4fb7-8a0e-e38c09fc717f"
      },
      "execution_count": null,
      "outputs": [
        {
          "output_type": "execute_result",
          "data": {
            "text/plain": [
              "'fish and remove half of the satay for serving. add about 1 cup of the broth to the remaining satay in the skillet and bring to a simmer. cook 5 to 8 minutes, or until the fish is cooked through.in a bowl, mix the marinade ingredients except the chicken. slice the chicken into long, thin strips, about 3 inches long by 1 inch wide, and add to marinade. turn chicken to coat, cover and refrigerate at least 4 hours or longer., meanwhile, make the dressing whisk the lime juice, oil, salt and pepper in a food processor fitted with a metal blade. pulse to combine well. using a rubber spatula, heap the mixture onto a bowl and set aside., for the seasoned flour whisk together the allpurpose flour and cook, stirring often, until all the vegetables are softened, but not cooked through. add the cooked rice, soy sauce, fish sauce, thai basil, mint leaves, and cilantro and toss until thoroughly coated., for the blackened catfish tacos heat a saute pan on medium heat, stirring occasionally, until the onions ar'"
            ],
            "application/vnd.google.colaboratory.intrinsic+json": {
              "type": "string"
            }
          },
          "metadata": {},
          "execution_count": 17
        }
      ]
    },
    {
      "cell_type": "code",
      "source": [
        "file_ff = open(\"generated_fish_recipe.txt\",\"w\")#write mode\n",
        "file_ff.write(fish_recipe)\n",
        "file_ff.close()"
      ],
      "metadata": {
        "id": "Kd6lEzPXgrwb"
      },
      "execution_count": null,
      "outputs": []
    },
    {
      "cell_type": "code",
      "source": [
        "# To generate something new please remove the #s below\n",
        "# the beginning of the recipe look like each other sometimes\n",
        "# however the rest of it would definitely change.\n",
        "# ___________________________\n",
        "\n",
        "# text_file_f = generate_text(model, start_string=u\"fish and \",t=0.1)\n",
        "# text_file_f"
      ],
      "metadata": {
        "id": "G9xiqtFhQ7Fx",
        "colab": {
          "base_uri": "https://localhost:8080/",
          "height": 209
        },
        "outputId": "94b87ec9-74c6-4204-938e-ef7aa5302507"
      },
      "execution_count": null,
      "outputs": [
        {
          "output_type": "execute_result",
          "data": {
            "text/plain": [
              "'fish and bake it in a preheated 375 degree f oven, covered with foil, until the fish just flakes about 15 minutes., with a slotted spoon, transfer meat to a platter. reduce heat to medium low and cook shallots until well browned, about 15 minutes. add garlic and ginger stir fry 30 seconds to 1 minute per side. transfer to a medium bowl and cover with hot water let sit an additional 2 minutes., place a spoonful of green papaya slaw on the side and arrange two sausages on top. garnish the plate with a few drops of harissa sauce and a sprinkle of peanuts, and serve hot., in a small pot, combine the sugar, garlic, lime juice, and fish sauce and simmer until the clams and mussels have opened., for the rouille broil the tomato and bell pepper, turning to blacken and stir until it starts thickening to almost a light syrup consistency. once it has thickened add crab base and make sure it is incorporated well. then add 23 cup heavy whipping cream stir over medium heat until it is reduced by 12. at that '"
            ],
            "application/vnd.google.colaboratory.intrinsic+json": {
              "type": "string"
            }
          },
          "metadata": {},
          "execution_count": 19
        }
      ]
    },
    {
      "cell_type": "markdown",
      "source": [
        "# Generating Meat Food Recipe"
      ],
      "metadata": {
        "id": "EFOwO9LY4jmv"
      }
    },
    {
      "cell_type": "code",
      "source": [
        "# The unique characters in the file\n",
        "vocab = sorted(set(TEXT_meat))\n",
        "\n",
        "# Creating a mapping from unique characters to indices\n",
        "char2idx = {u:i for i, u in enumerate(vocab)}\n",
        "idx2char = np.array(vocab)\n",
        "TEXT_as_int = np.array([char2idx[c] for c in TEXT_meat])\n",
        "seq_length = 100\n",
        "\n",
        "# Create training examples / targets\n",
        "char_dataset = tf.data.Dataset.from_tensor_slices(TEXT_as_int)\n",
        "sequences = char_dataset.batch(seq_length+1, drop_remainder=True)\n",
        "dataset = sequences.map(split_input_target)\n",
        "dataset = dataset.shuffle(BUFFER_SIZE).batch(BATCH_SIZE, drop_remainder=True)\n",
        "\n",
        "# Length of the vocabulary in chars\n",
        "vocab_size = len(vocab)\n",
        "\n",
        "model = build_model(vocab_size=len(vocab), embedding_dim=embedding_dim, rnn_units=rnn_units, batch_size=BATCH_SIZE)\n",
        "    \n",
        "\n",
        "# history = model.fit(dataset, epochs=EPOCHS, callbacks=[checkpoint_callback])\n",
        "# model.save(\"meat_model.h5\")\n",
        "model = build_model(vocab_size, embedding_dim, rnn_units, batch_size=1)\n",
        "model.load_weights(\"meat_model.h5\")\n",
        "# model.load_weights(tf.train.latest_checkpoint(checkpoint_dir))\n",
        "model.build(tf.TensorShape([1, None]))\n",
        "meat_recipe = generate_text(model, start_string=u\"meat and \",t=0.1)\n",
        "# meat_recipe"
      ],
      "metadata": {
        "id": "Hzu2Y9sD4iDB"
      },
      "execution_count": null,
      "outputs": []
    },
    {
      "cell_type": "code",
      "source": [
        "meat_recipe"
      ],
      "metadata": {
        "colab": {
          "base_uri": "https://localhost:8080/",
          "height": 209
        },
        "id": "vgIiR8JxT71w",
        "outputId": "a3ca0d36-ec68-43ba-9817-669295c69533"
      },
      "execution_count": null,
      "outputs": [
        {
          "output_type": "execute_result",
          "data": {
            "text/plain": [
              "'meat and add the remaining teaspoon of cumin., heat the taco shells according to the directions, then assemble placing 14 cup beef in each shell, topped with lettuce, 1 tablespoon cheese and tomato., instead of foil with the meat and salt, cook breaking the meat up into small pieces as it cooks. when browned, add the onion, celery and carrots and saute 3 to 4 minutes., transfer the meat and vegetables to a 2quart oval casserole dish and spread the mashed potatoes over the top, leaving a 14inch boarder around the edge. make a decorative pattern on the top of the potatoes, if desired. sprinkle with cheese, if using, and dot with the remaining tablespoon of butter. bake until the crust is golden and crisp., remove from oven and drain on a cutting board. serve with ketchup and mustard for dipping.instant pot, assuming your eles f. combine the mustard, vinegar, and salt in a small bowl. spread the mixture on the filet and brush it around the beef reads 130f. cover the pan and refrigerate for 1 hour.'"
            ],
            "application/vnd.google.colaboratory.intrinsic+json": {
              "type": "string"
            }
          },
          "metadata": {},
          "execution_count": 21
        }
      ]
    },
    {
      "cell_type": "code",
      "source": [
        "file_mm = open(\"generated_meat_recipe.txt\",\"w\")#write mode\n",
        "file_mm.write(meat_recipe)\n",
        "file_mm.close()"
      ],
      "metadata": {
        "id": "iugN2ge7g45d"
      },
      "execution_count": null,
      "outputs": []
    },
    {
      "cell_type": "code",
      "source": [
        "# To generate something new please remove the #s below\n",
        "# the beginning of the recipe look like each other sometimes\n",
        "# however the rest of it would definitely change.\n",
        "# ___________________________\n",
        "\n",
        "# text_file_m = generate_text(model, start_string=u\"meat and \",t=0.1)\n",
        "# text_file_m"
      ],
      "metadata": {
        "id": "EH0fmtsUQ03t",
        "colab": {
          "base_uri": "https://localhost:8080/",
          "height": 209
        },
        "outputId": "c68a8c19-c034-49da-e0cc-317e1b2e215e"
      },
      "execution_count": null,
      "outputs": [
        {
          "output_type": "execute_result",
          "data": {
            "text/plain": [
              "'meat and add the olive oil. season the beef tenderloin with salt, and pepper, and sear on all sides until a nice crust is formed, 1 to 2 minutes per side. add the thyme, garlic, buttermilk or yogurt, mustard, bread crumbs, salt and pepper in a food processor fitted with a metal blade, pulse the egg yolks on low. with the machine remaining ingredients. 4.divide empanadas among baking sheets, leaving 112 space between each empanadas with remaining egg wash. cook until pastries puff, turn golden brown and the gratin in bubbling., in a bowl, stir together the water, some oil and 1 tablespoon of the salt in a small bowl. spread the mixture on the filet and brush it around the beef reads 130f. cover the pan and refrigerate for 1 hour. 2.reheat the oven to 425f. beat the tortillas in the microwave for 1 minute. for medium rare 145°f to medium 160°f doneness, turning occasionally. 3season steak with salt and pepper, as desired. carve steaks into thin strips. top tortillas evenly with steak, queso fresc'"
            ],
            "application/vnd.google.colaboratory.intrinsic+json": {
              "type": "string"
            }
          },
          "metadata": {},
          "execution_count": 23
        }
      ]
    },
    {
      "cell_type": "markdown",
      "source": [
        "#Generatin Chicken Food Recipe"
      ],
      "metadata": {
        "id": "m_U5GhEph3Y1"
      }
    },
    {
      "cell_type": "code",
      "source": [
        "# The unique characters in the file\n",
        "vocab = sorted(set(TEXT_chicken))\n",
        "\n",
        "# Creating a mapping from unique characters to indices\n",
        "char2idx = {u:i for i, u in enumerate(vocab)}\n",
        "idx2char = np.array(vocab)\n",
        "TEXT_as_int = np.array([char2idx[c] for c in TEXT_chicken])\n",
        "seq_length = 100\n",
        "\n",
        "# Create training examples / targets\n",
        "char_dataset = tf.data.Dataset.from_tensor_slices(TEXT_as_int)\n",
        "sequences = char_dataset.batch(seq_length+1, drop_remainder=True)\n",
        "dataset = sequences.map(split_input_target)\n",
        "dataset = dataset.shuffle(BUFFER_SIZE).batch(BATCH_SIZE, drop_remainder=True)\n",
        "\n",
        "# Length of the vocabulary in chars\n",
        "vocab_size = len(vocab)\n",
        "\n",
        "model = build_model(vocab_size=len(vocab), embedding_dim=embedding_dim, rnn_units=rnn_units, batch_size=BATCH_SIZE)\n",
        "\n",
        "# history = model.fit(dataset, epochs=EPOCHS, callbacks=[checkpoint_callback])\n",
        "# model.save(\"chicken_model.h5\")\n",
        "model = build_model(vocab_size, embedding_dim, rnn_units, batch_size=1)\n",
        "model.load_weights(\"chicken_model.h5\")\n",
        "# model.load_weights(tf.train.latest_checkpoint(checkpoint_dir))\n",
        "model.build(tf.TensorShape([1, None]))\n",
        "chicken_recipe = generate_text(model, start_string=u\"chicken and \",t=0.1)\n",
        "\n",
        "# chicken_recipe"
      ],
      "metadata": {
        "id": "dXxU_6aA3q4m"
      },
      "execution_count": null,
      "outputs": []
    },
    {
      "cell_type": "code",
      "source": [
        "chicken_recipe"
      ],
      "metadata": {
        "colab": {
          "base_uri": "https://localhost:8080/",
          "height": 209
        },
        "id": "b1BElSB7AV2_",
        "outputId": "f17fded5-0e46-4be8-d912-940060c2ae3b"
      },
      "execution_count": null,
      "outputs": [
        {
          "output_type": "execute_result",
          "data": {
            "text/plain": [
              "'chicken and bring to a boil, then partially cover, simmer on low 30 minutes., meanwhile, cook cavatella in a small bowl and lay out the plantains with the other tortilla., cheese should be melted and the bottom of the tortillas on a microwave safe dish and microwave 40 to 50 seconds to make them pliable so they dont crack. keep them covered for 710 minutes. set aside until ready to use. makes 4 cups.preheat oven to 375 degrees., in a large skillet, melt butter over mediumlow heat and add chicken. cook on both sides, until golden brown and the cheese is melted and gooey in the center, 3 to 5 minutes per side. transfer to paper towels to drain let cool slightly, then top the enchiladas with sour cream, jalapenos, red chile pepper, cilantro and jalapeno slices if desired. serve over lettuce leaves.preheat the oven to 450 degrees f. set a wire rack on a rimmed baking sheet. when the oil is hot, add the onions, bell peppers, and remaining 12 tsp cumin, 12 tsp paprika, 14 tsp chili powder, 1 tablespoon '"
            ],
            "application/vnd.google.colaboratory.intrinsic+json": {
              "type": "string"
            }
          },
          "metadata": {},
          "execution_count": 25
        }
      ]
    },
    {
      "cell_type": "code",
      "source": [
        "file_cc = open(\"generated_chicken_recipe.txt\",\"w\")#write mode\n",
        "file_cc.write(chicken_recipe)\n",
        "file_cc.close()"
      ],
      "metadata": {
        "id": "XnZyBbt3hLLM"
      },
      "execution_count": null,
      "outputs": []
    },
    {
      "cell_type": "code",
      "source": [
        "# To generate something new please remove the #s below\n",
        "# the beginning of the recipe look like each other sometimes\n",
        "# however the rest of it would definitely change.\n",
        "# ___________________________\n",
        "\n",
        "# text_file_c = generate_text(model, start_string=u\"chicken and \",t=0.1)\n",
        "# text_file_c"
      ],
      "metadata": {
        "id": "Wf4vXH7nATye",
        "colab": {
          "base_uri": "https://localhost:8080/",
          "height": 209
        },
        "outputId": "bcfee574-55fa-443d-a99c-a7deba5099b0"
      },
      "execution_count": null,
      "outputs": [
        {
          "output_type": "execute_result",
          "data": {
            "text/plain": [
              "'chicken and bring to a boil, then partially cover, simmer on low 30 minutes., meanwhile, cook cavatella in a small bowl and lower the sauce over the meat.preheat the oven to 400f., finely chop half of the cremini mushrooms and transfer to a plate., add the oil to the skillet, brussels sprouts, shallots and saute until they are starting to caramelize, about 5 to 6 minutes. deglaze with 12 cup water, bay leaves and 18 teaspoon black pepper., cover and cook high pressure 15 minutes, natural release., remove bay leaf, adjust salt and pepper and enjoy,  saute about 2 to 3 minutes until soft then add the tomatoes and saute another minute, until soft., add zucchini and season with salt and pepper. cook about 15 minutes, or until the zucchini is soft and cooked through., air fryer method, follow steps 15., preheat the air fryer once again to 400f. spray both sides of the chicken with oil. cook, in two batches 12 minutes turning halfway.season the pork with salt, garlic powder and fresh cracked pepper to t'"
            ],
            "application/vnd.google.colaboratory.intrinsic+json": {
              "type": "string"
            }
          },
          "metadata": {},
          "execution_count": 27
        }
      ]
    },
    {
      "cell_type": "markdown",
      "source": [
        "# Code for finding Inredients in the generated recipe"
      ],
      "metadata": {
        "id": "VCqrHc25553i"
      }
    },
    {
      "cell_type": "code",
      "source": [
        "meat_recipe[:50]"
      ],
      "metadata": {
        "colab": {
          "base_uri": "https://localhost:8080/",
          "height": 209
        },
        "id": "ebpo7youT8LV",
        "outputId": "b3964664-eedd-44d6-efc9-082795e5b0fa"
      },
      "execution_count": null,
      "outputs": [
        {
          "output_type": "execute_result",
          "data": {
            "text/plain": [
              "'meat and add the remaining teaspoon of cumin., heat the taco shells according to the directions, then assemble placing 14 cup beef in each shell, topped with lettuce, 1 tablespoon cheese and tomato., instead of foil with the meat and salt, cook breaking the meat up into small pieces as it cooks. when browned, add the onion, celery and carrots and saute 3 to 4 minutes., transfer the meat and vegetables to a 2quart oval casserole dish and spread the mashed potatoes over the top, leaving a 14inch boarder around the edge. make a decorative pattern on the top of the potatoes, if desired. sprinkle with cheese, if using, and dot with the remaining tablespoon of butter. bake until the crust is golden and crisp., remove from oven and drain on a cutting board. serve with ketchup and mustard for dipping.instant pot, assuming your eles f. combine the mustard, vinegar, and salt in a small bowl. spread the mixture on the filet and brush it around the beef reads 130f. cover the pan and refrigerate for 1 hour.'"
            ],
            "application/vnd.google.colaboratory.intrinsic+json": {
              "type": "string"
            }
          },
          "metadata": {},
          "execution_count": 28
        }
      ]
    },
    {
      "cell_type": "code",
      "source": [
        "# Tring to find items in the recipes; however, it was not that successfull due to the\n",
        "# the ingredients in the raw data was long terms instead of one words. Therefore, I could not\n",
        "# compare the items in the generated recipe with the items in the ingrediens text file(raw data)\n",
        "# for instance, in the ingredients data there was '1 spoon of olive oil' instead of just 'olive oil'\n",
        "# so that i could not extract the items in generated recipe properly.\n",
        "\n",
        "# word_extraction function is defined in the Common functions above\n",
        "ingredients_m = word_extraction(meat_recipe)\n",
        "ingredients_c = word_extraction(chicken_recipe)\n",
        "ingredients_f = word_extraction(fish_recipe)\n",
        "# ## ingredients of new meat recipe\n",
        "print(ingredients_m)"
      ],
      "metadata": {
        "id": "TuGs_eTl5LgZ",
        "colab": {
          "base_uri": "https://localhost:8080/"
        },
        "outputId": "5f3e0831-8154-46ca-d3d2-3b9a9e397150"
      },
      "execution_count": null,
      "outputs": [
        {
          "output_type": "stream",
          "name": "stdout",
          "text": [
            "['meat', 'remaining', 'teaspoon', 'heat', 'according', 'directions', 'then', '14', 'cup', 'beef', 'each', 'topped', 'lettuce', '1', 'tablespoon', 'cheese', 'tomato', 'instead', 'meat', 'salt', 'cook', 'breaking', 'meat', 'up', 'into', 'small', 'pieces', 'it', 'when', 'browned', 'onion', 'saute', '3', '4', 'transfer', 'meat', 'vegetables', 'top', 'edge', 'make', 'top', 'if', 'desired', 'sprinkle', 'cheese', 'if', 'using', 'dot', 'remaining', 'tablespoon', 'butter', 'bake', 'golden', 'remove', 'from', 'oven', 'serve', 'dipping', 'pot', 'your', 'f', 'combine', 'vinegar', 'salt', 'small', 'bowl', 'mixture', 'it', 'beef', 'cover', 'pan', 'refrigerate', '1', 'hour']\n"
          ]
        }
      ]
    },
    {
      "cell_type": "markdown",
      "source": [
        "# Text to Image Generator using Big Sleep"
      ],
      "metadata": {
        "id": "0qAzpV6h6sT1"
      }
    },
    {
      "cell_type": "markdown",
      "source": [
        "**generated images will appear in the folder where it will be saved on the left, in order to see them please check there**"
      ],
      "metadata": {
        "id": "Md7_1ai0yhI5"
      }
    },
    {
      "cell_type": "code",
      "source": [
        "text_to_img_fish = fish_recipe[:210]\n",
        "text_to_img_meat = meat_recipe[:210]\n",
        "text_to_img_chicken = chicken_recipe[:210]\n",
        "mix = [text_to_img_fish, text_to_img_meat, text_to_img_chicken]\n",
        "for T in range(3):\n",
        "  TEXT = mix[T]\n",
        "  SAVE_EVERY = 100 \n",
        "  SAVE_PROGRESS = True \n",
        "  LEARNING_RATE = 5e-2 \n",
        "  ITERATIONS = 1050 \n",
        "  SEED = 0 \n",
        "  model = Imagine(\n",
        "      text = TEXT,\n",
        "      save_every = SAVE_EVERY,\n",
        "      lr = LEARNING_RATE,\n",
        "      iterations = ITERATIONS,\n",
        "      save_progress = SAVE_PROGRESS,\n",
        "      seed = SEED\n",
        "  )\n",
        "  for epoch in trange(1, desc = 'epochs'): # number of epochs\n",
        "      for i in trange(300, desc = 'iteration'): # you can decrease 'the iteration' to achieve faster results\n",
        "          model.train_step(epoch, i)\n",
        "\n",
        "          if i == 0 or i % model.save_every != 0:\n",
        "              continue\n",
        "          filename = TEXT.replace(' ', '_')\n",
        "          image = Image(f'./{filename}.png')\n",
        "          display(image)"
      ],
      "metadata": {
        "colab": {
          "base_uri": "https://localhost:8080/",
          "height": 645,
          "referenced_widgets": [
            "9a9354ca41d04dbf93cab6c3b4b7f285",
            "497348890e91408d8d223be933ec0b01",
            "a130414acb22435cb73d260c9acb6c7a",
            "af5bd4f9d3524c17b7b545c879bf4972",
            "f6bea8d1b46f4703a091505a1869771f",
            "2f84834723a64e638c26f8d955c17145",
            "b0ad847f88c14e58b99fc9f78fec5cd4",
            "490b2f0ff1894b4da10f326f71cd8a7a",
            "1522d73325a44d56b5a339a03b9bc9a0",
            "da9a005d51394c40b212d45d94d77f30",
            "2fa6829176a14097a0c2c1b6db1aedf0",
            "2e64e9e1f8a942cc98b761e040727936",
            "7cdc4dd725fb45f1b26b40263b5ede5c",
            "dc90607d8bc640aaa6980d77d161317f",
            "1027061c5cb245f8ab6c79e6e34bebbb",
            "4ff8449e8c8c4c05b7db5bfd8a80e25f",
            "c1a45aed9b6a4213a9a1f34f868684fd",
            "aace12e470a841da9f0868c930b468da",
            "7d9b9c04e8d84798aaf8e305fb847678",
            "40e4cbcd255c491488c080513a4b58bb",
            "2f01041ea16f485d99bd8867a2b29a1b",
            "0b9305ec42634b5eb5fd9200534af7d0",
            "6c8578044b984b0787bb911e1d137fb7",
            "b027cb2ef24e4e4787bc80817bb8fc21",
            "0b5ef2c4894f426794a1e423c4d3c248",
            "7a1957ba8c8940ea9c472f3927f6d518",
            "df30dadfa19e4379a1318322baf16dad",
            "1a46808fbba343608990af73b07c8807",
            "a3c4ddecae824554b30fa4151942a3e4",
            "283694cd7c05480aaea1502cf95a0a8d",
            "067af5f75dde48f8ab62496c7c62e267",
            "9decc952cf424713a3acde53b89f12e6",
            "6fd139ce68cc44d5a96391f04cda23e6",
            "4945acf474774573b6ffcf09b1e45677",
            "9785fe8c45f84094b613d76fcd704a9d",
            "a292ffe191174f2ba25158c1e1e7aff3",
            "ffa90dc3757d4d04b428718612cb798f",
            "dbeb3033a2d444a4ac5b7532cca540ec",
            "a1a5a897bb8f4f2e9cfd3a1a943e4fd3",
            "7152713bed9d47edbfccd8171258311d",
            "7fc0d42cdff348148cd025a9db43660a",
            "6edab0ebe64941e3a5cbd9eb95192aa4",
            "762d589587af497d8c0904c3770cbfb1",
            "ce73ad2aa24c40eb8c7ba4fa662b424e",
            "a926e153b7614a41a585cd6ca6626a79",
            "85b9ed1c36b4476199cd98a78f7d6ecd",
            "519305cdcbe7470e890c8e62b31fa622",
            "78a96b56b80a402687a7d6a0dcf1baf9",
            "16a5f03b2d754ccf87ed08f0a40f30e7",
            "f48f3ec3478343549f0d4e770999df2f",
            "1a737da76987421180c95600aacb0a47",
            "dbdaf6e09fce4527a6269bf475e54e5f",
            "eda5bb3e3b3f482e80d74dd774906d0c",
            "500e6194a24d4d8b9602efa8fa6c4287",
            "9ae04e78a2cc42529d75309ff45e637b",
            "a5c875d5a3f24e3c806363dfe9c4ac46",
            "cf7c517682dd41eaa237528e3fbdd942",
            "be0c4da9bf7f4d3cb61bb938b197785a",
            "534e842705df4331ac67ceea2bf1664e",
            "7846b85ef7704b5bbade4cdaeef15511",
            "f52b4c3e6e6f4c7ab6630407dd296d67",
            "b546a8e559fe4b898b9f9ff3ba5b0249",
            "eb7abde7e65a42d99b01bc53df4ae6e4",
            "c9c39005f98f4474a0329377b6139fc5",
            "7bbd0cd5014649959c86793426cdad60",
            "91b257598ba746a29fd9d626fdd38263"
          ]
        },
        "id": "wXSLh1evGL5C",
        "outputId": "49b664fb-a9b5-46c2-9f46-33bc7e9a7549"
      },
      "execution_count": null,
      "outputs": [
        {
          "output_type": "stream",
          "name": "stdout",
          "text": [
            "setting seed of 0\n",
            "you can override this with --seed argument in the command line, or --random for a randomly chosen one\n"
          ]
        },
        {
          "output_type": "stream",
          "name": "stderr",
          "text": [
            "100%|████████████████████████████████████████| 354M/354M [00:01<00:00, 250MiB/s]\n",
            "100%|██████████| 235773527/235773527 [00:06<00:00, 37734014.56B/s]\n",
            "100%|██████████| 800/800 [00:00<00:00, 390122.45B/s]\n"
          ]
        },
        {
          "output_type": "display_data",
          "data": {
            "text/plain": [
              "epochs:   0%|          | 0/1 [00:00<?, ?it/s]"
            ],
            "application/vnd.jupyter.widget-view+json": {
              "version_major": 2,
              "version_minor": 0,
              "model_id": "9a9354ca41d04dbf93cab6c3b4b7f285"
            }
          },
          "metadata": {}
        },
        {
          "output_type": "display_data",
          "data": {
            "text/plain": [
              "iteration:   0%|          | 0/300 [00:00<?, ?it/s]"
            ],
            "application/vnd.jupyter.widget-view+json": {
              "version_major": 2,
              "version_minor": 0,
              "model_id": "2e64e9e1f8a942cc98b761e040727936"
            }
          },
          "metadata": {}
        },
        {
          "output_type": "stream",
          "name": "stdout",
          "text": [
            "image updated at \"./fish_and_remove_half_of_the_satay_for_serving._add_about_1_cup_of_the_broth_to_the_remaining_satay_in_the_skillet_and_bring_to_a_simmer._cook_5_to_8_minutes_or_until_the_fish_is_cooked_through.in_a_bowl_mix_t.png\"\n"
          ]
        },
        {
          "output_type": "display_data",
          "data": {
            "text/plain": [
              "<IPython.core.display.Image object>"
            ],
            "image/png": "./fish_and_remove_half_of_the_satay_for_serving._add_about_1_cup_of_the_broth_to_the_remaining_satay_in_the_skillet_and_bring_to_a_simmer._cook_5_to_8_minutes,_or_until_the_fish_is_cooked_through.in_a_bowl,_mix_t.png"
          },
          "metadata": {}
        },
        {
          "output_type": "stream",
          "name": "stdout",
          "text": [
            "image updated at \"./fish_and_remove_half_of_the_satay_for_serving._add_about_1_cup_of_the_broth_to_the_remaining_satay_in_the_skillet_and_bring_to_a_simmer._cook_5_to_8_minutes_or_until_the_fish_is_cooked_through.in_a_bowl_mix_t.png\"\n"
          ]
        },
        {
          "output_type": "display_data",
          "data": {
            "text/plain": [
              "<IPython.core.display.Image object>"
            ],
            "image/png": "./fish_and_remove_half_of_the_satay_for_serving._add_about_1_cup_of_the_broth_to_the_remaining_satay_in_the_skillet_and_bring_to_a_simmer._cook_5_to_8_minutes,_or_until_the_fish_is_cooked_through.in_a_bowl,_mix_t.png"
          },
          "metadata": {}
        },
        {
          "output_type": "stream",
          "name": "stdout",
          "text": [
            "image updated at \"./fish_and_remove_half_of_the_satay_for_serving._add_about_1_cup_of_the_broth_to_the_remaining_satay_in_the_skillet_and_bring_to_a_simmer._cook_5_to_8_minutes_or_until_the_fish_is_cooked_through.in_a_bowl_mix_t.png\"\n",
            "setting seed of 0\n",
            "you can override this with --seed argument in the command line, or --random for a randomly chosen one\n"
          ]
        },
        {
          "output_type": "display_data",
          "data": {
            "text/plain": [
              "epochs:   0%|          | 0/1 [00:00<?, ?it/s]"
            ],
            "application/vnd.jupyter.widget-view+json": {
              "version_major": 2,
              "version_minor": 0,
              "model_id": "6c8578044b984b0787bb911e1d137fb7"
            }
          },
          "metadata": {}
        },
        {
          "output_type": "display_data",
          "data": {
            "text/plain": [
              "iteration:   0%|          | 0/300 [00:00<?, ?it/s]"
            ],
            "application/vnd.jupyter.widget-view+json": {
              "version_major": 2,
              "version_minor": 0,
              "model_id": "4945acf474774573b6ffcf09b1e45677"
            }
          },
          "metadata": {}
        },
        {
          "output_type": "stream",
          "name": "stdout",
          "text": [
            "image updated at \"./meat_and_add_the_remaining_teaspoon_of_cumin._heat_the_taco_shells_according_to_the_directions_then_assemble_placing_14_cup_beef_in_each_shell_topped_with_lettuce_1_tablespoon_cheese_and_tomato._instead_of.png\"\n"
          ]
        },
        {
          "output_type": "display_data",
          "data": {
            "text/plain": [
              "<IPython.core.display.Image object>"
            ],
            "image/png": "./meat_and_add_the_remaining_teaspoon_of_cumin.,_heat_the_taco_shells_according_to_the_directions,_then_assemble_placing_14_cup_beef_in_each_shell,_topped_with_lettuce,_1_tablespoon_cheese_and_tomato.,_instead_of.png"
          },
          "metadata": {}
        },
        {
          "output_type": "stream",
          "name": "stdout",
          "text": [
            "image updated at \"./meat_and_add_the_remaining_teaspoon_of_cumin._heat_the_taco_shells_according_to_the_directions_then_assemble_placing_14_cup_beef_in_each_shell_topped_with_lettuce_1_tablespoon_cheese_and_tomato._instead_of.png\"\n"
          ]
        },
        {
          "output_type": "display_data",
          "data": {
            "text/plain": [
              "<IPython.core.display.Image object>"
            ],
            "image/png": "./meat_and_add_the_remaining_teaspoon_of_cumin.,_heat_the_taco_shells_according_to_the_directions,_then_assemble_placing_14_cup_beef_in_each_shell,_topped_with_lettuce,_1_tablespoon_cheese_and_tomato.,_instead_of.png"
          },
          "metadata": {}
        },
        {
          "output_type": "stream",
          "name": "stdout",
          "text": [
            "image updated at \"./meat_and_add_the_remaining_teaspoon_of_cumin._heat_the_taco_shells_according_to_the_directions_then_assemble_placing_14_cup_beef_in_each_shell_topped_with_lettuce_1_tablespoon_cheese_and_tomato._instead_of.png\"\n",
            "setting seed of 0\n",
            "you can override this with --seed argument in the command line, or --random for a randomly chosen one\n"
          ]
        },
        {
          "output_type": "display_data",
          "data": {
            "text/plain": [
              "epochs:   0%|          | 0/1 [00:00<?, ?it/s]"
            ],
            "application/vnd.jupyter.widget-view+json": {
              "version_major": 2,
              "version_minor": 0,
              "model_id": "a926e153b7614a41a585cd6ca6626a79"
            }
          },
          "metadata": {}
        },
        {
          "output_type": "display_data",
          "data": {
            "text/plain": [
              "iteration:   0%|          | 0/300 [00:00<?, ?it/s]"
            ],
            "application/vnd.jupyter.widget-view+json": {
              "version_major": 2,
              "version_minor": 0,
              "model_id": "a5c875d5a3f24e3c806363dfe9c4ac46"
            }
          },
          "metadata": {}
        },
        {
          "output_type": "stream",
          "name": "stdout",
          "text": [
            "image updated at \"./chicken_and_bring_to_a_boil_then_partially_cover_simmer_on_low_30_minutes._meanwhile_cook_cavatella_in_a_small_bowl_and_lay_out_the_plantains_with_the_other_tortilla._cheese_should_be_melted_and_the_bottom.png\"\n"
          ]
        },
        {
          "output_type": "display_data",
          "data": {
            "text/plain": [
              "<IPython.core.display.Image object>"
            ],
            "image/png": "./chicken_and_bring_to_a_boil,_then_partially_cover,_simmer_on_low_30_minutes.,_meanwhile,_cook_cavatella_in_a_small_bowl_and_lay_out_the_plantains_with_the_other_tortilla.,_cheese_should_be_melted_and_the_bottom.png"
          },
          "metadata": {}
        },
        {
          "output_type": "stream",
          "name": "stdout",
          "text": [
            "image updated at \"./chicken_and_bring_to_a_boil_then_partially_cover_simmer_on_low_30_minutes._meanwhile_cook_cavatella_in_a_small_bowl_and_lay_out_the_plantains_with_the_other_tortilla._cheese_should_be_melted_and_the_bottom.png\"\n"
          ]
        },
        {
          "output_type": "display_data",
          "data": {
            "text/plain": [
              "<IPython.core.display.Image object>"
            ],
            "image/png": "./chicken_and_bring_to_a_boil,_then_partially_cover,_simmer_on_low_30_minutes.,_meanwhile,_cook_cavatella_in_a_small_bowl_and_lay_out_the_plantains_with_the_other_tortilla.,_cheese_should_be_melted_and_the_bottom.png"
          },
          "metadata": {}
        },
        {
          "output_type": "stream",
          "name": "stdout",
          "text": [
            "image updated at \"./chicken_and_bring_to_a_boil_then_partially_cover_simmer_on_low_30_minutes._meanwhile_cook_cavatella_in_a_small_bowl_and_lay_out_the_plantains_with_the_other_tortilla._cheese_should_be_melted_and_the_bottom.png\"\n"
          ]
        }
      ]
    },
    {
      "cell_type": "code",
      "source": [
        "# Reminder\n",
        "# You may also visit my GitHub https://github.com/enesbasbug/Food_Recipe_Generator \n",
        "# repository to see many texts/images/gifs examples of my project."
      ],
      "metadata": {
        "id": "yyhTgEijtUTV"
      },
      "execution_count": null,
      "outputs": []
    },
    {
      "cell_type": "code",
      "source": [
        "print('Thank you!')"
      ],
      "metadata": {
        "id": "KL8d_runDeDV",
        "colab": {
          "base_uri": "https://localhost:8080/"
        },
        "outputId": "36ff9aff-6ac8-4e5a-dc87-0f1ccfad80dd"
      },
      "execution_count": null,
      "outputs": [
        {
          "output_type": "stream",
          "name": "stdout",
          "text": [
            "Thank you!\n"
          ]
        }
      ]
    },
    {
      "cell_type": "code",
      "source": [
        ""
      ],
      "metadata": {
        "id": "p-xCRVt1SvjH"
      },
      "execution_count": null,
      "outputs": []
    }
  ]
}